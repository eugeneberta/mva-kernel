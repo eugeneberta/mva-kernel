{
 "cells": [
  {
   "cell_type": "code",
   "execution_count": 1,
   "metadata": {},
   "outputs": [],
   "source": [
    "import pickle \n",
    "from networkx import draw_networkx_nodes, draw_networkx_edges, draw_networkx\n",
    "import matplotlib.pyplot as plt\n",
    "import numpy as np\n",
    "import copy\n",
    "import json\n",
    "import time"
   ]
  },
  {
   "cell_type": "code",
   "execution_count": 2,
   "metadata": {},
   "outputs": [],
   "source": [
    "training_data_path = 'data/training_data.pkl'\n",
    "test_data_path = 'data/test_data.pkl'\n",
    "training_labels_path = 'data/training_labels.pkl'"
   ]
  },
  {
   "cell_type": "code",
   "execution_count": 3,
   "metadata": {},
   "outputs": [],
   "source": [
    "with open(training_data_path, 'rb') as f :\n",
    "    training_data = pickle.load(f)\n",
    "\n",
    "with open(training_labels_path, 'rb') as f :\n",
    "    training_labels = pickle.load(f)\n",
    "\n",
    "with open(test_data_path, 'rb') as f :\n",
    "    test_data = pickle.load(f)"
   ]
  },
  {
   "cell_type": "code",
   "execution_count": 4,
   "metadata": {},
   "outputs": [
    {
     "name": "stdout",
     "output_type": "stream",
     "text": [
      "<class 'list'>\n",
      "6000\n"
     ]
    }
   ],
   "source": [
    "print(type(training_data))\n",
    "print(len(training_data))"
   ]
  },
  {
   "attachments": {},
   "cell_type": "markdown",
   "metadata": {},
   "source": [
    "### Slight overview on nodes"
   ]
  },
  {
   "cell_type": "code",
   "execution_count": 5,
   "metadata": {},
   "outputs": [
    {
     "name": "stdout",
     "output_type": "stream",
     "text": [
      "[0, 1, 2, 3, 4, 5, 6, 7, 8, 9, 10, 11, 12, 13, 14, 15]\n",
      "1-1-2-0-0-1-1-1-1-1-1-1-1-1-1-1-"
     ]
    }
   ],
   "source": [
    "first_mol = training_data[0]\n",
    "print(first_mol.nodes)\n",
    "\n",
    "for atom in first_mol.nodes :\n",
    "    print(first_mol.nodes[atom]['labels'][0], end='-')"
   ]
  },
  {
   "cell_type": "code",
   "execution_count": 6,
   "metadata": {},
   "outputs": [
    {
     "name": "stdout",
     "output_type": "stream",
     "text": [
      "[0, 1, 2, 3, 4, 5, 6, 7, 8, 9, 10, 11, 12, 13, 14, 15, 16, 17, 18, 19, 20, 21, 22, 23]\n",
      "1-1-1-1-2-1-1-1-1-1-1-1-2-2-1-1-1-1-1-1-1-1-1-4-"
     ]
    }
   ],
   "source": [
    "second_mol = training_data[1]\n",
    "print(second_mol.nodes)\n",
    "\n",
    "for atom in second_mol.nodes :\n",
    "    print(second_mol.nodes[atom]['labels'][0], end='-')"
   ]
  },
  {
   "cell_type": "code",
   "execution_count": 7,
   "metadata": {},
   "outputs": [
    {
     "name": "stdout",
     "output_type": "stream",
     "text": [
      "0-th molecule composed of 16 atoms.\n",
      "1-1-2-0-0-1-1-1-1-1-1-1-1-1-1-1-\n",
      " ------------\n",
      "1-th molecule composed of 24 atoms.\n",
      "1-1-2-0-0-1-1-1-1-1-1-1-1-1-1-1-\n",
      " ------------\n",
      "2-th molecule composed of 18 atoms.\n",
      "1-1-2-0-0-1-1-1-1-1-1-1-1-1-1-1-\n",
      " ------------\n",
      "3-th molecule composed of 33 atoms.\n",
      "1-1-2-0-0-1-1-1-1-1-1-1-1-1-1-1-\n",
      " ------------\n",
      "4-th molecule composed of 32 atoms.\n",
      "1-1-2-0-0-1-1-1-1-1-1-1-1-1-1-1-\n",
      " ------------\n"
     ]
    }
   ],
   "source": [
    "N_preview = 5\n",
    "\n",
    "for i in range(N_preview) :\n",
    "    \n",
    "    mol = training_data[i]\n",
    "    print(f'{i}-th molecule composed of {len(mol.nodes)} atoms.')\n",
    "\n",
    "    for atom in first_mol.nodes :\n",
    "        print(first_mol.nodes[atom]['labels'][0], end='-')\n",
    "    print('\\n ------------')"
   ]
  },
  {
   "cell_type": "code",
   "execution_count": 8,
   "metadata": {},
   "outputs": [],
   "source": [
    "atom_dict = {k:0 for k in range(50)}\n"
   ]
  },
  {
   "cell_type": "code",
   "execution_count": 9,
   "metadata": {},
   "outputs": [],
   "source": [
    "molecule_length = []\n",
    "\n",
    "for i in range(len(training_data)) :\n",
    "    \n",
    "    mol = training_data[i]\n",
    "    molecule_length.append(len(mol.nodes))\n",
    "\n",
    "    for atom in mol.nodes :\n",
    "        atom_type = mol.nodes[atom]['labels'][0]\n",
    "        atom_dict[atom_type]+=1"
   ]
  },
  {
   "cell_type": "code",
   "execution_count": 10,
   "metadata": {},
   "outputs": [
    {
     "data": {
      "image/png": "[encoded data removed]",
      "text/plain": [
       "<Figure size 432x288 with 1 Axes>"
      ]
     },
     "metadata": {
      "needs_background": "light"
     },
     "output_type": "display_data"
    }
   ],
   "source": [
    "plt.hist(molecule_length, width=0.8, bins=15, align='mid')\n",
    "plt.title('Distribution of molecule length in training dataset')\n",
    "plt.xlabel('length')\n",
    "plt.show()\n"
   ]
  },
  {
   "cell_type": "code",
   "execution_count": 11,
   "metadata": {},
   "outputs": [
    {
     "name": "stdout",
     "output_type": "stream",
     "text": [
      "16.140333333333334\n",
      "14.0\n",
      "10.0\n",
      "20.0\n"
     ]
    }
   ],
   "source": [
    "print(np.mean(molecule_length))\n",
    "print(np.median(molecule_length))\n",
    "print(np.quantile(molecule_length, 0.25))\n",
    "print(np.quantile(molecule_length, 0.75))"
   ]
  },
  {
   "cell_type": "code",
   "execution_count": 12,
   "metadata": {},
   "outputs": [
    {
     "name": "stdout",
     "output_type": "stream",
     "text": [
      "{0: 15755, 1: 68731, 2: 6900, 3: 1014, 4: 1893, 5: 1316, 6: 277, 7: 98, 8: 293, 9: 106, 10: 0, 11: 25, 12: 36, 13: 239, 14: 1, 15: 7, 16: 8, 17: 20, 18: 1, 19: 6, 20: 0, 21: 11, 22: 3, 23: 2, 24: 3, 25: 1, 26: 3, 27: 4, 28: 38, 29: 0, 30: 1, 31: 5, 32: 9, 33: 7, 34: 3, 35: 1, 36: 1, 37: 4, 38: 1, 39: 4, 40: 1, 41: 3, 42: 1, 43: 1, 44: 3, 45: 2, 46: 1, 47: 1, 48: 1, 49: 1}\n"
     ]
    }
   ],
   "source": [
    "print(atom_dict)"
   ]
  },
  {
   "cell_type": "code",
   "execution_count": 13,
   "metadata": {},
   "outputs": [
    {
     "data": {
      "image/png": "[encoded data removed]",
      "text/plain": [
       "<Figure size 432x288 with 1 Axes>"
      ]
     },
     "metadata": {
      "needs_background": "light"
     },
     "output_type": "display_data"
    }
   ],
   "source": [
    "plt.bar(atom_dict.keys(), atom_dict.values(), width= 0.7, align='center')\n",
    "plt.title('Distribution of the atom types across the training dataset')\n",
    "plt.show()"
   ]
  },
  {
   "cell_type": "code",
   "execution_count": 14,
   "metadata": {},
   "outputs": [
    {
     "data": {
      "image/png": "[encoded data removed]",
      "text/plain": [
       "<Figure size 432x288 with 1 Axes>"
      ]
     },
     "metadata": {
      "needs_background": "light"
     },
     "output_type": "display_data"
    }
   ],
   "source": [
    "tail_atom_dict = atom_dict\n",
    "del tail_atom_dict[0]\n",
    "del tail_atom_dict[1]\n",
    "del tail_atom_dict[2]\n",
    "plt.bar(tail_atom_dict.keys(), tail_atom_dict.values(), width= 0.7, align='center')\n",
    "plt.title('Distribution of the atom types (without type 0,1,2) across the training dataset')\n",
    "plt.show()"
   ]
  },
  {
   "cell_type": "code",
   "execution_count": 15,
   "metadata": {},
   "outputs": [
    {
     "name": "stdout",
     "output_type": "stream",
     "text": [
      "47-4-4-4-\n",
      "\n",
      "0-48-0-0-\n",
      "\n",
      "1-1-1-1-1-1-4-49-\n",
      "\n"
     ]
    }
   ],
   "source": [
    "# Check structure of molecule containing atom #47-48-49\n",
    "for i in range(len(training_data)) :\n",
    "    \n",
    "    mol = training_data[i]\n",
    "\n",
    "    for atom in mol.nodes :\n",
    "        atom_type = mol.nodes[atom]['labels'][0]\n",
    "        if atom_type in [47,48,49] :\n",
    "            for atom in mol.nodes :\n",
    "                print(mol.nodes[atom]['labels'][0], end='-')\n",
    "            print('\\n')"
   ]
  },
  {
   "attachments": {},
   "cell_type": "markdown",
   "metadata": {},
   "source": [
    "### Slight overview on edges"
   ]
  },
  {
   "cell_type": "code",
   "execution_count": 16,
   "metadata": {},
   "outputs": [
    {
     "name": "stdout",
     "output_type": "stream",
     "text": [
      "{0: 60228, 1: 8812, 2: 28308, 3: 238}\n",
      "77\n"
     ]
    }
   ],
   "source": [
    "edges_dict = {k:0 for k in range(4)}\n",
    "\n",
    "for i in range(len(training_data)) :\n",
    "    \n",
    "    mol = training_data[i]\n",
    "    mol_length = len(mol.nodes)\n",
    "\n",
    "    edge_list = [(i,j) for i in range(mol_length) for j in range(i+1, mol_length)]\n",
    "\n",
    "    number_error = 0\n",
    "\n",
    "    for edge in edge_list :\n",
    "            try :\n",
    "                edge_type = mol.edges[edge[0],edge[1]]['labels'][0]\n",
    "                # edges_dict[edge_type] = edges_dict.get(edge_type, 0) + 1\n",
    "                edges_dict[edge_type] += 1\n",
    "            except KeyError as e :\n",
    "                number_error += 1\n",
    "\n",
    "print(edges_dict)\n",
    "print(number_error)"
   ]
  },
  {
   "cell_type": "code",
   "execution_count": 17,
   "metadata": {},
   "outputs": [
    {
     "name": "stdout",
     "output_type": "stream",
     "text": [
      "In the training set, 0.079% of atom bonds do not exist\n"
     ]
    }
   ],
   "source": [
    "print(f'In the training set, {100*number_error/(sum(edges_dict.values())+number_error):.3f}% of atom bonds do not exist')"
   ]
  },
  {
   "attachments": {},
   "cell_type": "markdown",
   "metadata": {},
   "source": [
    "### Discovering labels of training data"
   ]
  },
  {
   "cell_type": "code",
   "execution_count": 18,
   "metadata": {},
   "outputs": [
    {
     "name": "stdout",
     "output_type": "stream",
     "text": [
      "<class 'numpy.ndarray'>\n",
      "6000\n",
      "{0, 1}\n"
     ]
    }
   ],
   "source": [
    "print(type(training_labels))\n",
    "print(len(training_labels))\n",
    "print(set(training_labels))"
   ]
  },
  {
   "cell_type": "code",
   "execution_count": 19,
   "metadata": {},
   "outputs": [
    {
     "name": "stdout",
     "output_type": "stream",
     "text": [
      "555/6000 are positive graphs.\n"
     ]
    }
   ],
   "source": [
    "print(f\"{np.sum(training_labels)}/{len(training_labels)} are positive graphs.\")"
   ]
  },
  {
   "cell_type": "code",
   "execution_count": 20,
   "metadata": {},
   "outputs": [],
   "source": [
    "def get_all_atom_types(G) :\n",
    "\n",
    "    atom_types = {}\n",
    "    for k in G.nodes :\n",
    "        atom_types[k] = G.nodes[k]['labels'][0]\n",
    "\n",
    "    return atom_types\n",
    "\n",
    "\n",
    "def get_atom_type(G, vertex_id) :\n",
    "\n",
    "    return G.nodes[vertex_id]['labels'][0]\n",
    "\n",
    "\n",
    "\n",
    "def get_neighbors_id(G, vertex_id) :\n",
    "\n",
    "    L = []\n",
    "    neighbored_edges = [k for k in G.edges if vertex_id in k]\n",
    "\n",
    "    for edge in neighbored_edges :\n",
    "\n",
    "        if edge[0] != vertex_id :\n",
    "            L.append(edge[0])\n",
    "        else : \n",
    "            L.append(edge[1])\n",
    "\n",
    "    return L\n",
    "\n",
    "\n",
    "def sorted_neighbors_id(G, vertex_id, pattern_dict) :\n",
    "\n",
    "    \"\"\" \n",
    "    Returns a dict {neighbors id: neighbors label} sorted by their label\n",
    "\n",
    "    \"\"\"\n",
    "    # Define random but fixed order for labels\n",
    "    unique_pattern_order = list(pattern_dict.keys())\n",
    "\n",
    "    # Get a dict of neighbors_id with their label and order it according to the label order ahead\n",
    "    neighbors_id = get_neighbors_id(G, vertex_id)\n",
    "    neighbors_dict = {k:str(get_atom_type(G,k)) for k in neighbors_id}\n",
    "\n",
    "    neighbors_dict_sorted = dict(sorted(neighbors_dict.items(), key=lambda item: unique_pattern_order.index(item[1])))\n",
    "\n",
    "    return neighbors_dict_sorted\n",
    "\n",
    "\n",
    "def WL(Graph, max_iter, verbose=False) :\n",
    "\n",
    "    G = copy.deepcopy(Graph)\n",
    "\n",
    "    \n",
    "    feature_vector = {}\n",
    "\n",
    "    # Initialize feature vector with initial labels\n",
    "    atom_types = get_all_atom_types(G)\n",
    "    atom_types_set = set(atom_types.values())\n",
    "\n",
    "    pattern_dict = {str(pattern):list(atom_types.values()).count(pattern) for pattern in atom_types_set}\n",
    "    old_pattern_dict_length = len(pattern_dict)\n",
    "    feature_vector.update(pattern_dict)\n",
    "\n",
    "    if verbose : \n",
    "        print('Pattern dict', pattern_dict)\n",
    "\n",
    "    # Start iterations\n",
    "    for iter in range(1, max_iter+1) :\n",
    "        \n",
    "        pattern_type = [] \n",
    "\n",
    "        for vertex_id in G.nodes :\n",
    "            \n",
    "            # Get vertex label\n",
    "            vertex_type = get_atom_type(G, vertex_id)\n",
    "            \n",
    "            # Identify neighbors of current vertex\n",
    "            neighbors_id = sorted_neighbors_id(G, vertex_id, pattern_dict)\n",
    "            \n",
    "            # Identify patterns and fill exhaustively pattern list (with potentially repetition)\n",
    "            pattern = f'{vertex_type}' + iter*'-' + '>'\n",
    "            for neighbor in neighbors_id :\n",
    "                pattern += str(get_atom_type(G, neighbor))\n",
    "                pattern += (iter-1)*' '\n",
    "            \n",
    "            pattern_type.append(pattern)\n",
    "\n",
    "        for k in range(len(pattern_type)) :\n",
    "\n",
    "            # Change vertex label (relabelling)\n",
    "            G.nodes[k]['labels'][0] = pattern_type[k]\n",
    "\n",
    "        # Count unique patterns  \n",
    "        pattern_dict = {k:pattern_type.count(k) for k in set(pattern_type)}\n",
    "        assert sum(pattern_dict.values()) == len(G.nodes)\n",
    "        \n",
    "  \n",
    "        # Stop algorithm if iteration doesn't add information\n",
    "        if len(pattern_dict) == old_pattern_dict_length :\n",
    "            break\n",
    "        else :\n",
    "            old_pattern_dict_length = len(pattern_dict)\n",
    "            # Update feature vector\n",
    "            feature_vector.update(pattern_dict)  \n",
    "        \n",
    "        if verbose :\n",
    "            print(f'Iteration {iter} finished !')\n",
    "            print('Pattern dict', pattern_dict)\n",
    "            print('Length of pattern dict', len(pattern_dict))\n",
    "            print('Feature_vector', feature_vector)\n",
    "\n",
    "    return feature_vector\n",
    "\n",
    "\n",
    "def liner_kernel(fv1, fv2) :\n",
    "\n",
    "    \"\"\"\n",
    "    Given two WL embeddings of graph, compute their similarity as the dot product (hence linear kernel)\n",
    "    ! WARNING ! : only the common patterns are taken into account for this dot product.\n",
    "\n",
    "    \"\"\"\n",
    "    s = 0\n",
    "    for k in fv1 : \n",
    "        if k in fv2 : \n",
    "            s += fv1[k]*fv2[k]\n",
    "    \n",
    "    return s"
   ]
  },
  {
   "cell_type": "code",
   "execution_count": 21,
   "metadata": {},
   "outputs": [
    {
     "name": "stdout",
     "output_type": "stream",
     "text": [
      "Pattern dict {'0': 2, '1': 13, '2': 1}\n",
      "Iteration 1 finished !\n",
      "Pattern dict {'2->111': 1, '1->11': 4, '1->011': 2, '1->12': 3, '0->11': 2, '1->1': 2, '1->01': 1, '1->0': 1}\n",
      "Length of pattern dict 8\n",
      "Feature_vector {'0': 2, '1': 13, '2': 1, '2->111': 1, '1->11': 4, '1->011': 2, '1->12': 3, '0->11': 2, '1->1': 2, '1->01': 1, '1->0': 1}\n",
      "Iteration 2 finished !\n",
      "Pattern dict {'1->011-->1->11 1->011 0->11 ': 2, '1->1-->1->12 ': 2, '1->01-->1->12 0->11 ': 1, '1->11-->1->11 1->011 ': 2, '1->12-->2->111 1->1 ': 2, '1->11-->1->11 1->11 ': 2, '1->12-->2->111 1->01 ': 1, '0->11-->1->011 1->01 ': 1, '2->111-->1->12 1->12 1->12 ': 1, '1->0-->0->11 ': 1, '0->11-->1->011 1->0 ': 1}\n",
      "Length of pattern dict 11\n",
      "Feature_vector {'0': 2, '1': 13, '2': 1, '2->111': 1, '1->11': 4, '1->011': 2, '1->12': 3, '0->11': 2, '1->1': 2, '1->01': 1, '1->0': 1, '1->011-->1->11 1->011 0->11 ': 2, '1->1-->1->12 ': 2, '1->01-->1->12 0->11 ': 1, '1->11-->1->11 1->011 ': 2, '1->12-->2->111 1->1 ': 2, '1->11-->1->11 1->11 ': 2, '1->12-->2->111 1->01 ': 1, '0->11-->1->011 1->01 ': 1, '2->111-->1->12 1->12 1->12 ': 1, '1->0-->0->11 ': 1, '0->11-->1->011 1->0 ': 1}\n",
      "Iteration 3 finished !\n",
      "Pattern dict {'1->12-->2->111 1->1 --->1->1-->1->12   2->111-->1->12 1->12 1->12   ': 2, '0->11-->1->011 1->01 --->1->011-->1->11 1->011 0->11   1->01-->1->12 0->11   ': 1, '1->12-->2->111 1->01 --->1->01-->1->12 0->11   2->111-->1->12 1->12 1->12   ': 1, '1->1-->1->12 --->1->12-->2->111 1->1   ': 2, '1->11-->1->11 1->11 --->1->11-->1->11 1->011   1->11-->1->11 1->11   ': 2, '1->011-->1->11 1->011 0->11 --->1->011-->1->11 1->011 0->11   1->11-->1->11 1->011   0->11-->1->011 1->0   ': 1, '2->111-->1->12 1->12 1->12 --->1->12-->2->111 1->1   1->12-->2->111 1->1   1->12-->2->111 1->01   ': 1, '1->011-->1->11 1->011 0->11 --->1->011-->1->11 1->011 0->11   1->11-->1->11 1->011   0->11-->1->011 1->01   ': 1, '1->11-->1->11 1->011 --->1->011-->1->11 1->011 0->11   1->11-->1->11 1->11   ': 2, '1->0-->0->11 --->0->11-->1->011 1->0   ': 1, '1->01-->1->12 0->11 --->1->12-->2->111 1->01   0->11-->1->011 1->01   ': 1, '0->11-->1->011 1->0 --->1->011-->1->11 1->011 0->11   1->0-->0->11   ': 1}\n",
      "Length of pattern dict 12\n",
      "Feature_vector {'0': 2, '1': 13, '2': 1, '2->111': 1, '1->11': 4, '1->011': 2, '1->12': 3, '0->11': 2, '1->1': 2, '1->01': 1, '1->0': 1, '1->011-->1->11 1->011 0->11 ': 2, '1->1-->1->12 ': 2, '1->01-->1->12 0->11 ': 1, '1->11-->1->11 1->011 ': 2, '1->12-->2->111 1->1 ': 2, '1->11-->1->11 1->11 ': 2, '1->12-->2->111 1->01 ': 1, '0->11-->1->011 1->01 ': 1, '2->111-->1->12 1->12 1->12 ': 1, '1->0-->0->11 ': 1, '0->11-->1->011 1->0 ': 1, '1->12-->2->111 1->1 --->1->1-->1->12   2->111-->1->12 1->12 1->12   ': 2, '0->11-->1->011 1->01 --->1->011-->1->11 1->011 0->11   1->01-->1->12 0->11   ': 1, '1->12-->2->111 1->01 --->1->01-->1->12 0->11   2->111-->1->12 1->12 1->12   ': 1, '1->1-->1->12 --->1->12-->2->111 1->1   ': 2, '1->11-->1->11 1->11 --->1->11-->1->11 1->011   1->11-->1->11 1->11   ': 2, '1->011-->1->11 1->011 0->11 --->1->011-->1->11 1->011 0->11   1->11-->1->11 1->011   0->11-->1->011 1->0   ': 1, '2->111-->1->12 1->12 1->12 --->1->12-->2->111 1->1   1->12-->2->111 1->1   1->12-->2->111 1->01   ': 1, '1->011-->1->11 1->011 0->11 --->1->011-->1->11 1->011 0->11   1->11-->1->11 1->011   0->11-->1->011 1->01   ': 1, '1->11-->1->11 1->011 --->1->011-->1->11 1->011 0->11   1->11-->1->11 1->11   ': 2, '1->0-->0->11 --->0->11-->1->011 1->0   ': 1, '1->01-->1->12 0->11 --->1->12-->2->111 1->01   0->11-->1->011 1->01   ': 1, '0->11-->1->011 1->0 --->1->011-->1->11 1->011 0->11   1->0-->0->11   ': 1}\n",
      "Iteration 4 finished !\n",
      "Pattern dict {'1->12-->2->111 1->01 --->1->01-->1->12 0->11   2->111-->1->12 1->12 1->12   ---->2->111-->1->12 1->12 1->12 --->1->12-->2->111 1->1   1->12-->2->111 1->1   1->12-->2->111 1->01      1->01-->1->12 0->11 --->1->12-->2->111 1->01   0->11-->1->011 1->01      ': 1, '1->011-->1->11 1->011 0->11 --->1->011-->1->11 1->011 0->11   1->11-->1->11 1->011   0->11-->1->011 1->01   ---->0->11-->1->011 1->01 --->1->011-->1->11 1->011 0->11   1->01-->1->12 0->11      1->011-->1->11 1->011 0->11 --->1->011-->1->11 1->011 0->11   1->11-->1->11 1->011   0->11-->1->011 1->0      1->11-->1->11 1->011 --->1->011-->1->11 1->011 0->11   1->11-->1->11 1->11      ': 1, '1->1-->1->12 --->1->12-->2->111 1->1   ---->1->12-->2->111 1->1 --->1->1-->1->12   2->111-->1->12 1->12 1->12      ': 2, '1->011-->1->11 1->011 0->11 --->1->011-->1->11 1->011 0->11   1->11-->1->11 1->011   0->11-->1->011 1->0   ---->1->011-->1->11 1->011 0->11 --->1->011-->1->11 1->011 0->11   1->11-->1->11 1->011   0->11-->1->011 1->01      1->11-->1->11 1->011 --->1->011-->1->11 1->011 0->11   1->11-->1->11 1->11      0->11-->1->011 1->0 --->1->011-->1->11 1->011 0->11   1->0-->0->11      ': 1, '1->11-->1->11 1->011 --->1->011-->1->11 1->011 0->11   1->11-->1->11 1->11   ---->1->11-->1->11 1->11 --->1->11-->1->11 1->011   1->11-->1->11 1->11      1->011-->1->11 1->011 0->11 --->1->011-->1->11 1->011 0->11   1->11-->1->11 1->011   0->11-->1->011 1->01      ': 1, '1->12-->2->111 1->1 --->1->1-->1->12   2->111-->1->12 1->12 1->12   ---->1->1-->1->12 --->1->12-->2->111 1->1      2->111-->1->12 1->12 1->12 --->1->12-->2->111 1->1   1->12-->2->111 1->1   1->12-->2->111 1->01      ': 2, '0->11-->1->011 1->01 --->1->011-->1->11 1->011 0->11   1->01-->1->12 0->11   ---->1->011-->1->11 1->011 0->11 --->1->011-->1->11 1->011 0->11   1->11-->1->11 1->011   0->11-->1->011 1->01      1->01-->1->12 0->11 --->1->12-->2->111 1->01   0->11-->1->011 1->01      ': 1, '2->111-->1->12 1->12 1->12 --->1->12-->2->111 1->1   1->12-->2->111 1->1   1->12-->2->111 1->01   ---->1->12-->2->111 1->1 --->1->1-->1->12   2->111-->1->12 1->12 1->12      1->12-->2->111 1->1 --->1->1-->1->12   2->111-->1->12 1->12 1->12      1->12-->2->111 1->01 --->1->01-->1->12 0->11   2->111-->1->12 1->12 1->12      ': 1, '0->11-->1->011 1->0 --->1->011-->1->11 1->011 0->11   1->0-->0->11   ---->1->011-->1->11 1->011 0->11 --->1->011-->1->11 1->011 0->11   1->11-->1->11 1->011   0->11-->1->011 1->0      1->0-->0->11 --->0->11-->1->011 1->0      ': 1, '1->01-->1->12 0->11 --->1->12-->2->111 1->01   0->11-->1->011 1->01   ---->0->11-->1->011 1->01 --->1->011-->1->11 1->011 0->11   1->01-->1->12 0->11      1->12-->2->111 1->01 --->1->01-->1->12 0->11   2->111-->1->12 1->12 1->12      ': 1, '1->11-->1->11 1->011 --->1->011-->1->11 1->011 0->11   1->11-->1->11 1->11   ---->1->11-->1->11 1->11 --->1->11-->1->11 1->011   1->11-->1->11 1->11      1->011-->1->11 1->011 0->11 --->1->011-->1->11 1->011 0->11   1->11-->1->11 1->011   0->11-->1->011 1->0      ': 1, '1->0-->0->11 --->0->11-->1->011 1->0   ---->0->11-->1->011 1->0 --->1->011-->1->11 1->011 0->11   1->0-->0->11      ': 1, '1->11-->1->11 1->11 --->1->11-->1->11 1->011   1->11-->1->11 1->11   ---->1->11-->1->11 1->11 --->1->11-->1->11 1->011   1->11-->1->11 1->11      1->11-->1->11 1->011 --->1->011-->1->11 1->011 0->11   1->11-->1->11 1->11      ': 2}\n",
      "Length of pattern dict 13\n",
      "Feature_vector {'0': 2, '1': 13, '2': 1, '2->111': 1, '1->11': 4, '1->011': 2, '1->12': 3, '0->11': 2, '1->1': 2, '1->01': 1, '1->0': 1, '1->011-->1->11 1->011 0->11 ': 2, '1->1-->1->12 ': 2, '1->01-->1->12 0->11 ': 1, '1->11-->1->11 1->011 ': 2, '1->12-->2->111 1->1 ': 2, '1->11-->1->11 1->11 ': 2, '1->12-->2->111 1->01 ': 1, '0->11-->1->011 1->01 ': 1, '2->111-->1->12 1->12 1->12 ': 1, '1->0-->0->11 ': 1, '0->11-->1->011 1->0 ': 1, '1->12-->2->111 1->1 --->1->1-->1->12   2->111-->1->12 1->12 1->12   ': 2, '0->11-->1->011 1->01 --->1->011-->1->11 1->011 0->11   1->01-->1->12 0->11   ': 1, '1->12-->2->111 1->01 --->1->01-->1->12 0->11   2->111-->1->12 1->12 1->12   ': 1, '1->1-->1->12 --->1->12-->2->111 1->1   ': 2, '1->11-->1->11 1->11 --->1->11-->1->11 1->011   1->11-->1->11 1->11   ': 2, '1->011-->1->11 1->011 0->11 --->1->011-->1->11 1->011 0->11   1->11-->1->11 1->011   0->11-->1->011 1->0   ': 1, '2->111-->1->12 1->12 1->12 --->1->12-->2->111 1->1   1->12-->2->111 1->1   1->12-->2->111 1->01   ': 1, '1->011-->1->11 1->011 0->11 --->1->011-->1->11 1->011 0->11   1->11-->1->11 1->011   0->11-->1->011 1->01   ': 1, '1->11-->1->11 1->011 --->1->011-->1->11 1->011 0->11   1->11-->1->11 1->11   ': 2, '1->0-->0->11 --->0->11-->1->011 1->0   ': 1, '1->01-->1->12 0->11 --->1->12-->2->111 1->01   0->11-->1->011 1->01   ': 1, '0->11-->1->011 1->0 --->1->011-->1->11 1->011 0->11   1->0-->0->11   ': 1, '1->12-->2->111 1->01 --->1->01-->1->12 0->11   2->111-->1->12 1->12 1->12   ---->2->111-->1->12 1->12 1->12 --->1->12-->2->111 1->1   1->12-->2->111 1->1   1->12-->2->111 1->01      1->01-->1->12 0->11 --->1->12-->2->111 1->01   0->11-->1->011 1->01      ': 1, '1->011-->1->11 1->011 0->11 --->1->011-->1->11 1->011 0->11   1->11-->1->11 1->011   0->11-->1->011 1->01   ---->0->11-->1->011 1->01 --->1->011-->1->11 1->011 0->11   1->01-->1->12 0->11      1->011-->1->11 1->011 0->11 --->1->011-->1->11 1->011 0->11   1->11-->1->11 1->011   0->11-->1->011 1->0      1->11-->1->11 1->011 --->1->011-->1->11 1->011 0->11   1->11-->1->11 1->11      ': 1, '1->1-->1->12 --->1->12-->2->111 1->1   ---->1->12-->2->111 1->1 --->1->1-->1->12   2->111-->1->12 1->12 1->12      ': 2, '1->011-->1->11 1->011 0->11 --->1->011-->1->11 1->011 0->11   1->11-->1->11 1->011   0->11-->1->011 1->0   ---->1->011-->1->11 1->011 0->11 --->1->011-->1->11 1->011 0->11   1->11-->1->11 1->011   0->11-->1->011 1->01      1->11-->1->11 1->011 --->1->011-->1->11 1->011 0->11   1->11-->1->11 1->11      0->11-->1->011 1->0 --->1->011-->1->11 1->011 0->11   1->0-->0->11      ': 1, '1->11-->1->11 1->011 --->1->011-->1->11 1->011 0->11   1->11-->1->11 1->11   ---->1->11-->1->11 1->11 --->1->11-->1->11 1->011   1->11-->1->11 1->11      1->011-->1->11 1->011 0->11 --->1->011-->1->11 1->011 0->11   1->11-->1->11 1->011   0->11-->1->011 1->01      ': 1, '1->12-->2->111 1->1 --->1->1-->1->12   2->111-->1->12 1->12 1->12   ---->1->1-->1->12 --->1->12-->2->111 1->1      2->111-->1->12 1->12 1->12 --->1->12-->2->111 1->1   1->12-->2->111 1->1   1->12-->2->111 1->01      ': 2, '0->11-->1->011 1->01 --->1->011-->1->11 1->011 0->11   1->01-->1->12 0->11   ---->1->011-->1->11 1->011 0->11 --->1->011-->1->11 1->011 0->11   1->11-->1->11 1->011   0->11-->1->011 1->01      1->01-->1->12 0->11 --->1->12-->2->111 1->01   0->11-->1->011 1->01      ': 1, '2->111-->1->12 1->12 1->12 --->1->12-->2->111 1->1   1->12-->2->111 1->1   1->12-->2->111 1->01   ---->1->12-->2->111 1->1 --->1->1-->1->12   2->111-->1->12 1->12 1->12      1->12-->2->111 1->1 --->1->1-->1->12   2->111-->1->12 1->12 1->12      1->12-->2->111 1->01 --->1->01-->1->12 0->11   2->111-->1->12 1->12 1->12      ': 1, '0->11-->1->011 1->0 --->1->011-->1->11 1->011 0->11   1->0-->0->11   ---->1->011-->1->11 1->011 0->11 --->1->011-->1->11 1->011 0->11   1->11-->1->11 1->011   0->11-->1->011 1->0      1->0-->0->11 --->0->11-->1->011 1->0      ': 1, '1->01-->1->12 0->11 --->1->12-->2->111 1->01   0->11-->1->011 1->01   ---->0->11-->1->011 1->01 --->1->011-->1->11 1->011 0->11   1->01-->1->12 0->11      1->12-->2->111 1->01 --->1->01-->1->12 0->11   2->111-->1->12 1->12 1->12      ': 1, '1->11-->1->11 1->011 --->1->011-->1->11 1->011 0->11   1->11-->1->11 1->11   ---->1->11-->1->11 1->11 --->1->11-->1->11 1->011   1->11-->1->11 1->11      1->011-->1->11 1->011 0->11 --->1->011-->1->11 1->011 0->11   1->11-->1->11 1->011   0->11-->1->011 1->0      ': 1, '1->0-->0->11 --->0->11-->1->011 1->0   ---->0->11-->1->011 1->0 --->1->011-->1->11 1->011 0->11   1->0-->0->11      ': 1, '1->11-->1->11 1->11 --->1->11-->1->11 1->011   1->11-->1->11 1->11   ---->1->11-->1->11 1->11 --->1->11-->1->11 1->011   1->11-->1->11 1->11      1->11-->1->11 1->011 --->1->011-->1->11 1->011 0->11   1->11-->1->11 1->11      ': 2}\n",
      "Iteration 5 finished !\n",
      "Pattern dict {'1->011-->1->11 1->011 0->11 --->1->011-->1->11 1->011 0->11   1->11-->1->11 1->011   0->11-->1->011 1->0   ---->1->011-->1->11 1->011 0->11 --->1->011-->1->11 1->011 0->11   1->11-->1->11 1->011   0->11-->1->011 1->01      1->11-->1->11 1->011 --->1->011-->1->11 1->011 0->11   1->11-->1->11 1->11      0->11-->1->011 1->0 --->1->011-->1->11 1->011 0->11   1->0-->0->11      ----->1->011-->1->11 1->011 0->11 --->1->011-->1->11 1->011 0->11   1->11-->1->11 1->011   0->11-->1->011 1->01   ---->0->11-->1->011 1->01 --->1->011-->1->11 1->011 0->11   1->01-->1->12 0->11      1->011-->1->11 1->011 0->11 --->1->011-->1->11 1->011 0->11   1->11-->1->11 1->011   0->11-->1->011 1->0      1->11-->1->11 1->011 --->1->011-->1->11 1->011 0->11   1->11-->1->11 1->11          0->11-->1->011 1->0 --->1->011-->1->11 1->011 0->11   1->0-->0->11   ---->1->011-->1->11 1->011 0->11 --->1->011-->1->11 1->011 0->11   1->11-->1->11 1->011   0->11-->1->011 1->0      1->0-->0->11 --->0->11-->1->011 1->0          1->11-->1->11 1->011 --->1->011-->1->11 1->011 0->11   1->11-->1->11 1->11   ---->1->11-->1->11 1->11 --->1->11-->1->11 1->011   1->11-->1->11 1->11      1->011-->1->11 1->011 0->11 --->1->011-->1->11 1->011 0->11   1->11-->1->11 1->011   0->11-->1->011 1->0          ': 1, '1->12-->2->111 1->01 --->1->01-->1->12 0->11   2->111-->1->12 1->12 1->12   ---->2->111-->1->12 1->12 1->12 --->1->12-->2->111 1->1   1->12-->2->111 1->1   1->12-->2->111 1->01      1->01-->1->12 0->11 --->1->12-->2->111 1->01   0->11-->1->011 1->01      ----->2->111-->1->12 1->12 1->12 --->1->12-->2->111 1->1   1->12-->2->111 1->1   1->12-->2->111 1->01   ---->1->12-->2->111 1->1 --->1->1-->1->12   2->111-->1->12 1->12 1->12      1->12-->2->111 1->1 --->1->1-->1->12   2->111-->1->12 1->12 1->12      1->12-->2->111 1->01 --->1->01-->1->12 0->11   2->111-->1->12 1->12 1->12          1->01-->1->12 0->11 --->1->12-->2->111 1->01   0->11-->1->011 1->01   ---->0->11-->1->011 1->01 --->1->011-->1->11 1->011 0->11   1->01-->1->12 0->11      1->12-->2->111 1->01 --->1->01-->1->12 0->11   2->111-->1->12 1->12 1->12          ': 1, '0->11-->1->011 1->01 --->1->011-->1->11 1->011 0->11   1->01-->1->12 0->11   ---->1->011-->1->11 1->011 0->11 --->1->011-->1->11 1->011 0->11   1->11-->1->11 1->011   0->11-->1->011 1->01      1->01-->1->12 0->11 --->1->12-->2->111 1->01   0->11-->1->011 1->01      ----->1->011-->1->11 1->011 0->11 --->1->011-->1->11 1->011 0->11   1->11-->1->11 1->011   0->11-->1->011 1->01   ---->0->11-->1->011 1->01 --->1->011-->1->11 1->011 0->11   1->01-->1->12 0->11      1->011-->1->11 1->011 0->11 --->1->011-->1->11 1->011 0->11   1->11-->1->11 1->011   0->11-->1->011 1->0      1->11-->1->11 1->011 --->1->011-->1->11 1->011 0->11   1->11-->1->11 1->11          1->01-->1->12 0->11 --->1->12-->2->111 1->01   0->11-->1->011 1->01   ---->0->11-->1->011 1->01 --->1->011-->1->11 1->011 0->11   1->01-->1->12 0->11      1->12-->2->111 1->01 --->1->01-->1->12 0->11   2->111-->1->12 1->12 1->12          ': 1, '1->01-->1->12 0->11 --->1->12-->2->111 1->01   0->11-->1->011 1->01   ---->0->11-->1->011 1->01 --->1->011-->1->11 1->011 0->11   1->01-->1->12 0->11      1->12-->2->111 1->01 --->1->01-->1->12 0->11   2->111-->1->12 1->12 1->12      ----->1->12-->2->111 1->01 --->1->01-->1->12 0->11   2->111-->1->12 1->12 1->12   ---->2->111-->1->12 1->12 1->12 --->1->12-->2->111 1->1   1->12-->2->111 1->1   1->12-->2->111 1->01      1->01-->1->12 0->11 --->1->12-->2->111 1->01   0->11-->1->011 1->01          0->11-->1->011 1->01 --->1->011-->1->11 1->011 0->11   1->01-->1->12 0->11   ---->1->011-->1->11 1->011 0->11 --->1->011-->1->11 1->011 0->11   1->11-->1->11 1->011   0->11-->1->011 1->01      1->01-->1->12 0->11 --->1->12-->2->111 1->01   0->11-->1->011 1->01          ': 1, '1->11-->1->11 1->11 --->1->11-->1->11 1->011   1->11-->1->11 1->11   ---->1->11-->1->11 1->11 --->1->11-->1->11 1->011   1->11-->1->11 1->11      1->11-->1->11 1->011 --->1->011-->1->11 1->011 0->11   1->11-->1->11 1->11      ----->1->11-->1->11 1->011 --->1->011-->1->11 1->011 0->11   1->11-->1->11 1->11   ---->1->11-->1->11 1->11 --->1->11-->1->11 1->011   1->11-->1->11 1->11      1->011-->1->11 1->011 0->11 --->1->011-->1->11 1->011 0->11   1->11-->1->11 1->011   0->11-->1->011 1->01          1->11-->1->11 1->11 --->1->11-->1->11 1->011   1->11-->1->11 1->11   ---->1->11-->1->11 1->11 --->1->11-->1->11 1->011   1->11-->1->11 1->11      1->11-->1->11 1->011 --->1->011-->1->11 1->011 0->11   1->11-->1->11 1->11          ': 1, '1->1-->1->12 --->1->12-->2->111 1->1   ---->1->12-->2->111 1->1 --->1->1-->1->12   2->111-->1->12 1->12 1->12      ----->1->12-->2->111 1->1 --->1->1-->1->12   2->111-->1->12 1->12 1->12   ---->1->1-->1->12 --->1->12-->2->111 1->1      2->111-->1->12 1->12 1->12 --->1->12-->2->111 1->1   1->12-->2->111 1->1   1->12-->2->111 1->01          ': 2, '1->11-->1->11 1->011 --->1->011-->1->11 1->011 0->11   1->11-->1->11 1->11   ---->1->11-->1->11 1->11 --->1->11-->1->11 1->011   1->11-->1->11 1->11      1->011-->1->11 1->011 0->11 --->1->011-->1->11 1->011 0->11   1->11-->1->11 1->011   0->11-->1->011 1->0      ----->1->011-->1->11 1->011 0->11 --->1->011-->1->11 1->011 0->11   1->11-->1->11 1->011   0->11-->1->011 1->0   ---->1->011-->1->11 1->011 0->11 --->1->011-->1->11 1->011 0->11   1->11-->1->11 1->011   0->11-->1->011 1->01      1->11-->1->11 1->011 --->1->011-->1->11 1->011 0->11   1->11-->1->11 1->11      0->11-->1->011 1->0 --->1->011-->1->11 1->011 0->11   1->0-->0->11          1->11-->1->11 1->11 --->1->11-->1->11 1->011   1->11-->1->11 1->11   ---->1->11-->1->11 1->11 --->1->11-->1->11 1->011   1->11-->1->11 1->11      1->11-->1->11 1->011 --->1->011-->1->11 1->011 0->11   1->11-->1->11 1->11          ': 1, '0->11-->1->011 1->0 --->1->011-->1->11 1->011 0->11   1->0-->0->11   ---->1->011-->1->11 1->011 0->11 --->1->011-->1->11 1->011 0->11   1->11-->1->11 1->011   0->11-->1->011 1->0      1->0-->0->11 --->0->11-->1->011 1->0      ----->1->011-->1->11 1->011 0->11 --->1->011-->1->11 1->011 0->11   1->11-->1->11 1->011   0->11-->1->011 1->0   ---->1->011-->1->11 1->011 0->11 --->1->011-->1->11 1->011 0->11   1->11-->1->11 1->011   0->11-->1->011 1->01      1->11-->1->11 1->011 --->1->011-->1->11 1->011 0->11   1->11-->1->11 1->11      0->11-->1->011 1->0 --->1->011-->1->11 1->011 0->11   1->0-->0->11          1->0-->0->11 --->0->11-->1->011 1->0   ---->0->11-->1->011 1->0 --->1->011-->1->11 1->011 0->11   1->0-->0->11          ': 1, '1->11-->1->11 1->011 --->1->011-->1->11 1->011 0->11   1->11-->1->11 1->11   ---->1->11-->1->11 1->11 --->1->11-->1->11 1->011   1->11-->1->11 1->11      1->011-->1->11 1->011 0->11 --->1->011-->1->11 1->011 0->11   1->11-->1->11 1->011   0->11-->1->011 1->01      ----->1->011-->1->11 1->011 0->11 --->1->011-->1->11 1->011 0->11   1->11-->1->11 1->011   0->11-->1->011 1->01   ---->0->11-->1->011 1->01 --->1->011-->1->11 1->011 0->11   1->01-->1->12 0->11      1->011-->1->11 1->011 0->11 --->1->011-->1->11 1->011 0->11   1->11-->1->11 1->011   0->11-->1->011 1->0      1->11-->1->11 1->011 --->1->011-->1->11 1->011 0->11   1->11-->1->11 1->11          1->11-->1->11 1->11 --->1->11-->1->11 1->011   1->11-->1->11 1->11   ---->1->11-->1->11 1->11 --->1->11-->1->11 1->011   1->11-->1->11 1->11      1->11-->1->11 1->011 --->1->011-->1->11 1->011 0->11   1->11-->1->11 1->11          ': 1, '1->11-->1->11 1->11 --->1->11-->1->11 1->011   1->11-->1->11 1->11   ---->1->11-->1->11 1->11 --->1->11-->1->11 1->011   1->11-->1->11 1->11      1->11-->1->11 1->011 --->1->011-->1->11 1->011 0->11   1->11-->1->11 1->11      ----->1->11-->1->11 1->011 --->1->011-->1->11 1->011 0->11   1->11-->1->11 1->11   ---->1->11-->1->11 1->11 --->1->11-->1->11 1->011   1->11-->1->11 1->11      1->011-->1->11 1->011 0->11 --->1->011-->1->11 1->011 0->11   1->11-->1->11 1->011   0->11-->1->011 1->0          1->11-->1->11 1->11 --->1->11-->1->11 1->011   1->11-->1->11 1->11   ---->1->11-->1->11 1->11 --->1->11-->1->11 1->011   1->11-->1->11 1->11      1->11-->1->11 1->011 --->1->011-->1->11 1->011 0->11   1->11-->1->11 1->11          ': 1, '1->011-->1->11 1->011 0->11 --->1->011-->1->11 1->011 0->11   1->11-->1->11 1->011   0->11-->1->011 1->01   ---->0->11-->1->011 1->01 --->1->011-->1->11 1->011 0->11   1->01-->1->12 0->11      1->011-->1->11 1->011 0->11 --->1->011-->1->11 1->011 0->11   1->11-->1->11 1->011   0->11-->1->011 1->0      1->11-->1->11 1->011 --->1->011-->1->11 1->011 0->11   1->11-->1->11 1->11      ----->1->011-->1->11 1->011 0->11 --->1->011-->1->11 1->011 0->11   1->11-->1->11 1->011   0->11-->1->011 1->0   ---->1->011-->1->11 1->011 0->11 --->1->011-->1->11 1->011 0->11   1->11-->1->11 1->011   0->11-->1->011 1->01      1->11-->1->11 1->011 --->1->011-->1->11 1->011 0->11   1->11-->1->11 1->11      0->11-->1->011 1->0 --->1->011-->1->11 1->011 0->11   1->0-->0->11          1->11-->1->11 1->011 --->1->011-->1->11 1->011 0->11   1->11-->1->11 1->11   ---->1->11-->1->11 1->11 --->1->11-->1->11 1->011   1->11-->1->11 1->11      1->011-->1->11 1->011 0->11 --->1->011-->1->11 1->011 0->11   1->11-->1->11 1->011   0->11-->1->011 1->01          0->11-->1->011 1->01 --->1->011-->1->11 1->011 0->11   1->01-->1->12 0->11   ---->1->011-->1->11 1->011 0->11 --->1->011-->1->11 1->011 0->11   1->11-->1->11 1->011   0->11-->1->011 1->01      1->01-->1->12 0->11 --->1->12-->2->111 1->01   0->11-->1->011 1->01          ': 1, '1->0-->0->11 --->0->11-->1->011 1->0   ---->0->11-->1->011 1->0 --->1->011-->1->11 1->011 0->11   1->0-->0->11      ----->0->11-->1->011 1->0 --->1->011-->1->11 1->011 0->11   1->0-->0->11   ---->1->011-->1->11 1->011 0->11 --->1->011-->1->11 1->011 0->11   1->11-->1->11 1->011   0->11-->1->011 1->0      1->0-->0->11 --->0->11-->1->011 1->0          ': 1, '1->12-->2->111 1->1 --->1->1-->1->12   2->111-->1->12 1->12 1->12   ---->1->1-->1->12 --->1->12-->2->111 1->1      2->111-->1->12 1->12 1->12 --->1->12-->2->111 1->1   1->12-->2->111 1->1   1->12-->2->111 1->01      ----->1->1-->1->12 --->1->12-->2->111 1->1   ---->1->12-->2->111 1->1 --->1->1-->1->12   2->111-->1->12 1->12 1->12          2->111-->1->12 1->12 1->12 --->1->12-->2->111 1->1   1->12-->2->111 1->1   1->12-->2->111 1->01   ---->1->12-->2->111 1->1 --->1->1-->1->12   2->111-->1->12 1->12 1->12      1->12-->2->111 1->1 --->1->1-->1->12   2->111-->1->12 1->12 1->12      1->12-->2->111 1->01 --->1->01-->1->12 0->11   2->111-->1->12 1->12 1->12          ': 2, '2->111-->1->12 1->12 1->12 --->1->12-->2->111 1->1   1->12-->2->111 1->1   1->12-->2->111 1->01   ---->1->12-->2->111 1->1 --->1->1-->1->12   2->111-->1->12 1->12 1->12      1->12-->2->111 1->1 --->1->1-->1->12   2->111-->1->12 1->12 1->12      1->12-->2->111 1->01 --->1->01-->1->12 0->11   2->111-->1->12 1->12 1->12      ----->1->12-->2->111 1->01 --->1->01-->1->12 0->11   2->111-->1->12 1->12 1->12   ---->2->111-->1->12 1->12 1->12 --->1->12-->2->111 1->1   1->12-->2->111 1->1   1->12-->2->111 1->01      1->01-->1->12 0->11 --->1->12-->2->111 1->01   0->11-->1->011 1->01          1->12-->2->111 1->1 --->1->1-->1->12   2->111-->1->12 1->12 1->12   ---->1->1-->1->12 --->1->12-->2->111 1->1      2->111-->1->12 1->12 1->12 --->1->12-->2->111 1->1   1->12-->2->111 1->1   1->12-->2->111 1->01          1->12-->2->111 1->1 --->1->1-->1->12   2->111-->1->12 1->12 1->12   ---->1->1-->1->12 --->1->12-->2->111 1->1      2->111-->1->12 1->12 1->12 --->1->12-->2->111 1->1   1->12-->2->111 1->1   1->12-->2->111 1->01          ': 1}\n",
      "Length of pattern dict 14\n",
      "Feature_vector {'0': 2, '1': 13, '2': 1, '2->111': 1, '1->11': 4, '1->011': 2, '1->12': 3, '0->11': 2, '1->1': 2, '1->01': 1, '1->0': 1, '1->011-->1->11 1->011 0->11 ': 2, '1->1-->1->12 ': 2, '1->01-->1->12 0->11 ': 1, '1->11-->1->11 1->011 ': 2, '1->12-->2->111 1->1 ': 2, '1->11-->1->11 1->11 ': 2, '1->12-->2->111 1->01 ': 1, '0->11-->1->011 1->01 ': 1, '2->111-->1->12 1->12 1->12 ': 1, '1->0-->0->11 ': 1, '0->11-->1->011 1->0 ': 1, '1->12-->2->111 1->1 --->1->1-->1->12   2->111-->1->12 1->12 1->12   ': 2, '0->11-->1->011 1->01 --->1->011-->1->11 1->011 0->11   1->01-->1->12 0->11   ': 1, '1->12-->2->111 1->01 --->1->01-->1->12 0->11   2->111-->1->12 1->12 1->12   ': 1, '1->1-->1->12 --->1->12-->2->111 1->1   ': 2, '1->11-->1->11 1->11 --->1->11-->1->11 1->011   1->11-->1->11 1->11   ': 2, '1->011-->1->11 1->011 0->11 --->1->011-->1->11 1->011 0->11   1->11-->1->11 1->011   0->11-->1->011 1->0   ': 1, '2->111-->1->12 1->12 1->12 --->1->12-->2->111 1->1   1->12-->2->111 1->1   1->12-->2->111 1->01   ': 1, '1->011-->1->11 1->011 0->11 --->1->011-->1->11 1->011 0->11   1->11-->1->11 1->011   0->11-->1->011 1->01   ': 1, '1->11-->1->11 1->011 --->1->011-->1->11 1->011 0->11   1->11-->1->11 1->11   ': 2, '1->0-->0->11 --->0->11-->1->011 1->0   ': 1, '1->01-->1->12 0->11 --->1->12-->2->111 1->01   0->11-->1->011 1->01   ': 1, '0->11-->1->011 1->0 --->1->011-->1->11 1->011 0->11   1->0-->0->11   ': 1, '1->12-->2->111 1->01 --->1->01-->1->12 0->11   2->111-->1->12 1->12 1->12   ---->2->111-->1->12 1->12 1->12 --->1->12-->2->111 1->1   1->12-->2->111 1->1   1->12-->2->111 1->01      1->01-->1->12 0->11 --->1->12-->2->111 1->01   0->11-->1->011 1->01      ': 1, '1->011-->1->11 1->011 0->11 --->1->011-->1->11 1->011 0->11   1->11-->1->11 1->011   0->11-->1->011 1->01   ---->0->11-->1->011 1->01 --->1->011-->1->11 1->011 0->11   1->01-->1->12 0->11      1->011-->1->11 1->011 0->11 --->1->011-->1->11 1->011 0->11   1->11-->1->11 1->011   0->11-->1->011 1->0      1->11-->1->11 1->011 --->1->011-->1->11 1->011 0->11   1->11-->1->11 1->11      ': 1, '1->1-->1->12 --->1->12-->2->111 1->1   ---->1->12-->2->111 1->1 --->1->1-->1->12   2->111-->1->12 1->12 1->12      ': 2, '1->011-->1->11 1->011 0->11 --->1->011-->1->11 1->011 0->11   1->11-->1->11 1->011   0->11-->1->011 1->0   ---->1->011-->1->11 1->011 0->11 --->1->011-->1->11 1->011 0->11   1->11-->1->11 1->011   0->11-->1->011 1->01      1->11-->1->11 1->011 --->1->011-->1->11 1->011 0->11   1->11-->1->11 1->11      0->11-->1->011 1->0 --->1->011-->1->11 1->011 0->11   1->0-->0->11      ': 1, '1->11-->1->11 1->011 --->1->011-->1->11 1->011 0->11   1->11-->1->11 1->11   ---->1->11-->1->11 1->11 --->1->11-->1->11 1->011   1->11-->1->11 1->11      1->011-->1->11 1->011 0->11 --->1->011-->1->11 1->011 0->11   1->11-->1->11 1->011   0->11-->1->011 1->01      ': 1, '1->12-->2->111 1->1 --->1->1-->1->12   2->111-->1->12 1->12 1->12   ---->1->1-->1->12 --->1->12-->2->111 1->1      2->111-->1->12 1->12 1->12 --->1->12-->2->111 1->1   1->12-->2->111 1->1   1->12-->2->111 1->01      ': 2, '0->11-->1->011 1->01 --->1->011-->1->11 1->011 0->11   1->01-->1->12 0->11   ---->1->011-->1->11 1->011 0->11 --->1->011-->1->11 1->011 0->11   1->11-->1->11 1->011   0->11-->1->011 1->01      1->01-->1->12 0->11 --->1->12-->2->111 1->01   0->11-->1->011 1->01      ': 1, '2->111-->1->12 1->12 1->12 --->1->12-->2->111 1->1   1->12-->2->111 1->1   1->12-->2->111 1->01   ---->1->12-->2->111 1->1 --->1->1-->1->12   2->111-->1->12 1->12 1->12      1->12-->2->111 1->1 --->1->1-->1->12   2->111-->1->12 1->12 1->12      1->12-->2->111 1->01 --->1->01-->1->12 0->11   2->111-->1->12 1->12 1->12      ': 1, '0->11-->1->011 1->0 --->1->011-->1->11 1->011 0->11   1->0-->0->11   ---->1->011-->1->11 1->011 0->11 --->1->011-->1->11 1->011 0->11   1->11-->1->11 1->011   0->11-->1->011 1->0      1->0-->0->11 --->0->11-->1->011 1->0      ': 1, '1->01-->1->12 0->11 --->1->12-->2->111 1->01   0->11-->1->011 1->01   ---->0->11-->1->011 1->01 --->1->011-->1->11 1->011 0->11   1->01-->1->12 0->11      1->12-->2->111 1->01 --->1->01-->1->12 0->11   2->111-->1->12 1->12 1->12      ': 1, '1->11-->1->11 1->011 --->1->011-->1->11 1->011 0->11   1->11-->1->11 1->11   ---->1->11-->1->11 1->11 --->1->11-->1->11 1->011   1->11-->1->11 1->11      1->011-->1->11 1->011 0->11 --->1->011-->1->11 1->011 0->11   1->11-->1->11 1->011   0->11-->1->011 1->0      ': 1, '1->0-->0->11 --->0->11-->1->011 1->0   ---->0->11-->1->011 1->0 --->1->011-->1->11 1->011 0->11   1->0-->0->11      ': 1, '1->11-->1->11 1->11 --->1->11-->1->11 1->011   1->11-->1->11 1->11   ---->1->11-->1->11 1->11 --->1->11-->1->11 1->011   1->11-->1->11 1->11      1->11-->1->11 1->011 --->1->011-->1->11 1->011 0->11   1->11-->1->11 1->11      ': 2, '1->011-->1->11 1->011 0->11 --->1->011-->1->11 1->011 0->11   1->11-->1->11 1->011   0->11-->1->011 1->0   ---->1->011-->1->11 1->011 0->11 --->1->011-->1->11 1->011 0->11   1->11-->1->11 1->011   0->11-->1->011 1->01      1->11-->1->11 1->011 --->1->011-->1->11 1->011 0->11   1->11-->1->11 1->11      0->11-->1->011 1->0 --->1->011-->1->11 1->011 0->11   1->0-->0->11      ----->1->011-->1->11 1->011 0->11 --->1->011-->1->11 1->011 0->11   1->11-->1->11 1->011   0->11-->1->011 1->01   ---->0->11-->1->011 1->01 --->1->011-->1->11 1->011 0->11   1->01-->1->12 0->11      1->011-->1->11 1->011 0->11 --->1->011-->1->11 1->011 0->11   1->11-->1->11 1->011   0->11-->1->011 1->0      1->11-->1->11 1->011 --->1->011-->1->11 1->011 0->11   1->11-->1->11 1->11          0->11-->1->011 1->0 --->1->011-->1->11 1->011 0->11   1->0-->0->11   ---->1->011-->1->11 1->011 0->11 --->1->011-->1->11 1->011 0->11   1->11-->1->11 1->011   0->11-->1->011 1->0      1->0-->0->11 --->0->11-->1->011 1->0          1->11-->1->11 1->011 --->1->011-->1->11 1->011 0->11   1->11-->1->11 1->11   ---->1->11-->1->11 1->11 --->1->11-->1->11 1->011   1->11-->1->11 1->11      1->011-->1->11 1->011 0->11 --->1->011-->1->11 1->011 0->11   1->11-->1->11 1->011   0->11-->1->011 1->0          ': 1, '1->12-->2->111 1->01 --->1->01-->1->12 0->11   2->111-->1->12 1->12 1->12   ---->2->111-->1->12 1->12 1->12 --->1->12-->2->111 1->1   1->12-->2->111 1->1   1->12-->2->111 1->01      1->01-->1->12 0->11 --->1->12-->2->111 1->01   0->11-->1->011 1->01      ----->2->111-->1->12 1->12 1->12 --->1->12-->2->111 1->1   1->12-->2->111 1->1   1->12-->2->111 1->01   ---->1->12-->2->111 1->1 --->1->1-->1->12   2->111-->1->12 1->12 1->12      1->12-->2->111 1->1 --->1->1-->1->12   2->111-->1->12 1->12 1->12      1->12-->2->111 1->01 --->1->01-->1->12 0->11   2->111-->1->12 1->12 1->12          1->01-->1->12 0->11 --->1->12-->2->111 1->01   0->11-->1->011 1->01   ---->0->11-->1->011 1->01 --->1->011-->1->11 1->011 0->11   1->01-->1->12 0->11      1->12-->2->111 1->01 --->1->01-->1->12 0->11   2->111-->1->12 1->12 1->12          ': 1, '0->11-->1->011 1->01 --->1->011-->1->11 1->011 0->11   1->01-->1->12 0->11   ---->1->011-->1->11 1->011 0->11 --->1->011-->1->11 1->011 0->11   1->11-->1->11 1->011   0->11-->1->011 1->01      1->01-->1->12 0->11 --->1->12-->2->111 1->01   0->11-->1->011 1->01      ----->1->011-->1->11 1->011 0->11 --->1->011-->1->11 1->011 0->11   1->11-->1->11 1->011   0->11-->1->011 1->01   ---->0->11-->1->011 1->01 --->1->011-->1->11 1->011 0->11   1->01-->1->12 0->11      1->011-->1->11 1->011 0->11 --->1->011-->1->11 1->011 0->11   1->11-->1->11 1->011   0->11-->1->011 1->0      1->11-->1->11 1->011 --->1->011-->1->11 1->011 0->11   1->11-->1->11 1->11          1->01-->1->12 0->11 --->1->12-->2->111 1->01   0->11-->1->011 1->01   ---->0->11-->1->011 1->01 --->1->011-->1->11 1->011 0->11   1->01-->1->12 0->11      1->12-->2->111 1->01 --->1->01-->1->12 0->11   2->111-->1->12 1->12 1->12          ': 1, '1->01-->1->12 0->11 --->1->12-->2->111 1->01   0->11-->1->011 1->01   ---->0->11-->1->011 1->01 --->1->011-->1->11 1->011 0->11   1->01-->1->12 0->11      1->12-->2->111 1->01 --->1->01-->1->12 0->11   2->111-->1->12 1->12 1->12      ----->1->12-->2->111 1->01 --->1->01-->1->12 0->11   2->111-->1->12 1->12 1->12   ---->2->111-->1->12 1->12 1->12 --->1->12-->2->111 1->1   1->12-->2->111 1->1   1->12-->2->111 1->01      1->01-->1->12 0->11 --->1->12-->2->111 1->01   0->11-->1->011 1->01          0->11-->1->011 1->01 --->1->011-->1->11 1->011 0->11   1->01-->1->12 0->11   ---->1->011-->1->11 1->011 0->11 --->1->011-->1->11 1->011 0->11   1->11-->1->11 1->011   0->11-->1->011 1->01      1->01-->1->12 0->11 --->1->12-->2->111 1->01   0->11-->1->011 1->01          ': 1, '1->11-->1->11 1->11 --->1->11-->1->11 1->011   1->11-->1->11 1->11   ---->1->11-->1->11 1->11 --->1->11-->1->11 1->011   1->11-->1->11 1->11      1->11-->1->11 1->011 --->1->011-->1->11 1->011 0->11   1->11-->1->11 1->11      ----->1->11-->1->11 1->011 --->1->011-->1->11 1->011 0->11   1->11-->1->11 1->11   ---->1->11-->1->11 1->11 --->1->11-->1->11 1->011   1->11-->1->11 1->11      1->011-->1->11 1->011 0->11 --->1->011-->1->11 1->011 0->11   1->11-->1->11 1->011   0->11-->1->011 1->01          1->11-->1->11 1->11 --->1->11-->1->11 1->011   1->11-->1->11 1->11   ---->1->11-->1->11 1->11 --->1->11-->1->11 1->011   1->11-->1->11 1->11      1->11-->1->11 1->011 --->1->011-->1->11 1->011 0->11   1->11-->1->11 1->11          ': 1, '1->1-->1->12 --->1->12-->2->111 1->1   ---->1->12-->2->111 1->1 --->1->1-->1->12   2->111-->1->12 1->12 1->12      ----->1->12-->2->111 1->1 --->1->1-->1->12   2->111-->1->12 1->12 1->12   ---->1->1-->1->12 --->1->12-->2->111 1->1      2->111-->1->12 1->12 1->12 --->1->12-->2->111 1->1   1->12-->2->111 1->1   1->12-->2->111 1->01          ': 2, '1->11-->1->11 1->011 --->1->011-->1->11 1->011 0->11   1->11-->1->11 1->11   ---->1->11-->1->11 1->11 --->1->11-->1->11 1->011   1->11-->1->11 1->11      1->011-->1->11 1->011 0->11 --->1->011-->1->11 1->011 0->11   1->11-->1->11 1->011   0->11-->1->011 1->0      ----->1->011-->1->11 1->011 0->11 --->1->011-->1->11 1->011 0->11   1->11-->1->11 1->011   0->11-->1->011 1->0   ---->1->011-->1->11 1->011 0->11 --->1->011-->1->11 1->011 0->11   1->11-->1->11 1->011   0->11-->1->011 1->01      1->11-->1->11 1->011 --->1->011-->1->11 1->011 0->11   1->11-->1->11 1->11      0->11-->1->011 1->0 --->1->011-->1->11 1->011 0->11   1->0-->0->11          1->11-->1->11 1->11 --->1->11-->1->11 1->011   1->11-->1->11 1->11   ---->1->11-->1->11 1->11 --->1->11-->1->11 1->011   1->11-->1->11 1->11      1->11-->1->11 1->011 --->1->011-->1->11 1->011 0->11   1->11-->1->11 1->11          ': 1, '0->11-->1->011 1->0 --->1->011-->1->11 1->011 0->11   1->0-->0->11   ---->1->011-->1->11 1->011 0->11 --->1->011-->1->11 1->011 0->11   1->11-->1->11 1->011   0->11-->1->011 1->0      1->0-->0->11 --->0->11-->1->011 1->0      ----->1->011-->1->11 1->011 0->11 --->1->011-->1->11 1->011 0->11   1->11-->1->11 1->011   0->11-->1->011 1->0   ---->1->011-->1->11 1->011 0->11 --->1->011-->1->11 1->011 0->11   1->11-->1->11 1->011   0->11-->1->011 1->01      1->11-->1->11 1->011 --->1->011-->1->11 1->011 0->11   1->11-->1->11 1->11      0->11-->1->011 1->0 --->1->011-->1->11 1->011 0->11   1->0-->0->11          1->0-->0->11 --->0->11-->1->011 1->0   ---->0->11-->1->011 1->0 --->1->011-->1->11 1->011 0->11   1->0-->0->11          ': 1, '1->11-->1->11 1->011 --->1->011-->1->11 1->011 0->11   1->11-->1->11 1->11   ---->1->11-->1->11 1->11 --->1->11-->1->11 1->011   1->11-->1->11 1->11      1->011-->1->11 1->011 0->11 --->1->011-->1->11 1->011 0->11   1->11-->1->11 1->011   0->11-->1->011 1->01      ----->1->011-->1->11 1->011 0->11 --->1->011-->1->11 1->011 0->11   1->11-->1->11 1->011   0->11-->1->011 1->01   ---->0->11-->1->011 1->01 --->1->011-->1->11 1->011 0->11   1->01-->1->12 0->11      1->011-->1->11 1->011 0->11 --->1->011-->1->11 1->011 0->11   1->11-->1->11 1->011   0->11-->1->011 1->0      1->11-->1->11 1->011 --->1->011-->1->11 1->011 0->11   1->11-->1->11 1->11          1->11-->1->11 1->11 --->1->11-->1->11 1->011   1->11-->1->11 1->11   ---->1->11-->1->11 1->11 --->1->11-->1->11 1->011   1->11-->1->11 1->11      1->11-->1->11 1->011 --->1->011-->1->11 1->011 0->11   1->11-->1->11 1->11          ': 1, '1->11-->1->11 1->11 --->1->11-->1->11 1->011   1->11-->1->11 1->11   ---->1->11-->1->11 1->11 --->1->11-->1->11 1->011   1->11-->1->11 1->11      1->11-->1->11 1->011 --->1->011-->1->11 1->011 0->11   1->11-->1->11 1->11      ----->1->11-->1->11 1->011 --->1->011-->1->11 1->011 0->11   1->11-->1->11 1->11   ---->1->11-->1->11 1->11 --->1->11-->1->11 1->011   1->11-->1->11 1->11      1->011-->1->11 1->011 0->11 --->1->011-->1->11 1->011 0->11   1->11-->1->11 1->011   0->11-->1->011 1->0          1->11-->1->11 1->11 --->1->11-->1->11 1->011   1->11-->1->11 1->11   ---->1->11-->1->11 1->11 --->1->11-->1->11 1->011   1->11-->1->11 1->11      1->11-->1->11 1->011 --->1->011-->1->11 1->011 0->11   1->11-->1->11 1->11          ': 1, '1->011-->1->11 1->011 0->11 --->1->011-->1->11 1->011 0->11   1->11-->1->11 1->011   0->11-->1->011 1->01   ---->0->11-->1->011 1->01 --->1->011-->1->11 1->011 0->11   1->01-->1->12 0->11      1->011-->1->11 1->011 0->11 --->1->011-->1->11 1->011 0->11   1->11-->1->11 1->011   0->11-->1->011 1->0      1->11-->1->11 1->011 --->1->011-->1->11 1->011 0->11   1->11-->1->11 1->11      ----->1->011-->1->11 1->011 0->11 --->1->011-->1->11 1->011 0->11   1->11-->1->11 1->011   0->11-->1->011 1->0   ---->1->011-->1->11 1->011 0->11 --->1->011-->1->11 1->011 0->11   1->11-->1->11 1->011   0->11-->1->011 1->01      1->11-->1->11 1->011 --->1->011-->1->11 1->011 0->11   1->11-->1->11 1->11      0->11-->1->011 1->0 --->1->011-->1->11 1->011 0->11   1->0-->0->11          1->11-->1->11 1->011 --->1->011-->1->11 1->011 0->11   1->11-->1->11 1->11   ---->1->11-->1->11 1->11 --->1->11-->1->11 1->011   1->11-->1->11 1->11      1->011-->1->11 1->011 0->11 --->1->011-->1->11 1->011 0->11   1->11-->1->11 1->011   0->11-->1->011 1->01          0->11-->1->011 1->01 --->1->011-->1->11 1->011 0->11   1->01-->1->12 0->11   ---->1->011-->1->11 1->011 0->11 --->1->011-->1->11 1->011 0->11   1->11-->1->11 1->011   0->11-->1->011 1->01      1->01-->1->12 0->11 --->1->12-->2->111 1->01   0->11-->1->011 1->01          ': 1, '1->0-->0->11 --->0->11-->1->011 1->0   ---->0->11-->1->011 1->0 --->1->011-->1->11 1->011 0->11   1->0-->0->11      ----->0->11-->1->011 1->0 --->1->011-->1->11 1->011 0->11   1->0-->0->11   ---->1->011-->1->11 1->011 0->11 --->1->011-->1->11 1->011 0->11   1->11-->1->11 1->011   0->11-->1->011 1->0      1->0-->0->11 --->0->11-->1->011 1->0          ': 1, '1->12-->2->111 1->1 --->1->1-->1->12   2->111-->1->12 1->12 1->12   ---->1->1-->1->12 --->1->12-->2->111 1->1      2->111-->1->12 1->12 1->12 --->1->12-->2->111 1->1   1->12-->2->111 1->1   1->12-->2->111 1->01      ----->1->1-->1->12 --->1->12-->2->111 1->1   ---->1->12-->2->111 1->1 --->1->1-->1->12   2->111-->1->12 1->12 1->12          2->111-->1->12 1->12 1->12 --->1->12-->2->111 1->1   1->12-->2->111 1->1   1->12-->2->111 1->01   ---->1->12-->2->111 1->1 --->1->1-->1->12   2->111-->1->12 1->12 1->12      1->12-->2->111 1->1 --->1->1-->1->12   2->111-->1->12 1->12 1->12      1->12-->2->111 1->01 --->1->01-->1->12 0->11   2->111-->1->12 1->12 1->12          ': 2, '2->111-->1->12 1->12 1->12 --->1->12-->2->111 1->1   1->12-->2->111 1->1   1->12-->2->111 1->01   ---->1->12-->2->111 1->1 --->1->1-->1->12   2->111-->1->12 1->12 1->12      1->12-->2->111 1->1 --->1->1-->1->12   2->111-->1->12 1->12 1->12      1->12-->2->111 1->01 --->1->01-->1->12 0->11   2->111-->1->12 1->12 1->12      ----->1->12-->2->111 1->01 --->1->01-->1->12 0->11   2->111-->1->12 1->12 1->12   ---->2->111-->1->12 1->12 1->12 --->1->12-->2->111 1->1   1->12-->2->111 1->1   1->12-->2->111 1->01      1->01-->1->12 0->11 --->1->12-->2->111 1->01   0->11-->1->011 1->01          1->12-->2->111 1->1 --->1->1-->1->12   2->111-->1->12 1->12 1->12   ---->1->1-->1->12 --->1->12-->2->111 1->1      2->111-->1->12 1->12 1->12 --->1->12-->2->111 1->1   1->12-->2->111 1->1   1->12-->2->111 1->01          1->12-->2->111 1->1 --->1->1-->1->12   2->111-->1->12 1->12 1->12   ---->1->1-->1->12 --->1->12-->2->111 1->1      2->111-->1->12 1->12 1->12 --->1->12-->2->111 1->1   1->12-->2->111 1->1   1->12-->2->111 1->01          ': 1}\n",
      "{'0': 2, '1': 13, '2': 1, '2->111': 1, '1->11': 4, '1->011': 2, '1->12': 3, '0->11': 2, '1->1': 2, '1->01': 1, '1->0': 1, '1->011-->1->11 1->011 0->11 ': 2, '1->1-->1->12 ': 2, '1->01-->1->12 0->11 ': 1, '1->11-->1->11 1->011 ': 2, '1->12-->2->111 1->1 ': 2, '1->11-->1->11 1->11 ': 2, '1->12-->2->111 1->01 ': 1, '0->11-->1->011 1->01 ': 1, '2->111-->1->12 1->12 1->12 ': 1, '1->0-->0->11 ': 1, '0->11-->1->011 1->0 ': 1, '1->12-->2->111 1->1 --->1->1-->1->12   2->111-->1->12 1->12 1->12   ': 2, '0->11-->1->011 1->01 --->1->011-->1->11 1->011 0->11   1->01-->1->12 0->11   ': 1, '1->12-->2->111 1->01 --->1->01-->1->12 0->11   2->111-->1->12 1->12 1->12   ': 1, '1->1-->1->12 --->1->12-->2->111 1->1   ': 2, '1->11-->1->11 1->11 --->1->11-->1->11 1->011   1->11-->1->11 1->11   ': 2, '1->011-->1->11 1->011 0->11 --->1->011-->1->11 1->011 0->11   1->11-->1->11 1->011   0->11-->1->011 1->0   ': 1, '2->111-->1->12 1->12 1->12 --->1->12-->2->111 1->1   1->12-->2->111 1->1   1->12-->2->111 1->01   ': 1, '1->011-->1->11 1->011 0->11 --->1->011-->1->11 1->011 0->11   1->11-->1->11 1->011   0->11-->1->011 1->01   ': 1, '1->11-->1->11 1->011 --->1->011-->1->11 1->011 0->11   1->11-->1->11 1->11   ': 2, '1->0-->0->11 --->0->11-->1->011 1->0   ': 1, '1->01-->1->12 0->11 --->1->12-->2->111 1->01   0->11-->1->011 1->01   ': 1, '0->11-->1->011 1->0 --->1->011-->1->11 1->011 0->11   1->0-->0->11   ': 1, '1->12-->2->111 1->01 --->1->01-->1->12 0->11   2->111-->1->12 1->12 1->12   ---->2->111-->1->12 1->12 1->12 --->1->12-->2->111 1->1   1->12-->2->111 1->1   1->12-->2->111 1->01      1->01-->1->12 0->11 --->1->12-->2->111 1->01   0->11-->1->011 1->01      ': 1, '1->011-->1->11 1->011 0->11 --->1->011-->1->11 1->011 0->11   1->11-->1->11 1->011   0->11-->1->011 1->01   ---->0->11-->1->011 1->01 --->1->011-->1->11 1->011 0->11   1->01-->1->12 0->11      1->011-->1->11 1->011 0->11 --->1->011-->1->11 1->011 0->11   1->11-->1->11 1->011   0->11-->1->011 1->0      1->11-->1->11 1->011 --->1->011-->1->11 1->011 0->11   1->11-->1->11 1->11      ': 1, '1->1-->1->12 --->1->12-->2->111 1->1   ---->1->12-->2->111 1->1 --->1->1-->1->12   2->111-->1->12 1->12 1->12      ': 2, '1->011-->1->11 1->011 0->11 --->1->011-->1->11 1->011 0->11   1->11-->1->11 1->011   0->11-->1->011 1->0   ---->1->011-->1->11 1->011 0->11 --->1->011-->1->11 1->011 0->11   1->11-->1->11 1->011   0->11-->1->011 1->01      1->11-->1->11 1->011 --->1->011-->1->11 1->011 0->11   1->11-->1->11 1->11      0->11-->1->011 1->0 --->1->011-->1->11 1->011 0->11   1->0-->0->11      ': 1, '1->11-->1->11 1->011 --->1->011-->1->11 1->011 0->11   1->11-->1->11 1->11   ---->1->11-->1->11 1->11 --->1->11-->1->11 1->011   1->11-->1->11 1->11      1->011-->1->11 1->011 0->11 --->1->011-->1->11 1->011 0->11   1->11-->1->11 1->011   0->11-->1->011 1->01      ': 1, '1->12-->2->111 1->1 --->1->1-->1->12   2->111-->1->12 1->12 1->12   ---->1->1-->1->12 --->1->12-->2->111 1->1      2->111-->1->12 1->12 1->12 --->1->12-->2->111 1->1   1->12-->2->111 1->1   1->12-->2->111 1->01      ': 2, '0->11-->1->011 1->01 --->1->011-->1->11 1->011 0->11   1->01-->1->12 0->11   ---->1->011-->1->11 1->011 0->11 --->1->011-->1->11 1->011 0->11   1->11-->1->11 1->011   0->11-->1->011 1->01      1->01-->1->12 0->11 --->1->12-->2->111 1->01   0->11-->1->011 1->01      ': 1, '2->111-->1->12 1->12 1->12 --->1->12-->2->111 1->1   1->12-->2->111 1->1   1->12-->2->111 1->01   ---->1->12-->2->111 1->1 --->1->1-->1->12   2->111-->1->12 1->12 1->12      1->12-->2->111 1->1 --->1->1-->1->12   2->111-->1->12 1->12 1->12      1->12-->2->111 1->01 --->1->01-->1->12 0->11   2->111-->1->12 1->12 1->12      ': 1, '0->11-->1->011 1->0 --->1->011-->1->11 1->011 0->11   1->0-->0->11   ---->1->011-->1->11 1->011 0->11 --->1->011-->1->11 1->011 0->11   1->11-->1->11 1->011   0->11-->1->011 1->0      1->0-->0->11 --->0->11-->1->011 1->0      ': 1, '1->01-->1->12 0->11 --->1->12-->2->111 1->01   0->11-->1->011 1->01   ---->0->11-->1->011 1->01 --->1->011-->1->11 1->011 0->11   1->01-->1->12 0->11      1->12-->2->111 1->01 --->1->01-->1->12 0->11   2->111-->1->12 1->12 1->12      ': 1, '1->11-->1->11 1->011 --->1->011-->1->11 1->011 0->11   1->11-->1->11 1->11   ---->1->11-->1->11 1->11 --->1->11-->1->11 1->011   1->11-->1->11 1->11      1->011-->1->11 1->011 0->11 --->1->011-->1->11 1->011 0->11   1->11-->1->11 1->011   0->11-->1->011 1->0      ': 1, '1->0-->0->11 --->0->11-->1->011 1->0   ---->0->11-->1->011 1->0 --->1->011-->1->11 1->011 0->11   1->0-->0->11      ': 1, '1->11-->1->11 1->11 --->1->11-->1->11 1->011   1->11-->1->11 1->11   ---->1->11-->1->11 1->11 --->1->11-->1->11 1->011   1->11-->1->11 1->11      1->11-->1->11 1->011 --->1->011-->1->11 1->011 0->11   1->11-->1->11 1->11      ': 2, '1->011-->1->11 1->011 0->11 --->1->011-->1->11 1->011 0->11   1->11-->1->11 1->011   0->11-->1->011 1->0   ---->1->011-->1->11 1->011 0->11 --->1->011-->1->11 1->011 0->11   1->11-->1->11 1->011   0->11-->1->011 1->01      1->11-->1->11 1->011 --->1->011-->1->11 1->011 0->11   1->11-->1->11 1->11      0->11-->1->011 1->0 --->1->011-->1->11 1->011 0->11   1->0-->0->11      ----->1->011-->1->11 1->011 0->11 --->1->011-->1->11 1->011 0->11   1->11-->1->11 1->011   0->11-->1->011 1->01   ---->0->11-->1->011 1->01 --->1->011-->1->11 1->011 0->11   1->01-->1->12 0->11      1->011-->1->11 1->011 0->11 --->1->011-->1->11 1->011 0->11   1->11-->1->11 1->011   0->11-->1->011 1->0      1->11-->1->11 1->011 --->1->011-->1->11 1->011 0->11   1->11-->1->11 1->11          0->11-->1->011 1->0 --->1->011-->1->11 1->011 0->11   1->0-->0->11   ---->1->011-->1->11 1->011 0->11 --->1->011-->1->11 1->011 0->11   1->11-->1->11 1->011   0->11-->1->011 1->0      1->0-->0->11 --->0->11-->1->011 1->0          1->11-->1->11 1->011 --->1->011-->1->11 1->011 0->11   1->11-->1->11 1->11   ---->1->11-->1->11 1->11 --->1->11-->1->11 1->011   1->11-->1->11 1->11      1->011-->1->11 1->011 0->11 --->1->011-->1->11 1->011 0->11   1->11-->1->11 1->011   0->11-->1->011 1->0          ': 1, '1->12-->2->111 1->01 --->1->01-->1->12 0->11   2->111-->1->12 1->12 1->12   ---->2->111-->1->12 1->12 1->12 --->1->12-->2->111 1->1   1->12-->2->111 1->1   1->12-->2->111 1->01      1->01-->1->12 0->11 --->1->12-->2->111 1->01   0->11-->1->011 1->01      ----->2->111-->1->12 1->12 1->12 --->1->12-->2->111 1->1   1->12-->2->111 1->1   1->12-->2->111 1->01   ---->1->12-->2->111 1->1 --->1->1-->1->12   2->111-->1->12 1->12 1->12      1->12-->2->111 1->1 --->1->1-->1->12   2->111-->1->12 1->12 1->12      1->12-->2->111 1->01 --->1->01-->1->12 0->11   2->111-->1->12 1->12 1->12          1->01-->1->12 0->11 --->1->12-->2->111 1->01   0->11-->1->011 1->01   ---->0->11-->1->011 1->01 --->1->011-->1->11 1->011 0->11   1->01-->1->12 0->11      1->12-->2->111 1->01 --->1->01-->1->12 0->11   2->111-->1->12 1->12 1->12          ': 1, '0->11-->1->011 1->01 --->1->011-->1->11 1->011 0->11   1->01-->1->12 0->11   ---->1->011-->1->11 1->011 0->11 --->1->011-->1->11 1->011 0->11   1->11-->1->11 1->011   0->11-->1->011 1->01      1->01-->1->12 0->11 --->1->12-->2->111 1->01   0->11-->1->011 1->01      ----->1->011-->1->11 1->011 0->11 --->1->011-->1->11 1->011 0->11   1->11-->1->11 1->011   0->11-->1->011 1->01   ---->0->11-->1->011 1->01 --->1->011-->1->11 1->011 0->11   1->01-->1->12 0->11      1->011-->1->11 1->011 0->11 --->1->011-->1->11 1->011 0->11   1->11-->1->11 1->011   0->11-->1->011 1->0      1->11-->1->11 1->011 --->1->011-->1->11 1->011 0->11   1->11-->1->11 1->11          1->01-->1->12 0->11 --->1->12-->2->111 1->01   0->11-->1->011 1->01   ---->0->11-->1->011 1->01 --->1->011-->1->11 1->011 0->11   1->01-->1->12 0->11      1->12-->2->111 1->01 --->1->01-->1->12 0->11   2->111-->1->12 1->12 1->12          ': 1, '1->01-->1->12 0->11 --->1->12-->2->111 1->01   0->11-->1->011 1->01   ---->0->11-->1->011 1->01 --->1->011-->1->11 1->011 0->11   1->01-->1->12 0->11      1->12-->2->111 1->01 --->1->01-->1->12 0->11   2->111-->1->12 1->12 1->12      ----->1->12-->2->111 1->01 --->1->01-->1->12 0->11   2->111-->1->12 1->12 1->12   ---->2->111-->1->12 1->12 1->12 --->1->12-->2->111 1->1   1->12-->2->111 1->1   1->12-->2->111 1->01      1->01-->1->12 0->11 --->1->12-->2->111 1->01   0->11-->1->011 1->01          0->11-->1->011 1->01 --->1->011-->1->11 1->011 0->11   1->01-->1->12 0->11   ---->1->011-->1->11 1->011 0->11 --->1->011-->1->11 1->011 0->11   1->11-->1->11 1->011   0->11-->1->011 1->01      1->01-->1->12 0->11 --->1->12-->2->111 1->01   0->11-->1->011 1->01          ': 1, '1->11-->1->11 1->11 --->1->11-->1->11 1->011   1->11-->1->11 1->11   ---->1->11-->1->11 1->11 --->1->11-->1->11 1->011   1->11-->1->11 1->11      1->11-->1->11 1->011 --->1->011-->1->11 1->011 0->11   1->11-->1->11 1->11      ----->1->11-->1->11 1->011 --->1->011-->1->11 1->011 0->11   1->11-->1->11 1->11   ---->1->11-->1->11 1->11 --->1->11-->1->11 1->011   1->11-->1->11 1->11      1->011-->1->11 1->011 0->11 --->1->011-->1->11 1->011 0->11   1->11-->1->11 1->011   0->11-->1->011 1->01          1->11-->1->11 1->11 --->1->11-->1->11 1->011   1->11-->1->11 1->11   ---->1->11-->1->11 1->11 --->1->11-->1->11 1->011   1->11-->1->11 1->11      1->11-->1->11 1->011 --->1->011-->1->11 1->011 0->11   1->11-->1->11 1->11          ': 1, '1->1-->1->12 --->1->12-->2->111 1->1   ---->1->12-->2->111 1->1 --->1->1-->1->12   2->111-->1->12 1->12 1->12      ----->1->12-->2->111 1->1 --->1->1-->1->12   2->111-->1->12 1->12 1->12   ---->1->1-->1->12 --->1->12-->2->111 1->1      2->111-->1->12 1->12 1->12 --->1->12-->2->111 1->1   1->12-->2->111 1->1   1->12-->2->111 1->01          ': 2, '1->11-->1->11 1->011 --->1->011-->1->11 1->011 0->11   1->11-->1->11 1->11   ---->1->11-->1->11 1->11 --->1->11-->1->11 1->011   1->11-->1->11 1->11      1->011-->1->11 1->011 0->11 --->1->011-->1->11 1->011 0->11   1->11-->1->11 1->011   0->11-->1->011 1->0      ----->1->011-->1->11 1->011 0->11 --->1->011-->1->11 1->011 0->11   1->11-->1->11 1->011   0->11-->1->011 1->0   ---->1->011-->1->11 1->011 0->11 --->1->011-->1->11 1->011 0->11   1->11-->1->11 1->011   0->11-->1->011 1->01      1->11-->1->11 1->011 --->1->011-->1->11 1->011 0->11   1->11-->1->11 1->11      0->11-->1->011 1->0 --->1->011-->1->11 1->011 0->11   1->0-->0->11          1->11-->1->11 1->11 --->1->11-->1->11 1->011   1->11-->1->11 1->11   ---->1->11-->1->11 1->11 --->1->11-->1->11 1->011   1->11-->1->11 1->11      1->11-->1->11 1->011 --->1->011-->1->11 1->011 0->11   1->11-->1->11 1->11          ': 1, '0->11-->1->011 1->0 --->1->011-->1->11 1->011 0->11   1->0-->0->11   ---->1->011-->1->11 1->011 0->11 --->1->011-->1->11 1->011 0->11   1->11-->1->11 1->011   0->11-->1->011 1->0      1->0-->0->11 --->0->11-->1->011 1->0      ----->1->011-->1->11 1->011 0->11 --->1->011-->1->11 1->011 0->11   1->11-->1->11 1->011   0->11-->1->011 1->0   ---->1->011-->1->11 1->011 0->11 --->1->011-->1->11 1->011 0->11   1->11-->1->11 1->011   0->11-->1->011 1->01      1->11-->1->11 1->011 --->1->011-->1->11 1->011 0->11   1->11-->1->11 1->11      0->11-->1->011 1->0 --->1->011-->1->11 1->011 0->11   1->0-->0->11          1->0-->0->11 --->0->11-->1->011 1->0   ---->0->11-->1->011 1->0 --->1->011-->1->11 1->011 0->11   1->0-->0->11          ': 1, '1->11-->1->11 1->011 --->1->011-->1->11 1->011 0->11   1->11-->1->11 1->11   ---->1->11-->1->11 1->11 --->1->11-->1->11 1->011   1->11-->1->11 1->11      1->011-->1->11 1->011 0->11 --->1->011-->1->11 1->011 0->11   1->11-->1->11 1->011   0->11-->1->011 1->01      ----->1->011-->1->11 1->011 0->11 --->1->011-->1->11 1->011 0->11   1->11-->1->11 1->011   0->11-->1->011 1->01   ---->0->11-->1->011 1->01 --->1->011-->1->11 1->011 0->11   1->01-->1->12 0->11      1->011-->1->11 1->011 0->11 --->1->011-->1->11 1->011 0->11   1->11-->1->11 1->011   0->11-->1->011 1->0      1->11-->1->11 1->011 --->1->011-->1->11 1->011 0->11   1->11-->1->11 1->11          1->11-->1->11 1->11 --->1->11-->1->11 1->011   1->11-->1->11 1->11   ---->1->11-->1->11 1->11 --->1->11-->1->11 1->011   1->11-->1->11 1->11      1->11-->1->11 1->011 --->1->011-->1->11 1->011 0->11   1->11-->1->11 1->11          ': 1, '1->11-->1->11 1->11 --->1->11-->1->11 1->011   1->11-->1->11 1->11   ---->1->11-->1->11 1->11 --->1->11-->1->11 1->011   1->11-->1->11 1->11      1->11-->1->11 1->011 --->1->011-->1->11 1->011 0->11   1->11-->1->11 1->11      ----->1->11-->1->11 1->011 --->1->011-->1->11 1->011 0->11   1->11-->1->11 1->11   ---->1->11-->1->11 1->11 --->1->11-->1->11 1->011   1->11-->1->11 1->11      1->011-->1->11 1->011 0->11 --->1->011-->1->11 1->011 0->11   1->11-->1->11 1->011   0->11-->1->011 1->0          1->11-->1->11 1->11 --->1->11-->1->11 1->011   1->11-->1->11 1->11   ---->1->11-->1->11 1->11 --->1->11-->1->11 1->011   1->11-->1->11 1->11      1->11-->1->11 1->011 --->1->011-->1->11 1->011 0->11   1->11-->1->11 1->11          ': 1, '1->011-->1->11 1->011 0->11 --->1->011-->1->11 1->011 0->11   1->11-->1->11 1->011   0->11-->1->011 1->01   ---->0->11-->1->011 1->01 --->1->011-->1->11 1->011 0->11   1->01-->1->12 0->11      1->011-->1->11 1->011 0->11 --->1->011-->1->11 1->011 0->11   1->11-->1->11 1->011   0->11-->1->011 1->0      1->11-->1->11 1->011 --->1->011-->1->11 1->011 0->11   1->11-->1->11 1->11      ----->1->011-->1->11 1->011 0->11 --->1->011-->1->11 1->011 0->11   1->11-->1->11 1->011   0->11-->1->011 1->0   ---->1->011-->1->11 1->011 0->11 --->1->011-->1->11 1->011 0->11   1->11-->1->11 1->011   0->11-->1->011 1->01      1->11-->1->11 1->011 --->1->011-->1->11 1->011 0->11   1->11-->1->11 1->11      0->11-->1->011 1->0 --->1->011-->1->11 1->011 0->11   1->0-->0->11          1->11-->1->11 1->011 --->1->011-->1->11 1->011 0->11   1->11-->1->11 1->11   ---->1->11-->1->11 1->11 --->1->11-->1->11 1->011   1->11-->1->11 1->11      1->011-->1->11 1->011 0->11 --->1->011-->1->11 1->011 0->11   1->11-->1->11 1->011   0->11-->1->011 1->01          0->11-->1->011 1->01 --->1->011-->1->11 1->011 0->11   1->01-->1->12 0->11   ---->1->011-->1->11 1->011 0->11 --->1->011-->1->11 1->011 0->11   1->11-->1->11 1->011   0->11-->1->011 1->01      1->01-->1->12 0->11 --->1->12-->2->111 1->01   0->11-->1->011 1->01          ': 1, '1->0-->0->11 --->0->11-->1->011 1->0   ---->0->11-->1->011 1->0 --->1->011-->1->11 1->011 0->11   1->0-->0->11      ----->0->11-->1->011 1->0 --->1->011-->1->11 1->011 0->11   1->0-->0->11   ---->1->011-->1->11 1->011 0->11 --->1->011-->1->11 1->011 0->11   1->11-->1->11 1->011   0->11-->1->011 1->0      1->0-->0->11 --->0->11-->1->011 1->0          ': 1, '1->12-->2->111 1->1 --->1->1-->1->12   2->111-->1->12 1->12 1->12   ---->1->1-->1->12 --->1->12-->2->111 1->1      2->111-->1->12 1->12 1->12 --->1->12-->2->111 1->1   1->12-->2->111 1->1   1->12-->2->111 1->01      ----->1->1-->1->12 --->1->12-->2->111 1->1   ---->1->12-->2->111 1->1 --->1->1-->1->12   2->111-->1->12 1->12 1->12          2->111-->1->12 1->12 1->12 --->1->12-->2->111 1->1   1->12-->2->111 1->1   1->12-->2->111 1->01   ---->1->12-->2->111 1->1 --->1->1-->1->12   2->111-->1->12 1->12 1->12      1->12-->2->111 1->1 --->1->1-->1->12   2->111-->1->12 1->12 1->12      1->12-->2->111 1->01 --->1->01-->1->12 0->11   2->111-->1->12 1->12 1->12          ': 2, '2->111-->1->12 1->12 1->12 --->1->12-->2->111 1->1   1->12-->2->111 1->1   1->12-->2->111 1->01   ---->1->12-->2->111 1->1 --->1->1-->1->12   2->111-->1->12 1->12 1->12      1->12-->2->111 1->1 --->1->1-->1->12   2->111-->1->12 1->12 1->12      1->12-->2->111 1->01 --->1->01-->1->12 0->11   2->111-->1->12 1->12 1->12      ----->1->12-->2->111 1->01 --->1->01-->1->12 0->11   2->111-->1->12 1->12 1->12   ---->2->111-->1->12 1->12 1->12 --->1->12-->2->111 1->1   1->12-->2->111 1->1   1->12-->2->111 1->01      1->01-->1->12 0->11 --->1->12-->2->111 1->01   0->11-->1->011 1->01          1->12-->2->111 1->1 --->1->1-->1->12   2->111-->1->12 1->12 1->12   ---->1->1-->1->12 --->1->12-->2->111 1->1      2->111-->1->12 1->12 1->12 --->1->12-->2->111 1->1   1->12-->2->111 1->1   1->12-->2->111 1->01          1->12-->2->111 1->1 --->1->1-->1->12   2->111-->1->12 1->12 1->12   ---->1->1-->1->12 --->1->12-->2->111 1->1      2->111-->1->12 1->12 1->12 --->1->12-->2->111 1->1   1->12-->2->111 1->1   1->12-->2->111 1->01          ': 1}\n"
     ]
    }
   ],
   "source": [
    "print(WL(training_data[0], 10, verbose=True))"
   ]
  },
  {
   "cell_type": "code",
   "execution_count": 22,
   "metadata": {},
   "outputs": [
    {
     "name": "stdout",
     "output_type": "stream",
     "text": [
      "{\n",
      " \"0\": 8,\n",
      " \"1\": 16,\n",
      " \"2\": 3,\n",
      " \"1->0111\": 1,\n",
      " \"0->1\": 8,\n",
      " \"1->022\": 1,\n",
      " \"2->111\": 3,\n",
      " \"1->11\": 2,\n",
      " \"1->12\": 6,\n",
      " \"1->2\": 1,\n",
      " \"1->1\": 2,\n",
      " \"1->001\": 3,\n",
      " \"0->1-->1->0111 \": 1,\n",
      " \"2->111-->1->12 1->12 1->2 \": 1,\n",
      " \"1->022-->0->1 2->111 2->111 \": 1,\n",
      " \"2->111-->1->022 1->12 1->12 \": 2,\n",
      " \"1->12-->2->111 1->1 \": 2,\n",
      " \"1->12-->2->111 1->12 \": 4,\n",
      " \"1->0111-->0->1 1->11 1->11 1->001 \": 1,\n",
      " \"1->11-->1->0111 1->001 \": 2,\n",
      " \"1->001-->0->1 0->1 1->11 \": 2,\n",
      " \"0->1-->1->022 \": 1,\n",
      " \"1->2-->2->111 \": 1,\n",
      " \"1->1-->1->12 \": 2,\n",
      " \"1->001-->1->0111 0->1 0->1 \": 1,\n",
      " \"0->1-->1->001 \": 6,\n",
      " \"2->111-->1->022 1->12 1->12 --->1->022-->0->1 2->111 2->111   1->12-->2->111 1->1   1->12-->2->111 1->1   \": 1,\n",
      " \"1->1-->1->12 --->1->12-->2->111 1->1   \": 2,\n",
      " \"0->1-->1->022 --->1->022-->0->1 2->111 2->111   \": 1,\n",
      " \"1->11-->1->0111 1->001 --->1->0111-->0->1 1->11 1->11 1->001   1->001-->0->1 0->1 1->11   \": 2,\n",
      " \"0->1-->1->001 --->1->001-->1->0111 0->1 0->1   \": 2,\n",
      " \"1->12-->2->111 1->1 --->2->111-->1->022 1->12 1->12   1->1-->1->12   \": 2,\n",
      " \"1->022-->0->1 2->111 2->111 --->2->111-->1->022 1->12 1->12   2->111-->1->022 1->12 1->12   0->1-->1->022   \": 1,\n",
      " \"1->12-->2->111 1->12 --->2->111-->1->022 1->12 1->12   1->12-->2->111 1->12   \": 2,\n",
      " \"1->001-->1->0111 0->1 0->1 --->1->0111-->0->1 1->11 1->11 1->001   0->1-->1->001   0->1-->1->001   \": 1,\n",
      " \"1->001-->0->1 0->1 1->11 --->1->11-->1->0111 1->001   0->1-->1->001   0->1-->1->001   \": 2,\n",
      " \"1->0111-->0->1 1->11 1->11 1->001 --->0->1-->1->0111   1->11-->1->0111 1->001   1->11-->1->0111 1->001   1->001-->1->0111 0->1 0->1   \": 1,\n",
      " \"1->2-->2->111 --->2->111-->1->12 1->12 1->2   \": 1,\n",
      " \"0->1-->1->001 --->1->001-->0->1 0->1 1->11   \": 4,\n",
      " \"2->111-->1->12 1->12 1->2 --->1->12-->2->111 1->12   1->12-->2->111 1->12   1->2-->2->111   \": 1,\n",
      " \"1->12-->2->111 1->12 --->2->111-->1->12 1->12 1->2   1->12-->2->111 1->12   \": 2,\n",
      " \"0->1-->1->0111 --->1->0111-->0->1 1->11 1->11 1->001   \": 1,\n",
      " \"2->111-->1->022 1->12 1->12 --->1->022-->0->1 2->111 2->111   1->12-->2->111 1->12   1->12-->2->111 1->12   \": 1\n",
      "}\n"
     ]
    }
   ],
   "source": [
    "mol_id = 10\n",
    "embedding = WL(training_data[mol_id], 10)\n",
    "print(json.dumps(embedding, indent=1))"
   ]
  },
  {
   "cell_type": "code",
   "execution_count": 23,
   "metadata": {},
   "outputs": [
    {
     "data": {
      "image/png": "[encoded data removed]",
      "text/plain": [
       "<Figure size 432x288 with 1 Axes>"
      ]
     },
     "metadata": {},
     "output_type": "display_data"
    }
   ],
   "source": [
    "draw_networkx(training_data[mol_id], labels=get_all_atom_types(training_data[mol_id]))"
   ]
  },
  {
   "cell_type": "code",
   "execution_count": 24,
   "metadata": {},
   "outputs": [
    {
     "name": "stdout",
     "output_type": "stream",
     "text": [
      "[[ 306.  322.  213. ...  325.  607.  767.]\n",
      " [   0.  678.  328. ...  566. 1091. 1330.]\n",
      " [   0.    0.  248. ...  330.  582.  759.]\n",
      " ...\n",
      " [   0.    0.    0. ...  675. 1043. 1381.]\n",
      " [   0.    0.    0. ...    0. 2436. 2558.]\n",
      " [   0.    0.    0. ...    0.    0. 3666.]]\n",
      "0.3633239269256592\n"
     ]
    }
   ],
   "source": [
    "N = 100\n",
    "gram = np.zeros((N,N))\n",
    "fv = []\n",
    "\n",
    "start = time.time()\n",
    "for k in range(N) :\n",
    "    fv.append(WL(training_data[k], max_iter=5))\n",
    "\n",
    "for i in range(N) :\n",
    "    for j in range(i, N) :\n",
    "        gram[i,j] = liner_kernel(fv[i],fv[j])\n",
    "\n",
    "end = time.time()\n",
    "\n",
    "print(gram)\n",
    "print(end-start)"
   ]
  }
 ],
 "metadata": {
  "kernelspec": {
   "display_name": "kernel",
   "language": "python",
   "name": "python3"
  },
  "language_info": {
   "codemirror_mode": {
    "name": "ipython",
    "version": 3
   },
   "file_extension": ".py",
   "mimetype": "text/x-python",
   "name": "python",
   "nbconvert_exporter": "python",
   "pygments_lexer": "ipython3",
   "version": "3.9.16"
  },
  "orig_nbformat": 4,
  "vscode": {
   "interpreter": {
    "hash": "8d740a523e44a4959d9f91f6a58710773fcda7f07940896f8324598d750a8e79"
   }
  }
 },
 "nbformat": 4,
 "nbformat_minor": 2
}

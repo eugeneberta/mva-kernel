{
 "cells": [
  {
   "cell_type": "code",
   "execution_count": 1,
   "metadata": {},
   "outputs": [],
   "source": [
    "import pickle \n",
    "from networkx import draw_networkx_nodes, draw_networkx_edges\n",
    "import matplotlib.pyplot as plt\n",
    "import numpy as np"
   ]
  },
  {
   "cell_type": "code",
   "execution_count": 2,
   "metadata": {},
   "outputs": [],
   "source": [
    "training_data_path = 'data/training_data.pkl'\n",
    "test_data_path = 'data/test_data.pkl'\n",
    "training_labels_path = 'data/training_labels.pkl'"
   ]
  },
  {
   "cell_type": "code",
   "execution_count": 3,
   "metadata": {},
   "outputs": [],
   "source": [
    "with open(training_data_path, 'rb') as f :\n",
    "    training_data = pickle.load(f)\n",
    "\n",
    "with open(training_labels_path, 'rb') as f :\n",
    "    training_labels = pickle.load(f)\n",
    "\n",
    "with open(test_data_path, 'rb') as f :\n",
    "    test_data = pickle.load(f)"
   ]
  },
  {
   "cell_type": "code",
   "execution_count": 4,
   "metadata": {},
   "outputs": [
    {
     "name": "stdout",
     "output_type": "stream",
     "text": [
      "<class 'list'>\n",
      "6000\n"
     ]
    }
   ],
   "source": [
    "print(type(training_data))\n",
    "print(len(training_data))"
   ]
  },
  {
   "attachments": {},
   "cell_type": "markdown",
   "metadata": {},
   "source": [
    "### Slight overview on nodes"
   ]
  },
  {
   "cell_type": "code",
   "execution_count": 5,
   "metadata": {},
   "outputs": [
    {
     "name": "stdout",
     "output_type": "stream",
     "text": [
      "[0, 1, 2, 3, 4, 5, 6, 7, 8, 9, 10, 11, 12, 13, 14, 15]\n",
      "1-1-2-0-0-1-1-1-1-1-1-1-1-1-1-1-"
     ]
    }
   ],
   "source": [
    "first_mol = training_data[0]\n",
    "print(first_mol.nodes)\n",
    "\n",
    "for atom in first_mol.nodes :\n",
    "    print(first_mol.nodes[atom]['labels'][0], end='-')"
   ]
  },
  {
   "cell_type": "code",
   "execution_count": 6,
   "metadata": {},
   "outputs": [
    {
     "name": "stdout",
     "output_type": "stream",
     "text": [
      "[0, 1, 2, 3, 4, 5, 6, 7, 8, 9, 10, 11, 12, 13, 14, 15, 16, 17, 18, 19, 20, 21, 22, 23]\n",
      "1-1-1-1-2-1-1-1-1-1-1-1-2-2-1-1-1-1-1-1-1-1-1-4-"
     ]
    }
   ],
   "source": [
    "second_mol = training_data[1]\n",
    "print(second_mol.nodes)\n",
    "\n",
    "for atom in second_mol.nodes :\n",
    "    print(second_mol.nodes[atom]['labels'][0], end='-')"
   ]
  },
  {
   "cell_type": "code",
   "execution_count": 7,
   "metadata": {},
   "outputs": [
    {
     "name": "stdout",
     "output_type": "stream",
     "text": [
      "0-th molecule composed of 16 atoms.\n",
      "1-1-2-0-0-1-1-1-1-1-1-1-1-1-1-1-\n",
      " ------------\n",
      "1-th molecule composed of 24 atoms.\n",
      "1-1-2-0-0-1-1-1-1-1-1-1-1-1-1-1-\n",
      " ------------\n",
      "2-th molecule composed of 18 atoms.\n",
      "1-1-2-0-0-1-1-1-1-1-1-1-1-1-1-1-\n",
      " ------------\n",
      "3-th molecule composed of 33 atoms.\n",
      "1-1-2-0-0-1-1-1-1-1-1-1-1-1-1-1-\n",
      " ------------\n",
      "4-th molecule composed of 32 atoms.\n",
      "1-1-2-0-0-1-1-1-1-1-1-1-1-1-1-1-\n",
      " ------------\n"
     ]
    }
   ],
   "source": [
    "N_preview = 5\n",
    "\n",
    "for i in range(N_preview) :\n",
    "    \n",
    "    mol = training_data[i]\n",
    "    print(f'{i}-th molecule composed of {len(mol.nodes)} atoms.')\n",
    "\n",
    "    for atom in first_mol.nodes :\n",
    "        print(first_mol.nodes[atom]['labels'][0], end='-')\n",
    "    print('\\n ------------')"
   ]
  },
  {
   "cell_type": "code",
   "execution_count": 8,
   "metadata": {},
   "outputs": [],
   "source": [
    "atom_dict = {k:0 for k in range(50)}\n"
   ]
  },
  {
   "cell_type": "code",
   "execution_count": 9,
   "metadata": {},
   "outputs": [],
   "source": [
    "molecule_length = []\n",
    "\n",
    "for i in range(len(training_data)) :\n",
    "    \n",
    "    mol = training_data[i]\n",
    "    molecule_length.append(len(mol.nodes))\n",
    "\n",
    "    for atom in mol.nodes :\n",
    "        atom_type = mol.nodes[atom]['labels'][0]\n",
    "        atom_dict[atom_type]+=1"
   ]
  },
  {
   "cell_type": "code",
   "execution_count": 10,
   "metadata": {},
   "outputs": [
    {
     "data": {
      "image/png": "[encoded data removed]",
      "text/plain": [
       "<Figure size 432x288 with 1 Axes>"
      ]
     },
     "metadata": {
      "needs_background": "light"
     },
     "output_type": "display_data"
    }
   ],
   "source": [
    "plt.hist(molecule_length, width=0.8, bins=15, align='mid')\n",
    "plt.title('Distribution of molecule length in training dataset')\n",
    "plt.xlabel('length')\n",
    "plt.show()\n"
   ]
  },
  {
   "cell_type": "code",
   "execution_count": 11,
   "metadata": {},
   "outputs": [
    {
     "name": "stdout",
     "output_type": "stream",
     "text": [
      "16.140333333333334\n",
      "14.0\n",
      "10.0\n",
      "20.0\n"
     ]
    }
   ],
   "source": [
    "print(np.mean(molecule_length))\n",
    "print(np.median(molecule_length))\n",
    "print(np.quantile(molecule_length, 0.25))\n",
    "print(np.quantile(molecule_length, 0.75))"
   ]
  },
  {
   "cell_type": "code",
   "execution_count": 12,
   "metadata": {},
   "outputs": [
    {
     "name": "stdout",
     "output_type": "stream",
     "text": [
      "{0: 15755, 1: 68731, 2: 6900, 3: 1014, 4: 1893, 5: 1316, 6: 277, 7: 98, 8: 293, 9: 106, 10: 0, 11: 25, 12: 36, 13: 239, 14: 1, 15: 7, 16: 8, 17: 20, 18: 1, 19: 6, 20: 0, 21: 11, 22: 3, 23: 2, 24: 3, 25: 1, 26: 3, 27: 4, 28: 38, 29: 0, 30: 1, 31: 5, 32: 9, 33: 7, 34: 3, 35: 1, 36: 1, 37: 4, 38: 1, 39: 4, 40: 1, 41: 3, 42: 1, 43: 1, 44: 3, 45: 2, 46: 1, 47: 1, 48: 1, 49: 1}\n"
     ]
    }
   ],
   "source": [
    "print(atom_dict)"
   ]
  },
  {
   "cell_type": "code",
   "execution_count": 13,
   "metadata": {},
   "outputs": [
    {
     "data": {
      "image/png": "[encoded data removed]",
      "text/plain": [
       "<Figure size 432x288 with 1 Axes>"
      ]
     },
     "metadata": {
      "needs_background": "light"
     },
     "output_type": "display_data"
    }
   ],
   "source": [
    "plt.bar(atom_dict.keys(), atom_dict.values(), width= 0.7, align='center')\n",
    "plt.title('Distribution of the atom types across the training dataset')\n",
    "plt.show()"
   ]
  },
  {
   "cell_type": "code",
   "execution_count": 14,
   "metadata": {},
   "outputs": [
    {
     "data": {
      "image/png": "[encoded data removed]",
      "text/plain": [
       "<Figure size 432x288 with 1 Axes>"
      ]
     },
     "metadata": {
      "needs_background": "light"
     },
     "output_type": "display_data"
    }
   ],
   "source": [
    "tail_atom_dict = atom_dict\n",
    "del tail_atom_dict[0]\n",
    "del tail_atom_dict[1]\n",
    "del tail_atom_dict[2]\n",
    "plt.bar(tail_atom_dict.keys(), tail_atom_dict.values(), width= 0.7, align='center')\n",
    "plt.title('Distribution of the atom types (without type 0,1,2) across the training dataset')\n",
    "plt.show()"
   ]
  },
  {
   "cell_type": "code",
   "execution_count": 15,
   "metadata": {},
   "outputs": [
    {
     "name": "stdout",
     "output_type": "stream",
     "text": [
      "47-4-4-4-\n",
      "\n",
      "0-48-0-0-\n",
      "\n",
      "1-1-1-1-1-1-4-49-\n",
      "\n"
     ]
    }
   ],
   "source": [
    "# Check structure of molecule containing atom #47-48-49\n",
    "for i in range(len(training_data)) :\n",
    "    \n",
    "    mol = training_data[i]\n",
    "\n",
    "    for atom in mol.nodes :\n",
    "        atom_type = mol.nodes[atom]['labels'][0]\n",
    "        if atom_type in [47,48,49] :\n",
    "            for atom in mol.nodes :\n",
    "                print(mol.nodes[atom]['labels'][0], end='-')\n",
    "            print('\\n')"
   ]
  },
  {
   "attachments": {},
   "cell_type": "markdown",
   "metadata": {},
   "source": [
    "### Slight overview on edges"
   ]
  },
  {
   "cell_type": "code",
   "execution_count": 16,
   "metadata": {},
   "outputs": [
    {
     "name": "stdout",
     "output_type": "stream",
     "text": [
      "{0: 60228, 1: 8812, 2: 28308, 3: 238}\n",
      "77\n"
     ]
    }
   ],
   "source": [
    "edges_dict = {k:0 for k in range(4)}\n",
    "\n",
    "for i in range(len(training_data)) :\n",
    "    \n",
    "    mol = training_data[i]\n",
    "    mol_length = len(mol.nodes)\n",
    "\n",
    "    edge_list = [(i,j) for i in range(mol_length) for j in range(i+1, mol_length)]\n",
    "\n",
    "    number_error = 0\n",
    "\n",
    "    for edge in edge_list :\n",
    "            try :\n",
    "                edge_type = mol.edges[edge[0],edge[1]]['labels'][0]\n",
    "                # edges_dict[edge_type] = edges_dict.get(edge_type, 0) + 1\n",
    "                edges_dict[edge_type] += 1\n",
    "            except KeyError as e :\n",
    "                number_error += 1\n",
    "\n",
    "print(edges_dict)\n",
    "print(number_error)"
   ]
  },
  {
   "cell_type": "code",
   "execution_count": 17,
   "metadata": {},
   "outputs": [
    {
     "name": "stdout",
     "output_type": "stream",
     "text": [
      "In the training set, 0.079% of atom bonds do not exist\n"
     ]
    }
   ],
   "source": [
    "print(f'In the training set, {100*number_error/(sum(edges_dict.values())+number_error):.3f}% of atom bonds do not exist')"
   ]
  },
  {
   "attachments": {},
   "cell_type": "markdown",
   "metadata": {},
   "source": [
    "### Discovering labels of training data"
   ]
  },
  {
   "cell_type": "code",
   "execution_count": 18,
   "metadata": {},
   "outputs": [
    {
     "name": "stdout",
     "output_type": "stream",
     "text": [
      "<class 'numpy.ndarray'>\n",
      "6000\n",
      "{0, 1}\n"
     ]
    }
   ],
   "source": [
    "print(type(training_labels))\n",
    "print(len(training_labels))\n",
    "print(set(training_labels))"
   ]
  },
  {
   "cell_type": "code",
   "execution_count": 19,
   "metadata": {},
   "outputs": [
    {
     "name": "stdout",
     "output_type": "stream",
     "text": [
      "555/6000 are positive graphs.\n"
     ]
    }
   ],
   "source": [
    "print(f\"{np.sum(training_labels)}/{len(training_labels)} are positive graphs.\")"
   ]
  }
 ],
 "metadata": {
  "kernelspec": {
   "display_name": "kernel",
   "language": "python",
   "name": "python3"
  },
  "language_info": {
   "codemirror_mode": {
    "name": "ipython",
    "version": 3
   },
   "file_extension": ".py",
   "mimetype": "text/x-python",
   "name": "python",
   "nbconvert_exporter": "python",
   "pygments_lexer": "ipython3",
   "version": "3.9.16"
  },
  "orig_nbformat": 4,
  "vscode": {
   "interpreter": {
    "hash": "8d740a523e44a4959d9f91f6a58710773fcda7f07940896f8324598d750a8e79"
   }
  }
 },
 "nbformat": 4,
 "nbformat_minor": 2
}

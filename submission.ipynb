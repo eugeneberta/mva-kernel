{
 "cells": [
  {
   "cell_type": "code",
   "execution_count": 1,
   "metadata": {},
   "outputs": [],
   "source": [
    "import cvxopt\n",
    "import pickle as pkl\n",
    "import pandas as pd\n",
    "import numpy as np\n",
    "import networkx as nx\n",
    "import matplotlib.pyplot as plt\n",
    "\n",
    "from tqdm import tqdm\n",
    "from scipy import optimize\n",
    "from sklearn.metrics import roc_auc_score\n",
    "from utils_eugene import get_all_atom_types, weisfeiler_lehman\n",
    "from sklearn.metrics import confusion_matrix, ConfusionMatrixDisplay"
   ]
  },
  {
   "attachments": {},
   "cell_type": "markdown",
   "metadata": {},
   "source": [
    "Reading the data:"
   ]
  },
  {
   "cell_type": "code",
   "execution_count": 2,
   "metadata": {},
   "outputs": [],
   "source": [
    "with open('data/training_data.pkl', 'rb') as file:\n",
    "    train_graphs = pkl.load(file)\n",
    "\n",
    "with open('data/test_data.pkl', 'rb') as file:\n",
    "    test_graphs = pkl.load(file)\n",
    "\n",
    "with open('data/training_labels.pkl', 'rb') as file:\n",
    "    train_labels = pkl.load(file)"
   ]
  },
  {
   "attachments": {},
   "cell_type": "markdown",
   "metadata": {},
   "source": [
    "Plotting the data:"
   ]
  },
  {
   "cell_type": "code",
   "execution_count": 3,
   "metadata": {},
   "outputs": [
    {
     "data": {
      "image/png": "[encoded data removed]",
      "text/plain": [
       "<Figure size 432x288 with 1 Axes>"
      ]
     },
     "metadata": {},
     "output_type": "display_data"
    }
   ],
   "source": [
    "idx=0\n",
    "nx.draw_networkx(train_graphs[idx], labels=get_all_atom_types(train_graphs[idx]))"
   ]
  },
  {
   "attachments": {},
   "cell_type": "markdown",
   "metadata": {},
   "source": [
    "Kernel SVC that takes as input the Gram matrices:"
   ]
  },
  {
   "cell_type": "code",
   "execution_count": 4,
   "metadata": {},
   "outputs": [],
   "source": [
    "class KernelSVC:\n",
    "    def __init__(self, C, epsilon = 1e-3):\n",
    "        self.C = C\n",
    "        self.alpha = None\n",
    "        self.epsilon = epsilon\n",
    "    \n",
    "    def fit(self, G, y, method=\"cvxopt\", class_weights=True):\n",
    "        N = len(y)\n",
    "        K = G\n",
    "        y = y*2-1 # rescaling values to -1, 1\n",
    "        self.y = y\n",
    "\n",
    "        assert (np.unique(y) == np.array([-1, 1])).all(), print('y must take values in [-1, 1]')\n",
    "\n",
    "        if type(class_weights)==bool and class_weights:\n",
    "            Cvect = (N / np.sum((self.y==-1))) * (self.y == -1) + (N / np.sum((self.y==1))) * (self.y == 1)\n",
    "        if type(class_weights) == dict:\n",
    "            Cvect = class_weights[-1] * (self.y == -1) + class_weights[1] * (self.y == 1)\n",
    "        else:\n",
    "            Cvect = self.C*np.ones(N)\n",
    "\n",
    "        if method==\"scipy\":\n",
    "            # Lagrange dual problem\n",
    "            def loss(alpha):\n",
    "                ay = np.multiply(alpha, y)\n",
    "                return 0.5*np.dot(ay, K@ay) - np.sum(alpha)\n",
    "\n",
    "            # Partial derivate of Ld on alpha\n",
    "            def grad_loss(alpha):\n",
    "                return np.dot(np.diag(y)@K@np.diag(y), alpha) - np.ones(N)\n",
    "\n",
    "            # function defining the equality constraint\n",
    "            fun_eq = lambda alpha: np.dot(alpha, y)\n",
    "            # jacobian wrt alpha of the  equality constraint\n",
    "            jac_eq = lambda alpha: y\n",
    "            # function defining the inequality constraint\n",
    "            fun_ineq = lambda alpha: (\n",
    "                np.append(np.zeros(N), self.C*np.ones(N)) - np.vstack((-np.eye(N), np.eye(N)))@alpha\n",
    "            )\n",
    "            # jacobian wrt alpha of the  inequality constraint\n",
    "            jac_ineq = lambda alpha: - np.vstack((-np.eye(N), np.eye(N)))\n",
    "            \n",
    "            constraints = ({'type': 'eq', 'fun': fun_eq, 'jac': jac_eq},\n",
    "                        {'type': 'ineq', 'fun': fun_ineq, 'jac': jac_ineq})\n",
    "\n",
    "            optRes = optimize.minimize(\n",
    "                fun=lambda alpha: loss(alpha),\n",
    "                x0=np.ones(N),\n",
    "                method='SLSQP',\n",
    "                jac=lambda alpha: grad_loss(alpha),\n",
    "                constraints=constraints,\n",
    "                options={'disp': True}\n",
    "            )\n",
    "            self.alpha = optRes.x\n",
    "\n",
    "            # Useful to simplify notations:\n",
    "            ay = np.multiply(self.alpha, y)\n",
    "\n",
    "            # Indices of support vectors:\n",
    "            support_idx = np.where((self.alpha < self.C - self.epsilon) & (self.alpha > self.epsilon))\n",
    "            print(f'Found {len(support_idx)} support vectors.')\n",
    "\n",
    "            # Offset of the classifier\n",
    "            self.b = np.median(y[support_idx] - K[support_idx]@ay)\n",
    "            print(f'b = {self.b}')\n",
    "\n",
    "            # RKHS norm of the function f\n",
    "            self.norm_f = np.sqrt(np.dot(ay, K@ay))\n",
    "            print(f'||f|| = {self.norm_f}')\n",
    "\n",
    "        elif method == \"cvxopt\":\n",
    "            # Quadratic objective\n",
    "            P = np.diag(self.y) @ K @ np.diag(self.y)\n",
    "            q = -np.ones(N)\n",
    "\n",
    "            # Constraints\n",
    "            G = np.kron(np.array([[-1.0], [1.0]]), np.eye(N))\n",
    "            h = np.kron(np.array([0.0, 1.0]), Cvect)\n",
    "            A = self.y.reshape(1, -1).astype(\"float\")\n",
    "            b = np.array([[0.0]]).astype(\"float\")\n",
    "\n",
    "            # Optimization\n",
    "            out = cvxopt.solvers.qp(\n",
    "                P=cvxopt.matrix(P),\n",
    "                q=cvxopt.matrix(q),\n",
    "                G=cvxopt.matrix(G),\n",
    "                h=cvxopt.matrix(h),\n",
    "                A=cvxopt.matrix(A),\n",
    "                b=cvxopt.matrix(b),\n",
    "            )\n",
    "            self.alpha = np.array(out[\"x\"]).reshape((N,))\n",
    "\n",
    "    ### Implementation of the separating function $f$\n",
    "    def separating_function(self, G):\n",
    "        # Input : matrix x of shape N data points times d dimension\n",
    "        # Output: vector of size N\n",
    "        ay = np.multiply(self.alpha, self.y)\n",
    "        return G@ay\n",
    "    \n",
    "    def predict(self, G):\n",
    "        \"\"\" Predict y values in {0, 1} \"\"\"\n",
    "        d = self.separating_function(G)\n",
    "        return d > 0 # +self.b)"
   ]
  },
  {
   "cell_type": "code",
   "execution_count": 5,
   "metadata": {},
   "outputs": [],
   "source": [
    "from sklearn.model_selection import train_test_split"
   ]
  },
  {
   "cell_type": "code",
   "execution_count": 6,
   "metadata": {},
   "outputs": [],
   "source": [
    "train_idx, val_idx = train_test_split(range(6000), test_size=0.2, random_state=42)\n",
    "N_train = len(train_idx)\n",
    "N_val = len(val_idx)"
   ]
  },
  {
   "cell_type": "code",
   "execution_count": 7,
   "metadata": {},
   "outputs": [],
   "source": [
    "X_train = []\n",
    "for i in train_idx:\n",
    "    X_train.append(weisfeiler_lehman(train_graphs[i], h=4))\n",
    "\n",
    "X_val = []\n",
    "for i in val_idx:\n",
    "    X_val.append(weisfeiler_lehman(train_graphs[i], h=4))\n",
    "\n",
    "y_train = train_labels[train_idx]\n",
    "y_val = train_labels[val_idx]"
   ]
  },
  {
   "cell_type": "code",
   "execution_count": 8,
   "metadata": {},
   "outputs": [],
   "source": [
    "def WLK_linear(l1, l2):\n",
    "    common_patterns = l1.keys() & l2.keys()\n",
    "    wkl = 0\n",
    "    for pattern in common_patterns:\n",
    "        wkl += l1[pattern]*l2[pattern]\n",
    "    return wkl"
   ]
  },
  {
   "cell_type": "code",
   "execution_count": 9,
   "metadata": {},
   "outputs": [],
   "source": [
    "def WLK_gaussian(l1, l2):\n",
    "    s1 = set(l1.keys())\n",
    "    s2 = set(l2.keys())\n",
    "    common_patterns = list(s1 & s2)\n",
    "    patterns1 = list(s1-s2)\n",
    "    patterns2 = list(s2-s1)\n",
    "    wkl = 0\n",
    "    for pattern in common_patterns:\n",
    "        wkl += (l1[pattern]-l2[pattern])**2\n",
    "    for pattern in patterns1:\n",
    "        wkl += l1[pattern]**2\n",
    "    for pattern in patterns2:\n",
    "        wkl += l2[pattern]**2\n",
    "    return wkl"
   ]
  },
  {
   "attachments": {},
   "cell_type": "markdown",
   "metadata": {},
   "source": [
    "Computing the Gram matrices:"
   ]
  },
  {
   "cell_type": "code",
   "execution_count": 10,
   "metadata": {},
   "outputs": [
    {
     "name": "stderr",
     "output_type": "stream",
     "text": [
      "100%|██████████| 4800/4800 [02:19<00:00, 34.45it/s] \n"
     ]
    }
   ],
   "source": [
    "G_train = np.zeros((N_train, N_train))\n",
    "for i in tqdm(range(N_train)):\n",
    "    for j in range(i, N_train):\n",
    "        g = WLK_gaussian(X_train[i], X_train[j])\n",
    "        G_train[i,j] = g\n",
    "        G_train[j,i] = g"
   ]
  },
  {
   "cell_type": "code",
   "execution_count": 11,
   "metadata": {},
   "outputs": [
    {
     "name": "stderr",
     "output_type": "stream",
     "text": [
      "100%|██████████| 1200/1200 [01:08<00:00, 17.42it/s]\n"
     ]
    }
   ],
   "source": [
    "G_val = np.zeros((N_val, N_train))\n",
    "for i in tqdm(range(N_val)):\n",
    "    for j in range(N_train):\n",
    "        G_val[i,j] = WLK_gaussian(X_val[i], X_train[j])"
   ]
  },
  {
   "attachments": {},
   "cell_type": "markdown",
   "metadata": {},
   "source": [
    "#### Fitting SVC:"
   ]
  },
  {
   "cell_type": "code",
   "execution_count": 12,
   "metadata": {},
   "outputs": [],
   "source": [
    "# RBF Kernel:\n",
    "sigma = 1.\n",
    "G_train_exp = np.exp(-0.5*G_train/(sigma**2))\n",
    "G_val_exp = np.exp(-0.5*G_val/(sigma**2))"
   ]
  },
  {
   "cell_type": "code",
   "execution_count": 22,
   "metadata": {},
   "outputs": [
    {
     "name": "stdout",
     "output_type": "stream",
     "text": [
      "     pcost       dcost       gap    pres   dres\n",
      " 0: -6.1509e+02 -1.3661e+04  5e+04  2e+00  2e-15\n",
      " 1: -5.3905e+02 -6.6344e+03  7e+03  9e-02  1e-15\n",
      " 2: -5.9580e+02 -1.9950e+03  1e+03  2e-02  1e-15\n",
      " 3: -6.5277e+02 -1.0421e+03  4e+02  3e-03  1e-15\n",
      " 4: -6.7347e+02 -7.9021e+02  1e+02  6e-04  1e-15\n",
      " 5: -6.8102e+02 -7.0796e+02  3e+01  9e-14  1e-15\n",
      " 6: -6.8260e+02 -6.9488e+02  1e+01  1e-14  1e-15\n",
      " 7: -6.8333e+02 -6.8853e+02  5e+00  4e-14  1e-15\n",
      " 8: -6.8371e+02 -6.8523e+02  2e+00  1e-14  1e-15\n",
      " 9: -6.8385e+02 -6.8413e+02  3e-01  3e-14  1e-15\n",
      "10: -6.8388e+02 -6.8395e+02  7e-02  6e-14  1e-15\n",
      "11: -6.8389e+02 -6.8389e+02  4e-03  6e-14  1e-15\n",
      "12: -6.8389e+02 -6.8389e+02  7e-05  3e-14  1e-15\n",
      "Optimal solution found.\n"
     ]
    }
   ],
   "source": [
    "C=10.\n",
    "model = KernelSVC(C=C)\n",
    "model.fit(G_train_exp, y_train, method='cvxopt', class_weights={-1: 1, 1: 3})"
   ]
  },
  {
   "cell_type": "code",
   "execution_count": 23,
   "metadata": {},
   "outputs": [],
   "source": [
    "y_pred = model.predict(G_val_exp)"
   ]
  },
  {
   "cell_type": "code",
   "execution_count": 24,
   "metadata": {},
   "outputs": [
    {
     "data": {
      "image/png": "[encoded data removed]",
      "text/plain": [
       "<Figure size 432x288 with 2 Axes>"
      ]
     },
     "metadata": {
      "needs_background": "light"
     },
     "output_type": "display_data"
    }
   ],
   "source": [
    "cm = confusion_matrix(y_val, y_pred)\n",
    "disp = ConfusionMatrixDisplay(confusion_matrix=cm,)\n",
    "disp.plot()\n",
    "plt.show()"
   ]
  },
  {
   "cell_type": "code",
   "execution_count": 25,
   "metadata": {},
   "outputs": [
    {
     "data": {
      "text/plain": [
       "0.8538518702006441"
      ]
     },
     "execution_count": 25,
     "metadata": {},
     "output_type": "execute_result"
    }
   ],
   "source": [
    "roc_auc_score(y_val, y_pred)"
   ]
  },
  {
   "attachments": {},
   "cell_type": "markdown",
   "metadata": {},
   "source": [
    "#### Fitting kNN:"
   ]
  },
  {
   "cell_type": "code",
   "execution_count": 10,
   "metadata": {},
   "outputs": [],
   "source": [
    "def kNN(G_val, y_train, k=3):\n",
    "    \"\"\"\n",
    "    Given a feature dictionnary whose label is to be predicted, the WL feature vector of the graphs in the training set \n",
    "    and the number of nearest neighbors k, returns the predicted label of G.\n",
    "    \"\"\"\n",
    "    neighbours = np.argpartition(G_val, k, axis=1)[:,:k]\n",
    "\n",
    "    y_pred = []\n",
    "    for i in range(len(neighbours)):\n",
    "        is_positive = sum([y_train[i] for i in neighbours[i]])\n",
    "        if is_positive > k/2 :\n",
    "            y_pred.append(1)\n",
    "        else:\n",
    "            y_pred.append(0)\n",
    "    return np.array(y_pred)"
   ]
  },
  {
   "cell_type": "code",
   "execution_count": 23,
   "metadata": {},
   "outputs": [],
   "source": [
    "y_pred = kNN(G_val, y_train, k=1)"
   ]
  },
  {
   "cell_type": "code",
   "execution_count": 27,
   "metadata": {},
   "outputs": [
    {
     "data": {
      "image/png": "[encoded data removed]",
      "text/plain": [
       "<Figure size 432x288 with 2 Axes>"
      ]
     },
     "metadata": {
      "needs_background": "light"
     },
     "output_type": "display_data"
    }
   ],
   "source": [
    "cm = confusion_matrix(y_val, y_pred)\n",
    "disp = ConfusionMatrixDisplay(confusion_matrix=cm,)\n",
    "disp.plot()\n",
    "plt.show()"
   ]
  },
  {
   "cell_type": "code",
   "execution_count": 28,
   "metadata": {},
   "outputs": [
    {
     "data": {
      "text/plain": [
       "0.412"
      ]
     },
     "execution_count": 28,
     "metadata": {},
     "output_type": "execute_result"
    }
   ],
   "source": [
    "y_pred.sum()/len(y_pred)"
   ]
  },
  {
   "cell_type": "code",
   "execution_count": 29,
   "metadata": {},
   "outputs": [
    {
     "data": {
      "text/plain": [
       "0.7372208436724565"
      ]
     },
     "execution_count": 29,
     "metadata": {},
     "output_type": "execute_result"
    }
   ],
   "source": [
    "roc_auc_score(y_val, y_pred)"
   ]
  },
  {
   "cell_type": "code",
   "execution_count": 19,
   "metadata": {},
   "outputs": [
    {
     "ename": "NameError",
     "evalue": "name 'test_preds' is not defined",
     "output_type": "error",
     "traceback": [
      "\u001b[0;31m---------------------------------------------------------------------------\u001b[0m",
      "\u001b[0;31mNameError\u001b[0m                                 Traceback (most recent call last)",
      "\u001b[0;32m<ipython-input-19-ce0c6119dd2c>\u001b[0m in \u001b[0;36m<module>\u001b[0;34m\u001b[0m\n\u001b[0;32m----> 1\u001b[0;31m \u001b[0mYte\u001b[0m \u001b[0;34m=\u001b[0m \u001b[0;34m{\u001b[0m\u001b[0;34m'Prediction'\u001b[0m \u001b[0;34m:\u001b[0m \u001b[0mtest_preds\u001b[0m\u001b[0;34m}\u001b[0m\u001b[0;34m\u001b[0m\u001b[0;34m\u001b[0m\u001b[0m\n\u001b[0m\u001b[1;32m      2\u001b[0m \u001b[0mdataframe\u001b[0m \u001b[0;34m=\u001b[0m \u001b[0mpd\u001b[0m\u001b[0;34m.\u001b[0m\u001b[0mDataFrame\u001b[0m\u001b[0;34m(\u001b[0m\u001b[0mYte\u001b[0m\u001b[0;34m)\u001b[0m\u001b[0;34m\u001b[0m\u001b[0;34m\u001b[0m\u001b[0m\n\u001b[1;32m      3\u001b[0m \u001b[0mdataframe\u001b[0m\u001b[0;34m.\u001b[0m\u001b[0mindex\u001b[0m \u001b[0;34m+=\u001b[0m \u001b[0;36m1\u001b[0m\u001b[0;34m\u001b[0m\u001b[0;34m\u001b[0m\u001b[0m\n\u001b[1;32m      4\u001b[0m \u001b[0mdataframe\u001b[0m\u001b[0;34m.\u001b[0m\u001b[0mto_csv\u001b[0m\u001b[0;34m(\u001b[0m\u001b[0;34m'test_pred.csv'\u001b[0m\u001b[0;34m,\u001b[0m \u001b[0mindex_label\u001b[0m\u001b[0;34m=\u001b[0m\u001b[0;34m'Id'\u001b[0m\u001b[0;34m)\u001b[0m\u001b[0;34m\u001b[0m\u001b[0;34m\u001b[0m\u001b[0m\n",
      "\u001b[0;31mNameError\u001b[0m: name 'test_preds' is not defined"
     ]
    }
   ],
   "source": [
    "Yte = {'Prediction' : test_preds}\n",
    "dataframe = pd.DataFrame(Yte)\n",
    "dataframe.index += 1\n",
    "dataframe.to_csv('test_pred.csv', index_label='Id')"
   ]
  }
 ],
 "metadata": {
  "kernelspec": {
   "display_name": "base",
   "language": "python",
   "name": "python3"
  },
  "language_info": {
   "codemirror_mode": {
    "name": "ipython",
    "version": 3
   },
   "file_extension": ".py",
   "mimetype": "text/x-python",
   "name": "python",
   "nbconvert_exporter": "python",
   "pygments_lexer": "ipython3",
   "version": "3.8.3"
  },
  "orig_nbformat": 4
 },
 "nbformat": 4,
 "nbformat_minor": 2
}

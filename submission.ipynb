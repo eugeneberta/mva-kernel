{
 "cells": [
  {
   "cell_type": "code",
   "execution_count": 1,
   "metadata": {},
   "outputs": [],
   "source": [
    "import cvxopt\n",
    "import pickle as pkl\n",
    "import pandas as pd\n",
    "import numpy as np\n",
    "import networkx as nx\n",
    "import matplotlib.pyplot as plt\n",
    "\n",
    "from tqdm import tqdm\n",
    "from scipy import optimize\n",
    "from sklearn.metrics import roc_auc_score\n",
    "from utils_eugene import get_all_atom_types, weisfeiler_lehman, clean_dataset, WLK_linear, WLK_gaussian, WL\n",
    "from sklearn.metrics import confusion_matrix, ConfusionMatrixDisplay"
   ]
  },
  {
   "cell_type": "code",
   "execution_count": 2,
   "metadata": {},
   "outputs": [],
   "source": [
    "cvxopt.solvers.options['show_progress'] = False"
   ]
  },
  {
   "attachments": {},
   "cell_type": "markdown",
   "metadata": {},
   "source": [
    "Reading the data:"
   ]
  },
  {
   "cell_type": "code",
   "execution_count": 3,
   "metadata": {},
   "outputs": [],
   "source": [
    "with open('data/training_data.pkl', 'rb') as file:\n",
    "    train_graphs = pkl.load(file)\n",
    "\n",
    "with open('data/test_data.pkl', 'rb') as file:\n",
    "    test_graphs = pkl.load(file)\n",
    "\n",
    "with open('data/training_labels.pkl', 'rb') as file:\n",
    "    train_labels = pkl.load(file)"
   ]
  },
  {
   "attachments": {},
   "cell_type": "markdown",
   "metadata": {},
   "source": [
    "Cleaning the data:"
   ]
  },
  {
   "cell_type": "code",
   "execution_count": 4,
   "metadata": {},
   "outputs": [],
   "source": [
    "#train_graphs = clean_dataset(train_graphs)"
   ]
  },
  {
   "attachments": {},
   "cell_type": "markdown",
   "metadata": {},
   "source": [
    "Plotting the data:"
   ]
  },
  {
   "cell_type": "code",
   "execution_count": 5,
   "metadata": {},
   "outputs": [
    {
     "data": {
      "image/png": "[encoded data removed]",
      "text/plain": [
       "<Figure size 432x288 with 1 Axes>"
      ]
     },
     "metadata": {},
     "output_type": "display_data"
    }
   ],
   "source": [
    "idx=0\n",
    "nx.draw_networkx(train_graphs[idx], labels=get_all_atom_types(train_graphs[idx]))"
   ]
  },
  {
   "attachments": {},
   "cell_type": "markdown",
   "metadata": {},
   "source": [
    "Kernel SVC that takes as input the Gram matrices:"
   ]
  },
  {
   "cell_type": "code",
   "execution_count": 6,
   "metadata": {},
   "outputs": [],
   "source": [
    "class KernelSVC:\n",
    "    def __init__(self, C, epsilon = 1e-3):\n",
    "        self.C = C\n",
    "        self.alpha = None\n",
    "        self.epsilon = epsilon\n",
    "    \n",
    "    def fit(self, G, y, method=\"cvxopt\", class_weights=True):\n",
    "        N = len(y)\n",
    "        K = G\n",
    "        y = y*2-1 # rescaling values to -1, 1\n",
    "        self.y = y\n",
    "\n",
    "        assert (np.unique(y) == np.array([-1, 1])).all(), print('y must take values in [-1, 1]')\n",
    "\n",
    "        if type(class_weights) == dict:\n",
    "            Cvect = self.C * class_weights[-1] * (self.y == -1) + self.C * class_weights[1] * (self.y == 1)\n",
    "        elif class_weights:\n",
    "            Cvect = self.C * (N / np.sum((self.y==-1))) * (self.y == -1) + self.C * (N / np.sum((self.y==1))) * (self.y == 1)\n",
    "        else:\n",
    "            Cvect = self.C * np.ones(N)\n",
    "\n",
    "        if method==\"scipy\":\n",
    "            # Lagrange dual problem\n",
    "            def loss(alpha):\n",
    "                ay = np.multiply(alpha, y)\n",
    "                return 0.5*np.dot(ay, K@ay) - np.sum(alpha)\n",
    "\n",
    "            # Partial derivate of Ld on alpha\n",
    "            def grad_loss(alpha):\n",
    "                return np.dot(np.diag(y)@K@np.diag(y), alpha) - np.ones(N)\n",
    "\n",
    "            # function defining the equality constraint\n",
    "            fun_eq = lambda alpha: np.dot(alpha, y)\n",
    "            # jacobian wrt alpha of the  equality constraint\n",
    "            jac_eq = lambda alpha: y\n",
    "            # function defining the inequality constraint\n",
    "            fun_ineq = lambda alpha: (\n",
    "                np.append(np.zeros(N), self.C*np.ones(N)) - np.vstack((-np.eye(N), np.eye(N)))@alpha\n",
    "            )\n",
    "            # jacobian wrt alpha of the  inequality constraint\n",
    "            jac_ineq = lambda alpha: - np.vstack((-np.eye(N), np.eye(N)))\n",
    "            \n",
    "            constraints = ({'type': 'eq', 'fun': fun_eq, 'jac': jac_eq},\n",
    "                        {'type': 'ineq', 'fun': fun_ineq, 'jac': jac_ineq})\n",
    "\n",
    "            optRes = optimize.minimize(\n",
    "                fun=lambda alpha: loss(alpha),\n",
    "                x0=np.ones(N),\n",
    "                method='SLSQP',\n",
    "                jac=lambda alpha: grad_loss(alpha),\n",
    "                constraints=constraints,\n",
    "                options={'disp': True}\n",
    "            )\n",
    "            self.alpha = optRes.x\n",
    "\n",
    "            # Useful to simplify notations:\n",
    "            ay = np.multiply(self.alpha, y)\n",
    "\n",
    "            # Indices of support vectors:\n",
    "            support_idx = np.where((self.alpha < self.C - self.epsilon) & (self.alpha > self.epsilon))\n",
    "            print(f'Found {len(support_idx)} support vectors.')\n",
    "\n",
    "            # Offset of the classifier\n",
    "            self.b = np.median(y[support_idx] - K[support_idx]@ay)\n",
    "            print(f'b = {self.b}')\n",
    "\n",
    "            # RKHS norm of the function f\n",
    "            self.norm_f = np.sqrt(np.dot(ay, K@ay))\n",
    "            print(f'||f|| = {self.norm_f}')\n",
    "\n",
    "        elif method == \"cvxopt\":\n",
    "            # Quadratic objective\n",
    "            P = np.diag(self.y) @ K @ np.diag(self.y)\n",
    "            q = -np.ones(N)\n",
    "\n",
    "            # Constraints\n",
    "            G = np.kron(np.array([[-1.0], [1.0]]), np.eye(N))\n",
    "            h = np.kron(np.array([0.0, 1.0]), Cvect)\n",
    "            A = self.y.reshape(1, -1).astype(\"float\")\n",
    "            b = np.array([[0.0]]).astype(\"float\")\n",
    "\n",
    "            # Optimization\n",
    "            out = cvxopt.solvers.qp(\n",
    "                P=cvxopt.matrix(P),\n",
    "                q=cvxopt.matrix(q),\n",
    "                G=cvxopt.matrix(G),\n",
    "                h=cvxopt.matrix(h),\n",
    "                A=cvxopt.matrix(A),\n",
    "                b=cvxopt.matrix(b),\n",
    "            )\n",
    "            self.alpha = np.array(out[\"x\"]).reshape((N,))\n",
    "\n",
    "    ### Implementation of the separating function $f$\n",
    "    def separating_function(self, G):\n",
    "        # Input : matrix x of shape N data points times d dimension\n",
    "        # Output: vector of size N\n",
    "        ay = np.multiply(self.alpha, self.y)\n",
    "        return G@ay\n",
    "    \n",
    "    def predict(self, G):\n",
    "        \"\"\" Predict y values in {0, 1} \"\"\"\n",
    "        d = self.separating_function(G)\n",
    "        return d > 0 # +self.b)"
   ]
  },
  {
   "attachments": {},
   "cell_type": "markdown",
   "metadata": {},
   "source": [
    "Building the full Gram Matrix:"
   ]
  },
  {
   "cell_type": "code",
   "execution_count": 7,
   "metadata": {},
   "outputs": [
    {
     "ename": "AssertionError",
     "evalue": "",
     "output_type": "error",
     "traceback": [
      "\u001b[0;31m---------------------------------------------------------------------------\u001b[0m",
      "\u001b[0;31mAssertionError\u001b[0m                            Traceback (most recent call last)",
      "\u001b[0;32m<ipython-input-7-ffafbe0d49c0>\u001b[0m in \u001b[0;36m<module>\u001b[0;34m\u001b[0m\n\u001b[1;32m     10\u001b[0m \u001b[0mX_train\u001b[0m \u001b[0;34m=\u001b[0m \u001b[0;34m[\u001b[0m\u001b[0;34m]\u001b[0m\u001b[0;34m\u001b[0m\u001b[0;34m\u001b[0m\u001b[0m\n\u001b[1;32m     11\u001b[0m \u001b[0;32mfor\u001b[0m \u001b[0mi\u001b[0m \u001b[0;32min\u001b[0m \u001b[0mindexes_train\u001b[0m\u001b[0;34m:\u001b[0m\u001b[0;34m\u001b[0m\u001b[0;34m\u001b[0m\u001b[0m\n\u001b[0;32m---> 12\u001b[0;31m     \u001b[0mX_train\u001b[0m\u001b[0;34m.\u001b[0m\u001b[0mappend\u001b[0m\u001b[0;34m(\u001b[0m\u001b[0mWL\u001b[0m\u001b[0;34m(\u001b[0m\u001b[0mtrain_graphs\u001b[0m\u001b[0;34m[\u001b[0m\u001b[0mi\u001b[0m\u001b[0;34m]\u001b[0m\u001b[0;34m,\u001b[0m \u001b[0mmax_iter\u001b[0m\u001b[0;34m=\u001b[0m\u001b[0mmax_iter\u001b[0m\u001b[0;34m,\u001b[0m \u001b[0mnormalize\u001b[0m\u001b[0;34m=\u001b[0m\u001b[0mnormalize\u001b[0m\u001b[0;34m)\u001b[0m\u001b[0;34m)\u001b[0m\u001b[0;34m\u001b[0m\u001b[0;34m\u001b[0m\u001b[0m\n\u001b[0m\u001b[1;32m     13\u001b[0m \u001b[0;34m\u001b[0m\u001b[0m\n\u001b[1;32m     14\u001b[0m \u001b[0mX_test\u001b[0m \u001b[0;34m=\u001b[0m \u001b[0;34m[\u001b[0m\u001b[0;34m]\u001b[0m\u001b[0;34m\u001b[0m\u001b[0;34m\u001b[0m\u001b[0m\n",
      "\u001b[0;32m~/code/mva-kernel/utils_eugene.py\u001b[0m in \u001b[0;36mWL\u001b[0;34m(Graph, max_iter, normalize, verbose)\u001b[0m\n\u001b[1;32m     98\u001b[0m         \u001b[0;32melse\u001b[0m\u001b[0;34m:\u001b[0m\u001b[0;34m\u001b[0m\u001b[0;34m\u001b[0m\u001b[0m\n\u001b[1;32m     99\u001b[0m             \u001b[0mpattern_dict\u001b[0m \u001b[0;34m=\u001b[0m \u001b[0;34m{\u001b[0m\u001b[0mk\u001b[0m\u001b[0;34m:\u001b[0m\u001b[0mpattern_type\u001b[0m\u001b[0;34m.\u001b[0m\u001b[0mcount\u001b[0m\u001b[0;34m(\u001b[0m\u001b[0mk\u001b[0m\u001b[0;34m)\u001b[0m \u001b[0;32mfor\u001b[0m \u001b[0mk\u001b[0m \u001b[0;32min\u001b[0m \u001b[0mset\u001b[0m\u001b[0;34m(\u001b[0m\u001b[0mpattern_type\u001b[0m\u001b[0;34m)\u001b[0m\u001b[0;34m}\u001b[0m\u001b[0;34m\u001b[0m\u001b[0;34m\u001b[0m\u001b[0m\n\u001b[0;32m--> 100\u001b[0;31m         \u001b[0;32massert\u001b[0m \u001b[0msum\u001b[0m\u001b[0;34m(\u001b[0m\u001b[0mpattern_dict\u001b[0m\u001b[0;34m.\u001b[0m\u001b[0mvalues\u001b[0m\u001b[0;34m(\u001b[0m\u001b[0;34m)\u001b[0m\u001b[0;34m)\u001b[0m \u001b[0;34m==\u001b[0m \u001b[0mlen\u001b[0m\u001b[0;34m(\u001b[0m\u001b[0mG\u001b[0m\u001b[0;34m.\u001b[0m\u001b[0mnodes\u001b[0m\u001b[0;34m)\u001b[0m\u001b[0;34m\u001b[0m\u001b[0;34m\u001b[0m\u001b[0m\n\u001b[0m\u001b[1;32m    101\u001b[0m \u001b[0;34m\u001b[0m\u001b[0m\n\u001b[1;32m    102\u001b[0m \u001b[0;34m\u001b[0m\u001b[0m\n",
      "\u001b[0;31mAssertionError\u001b[0m: "
     ]
    }
   ],
   "source": [
    "max_iter = 2\n",
    "normalize = True\n",
    "\n",
    "N_train = len(train_graphs)\n",
    "indexes_train = np.arange(N_train)\n",
    "\n",
    "N_test = len(test_graphs)\n",
    "indexes_test = np.arange(N_test)\n",
    "\n",
    "X_train = []\n",
    "for i in indexes_train:\n",
    "    X_train.append(WL(train_graphs[i], max_iter=max_iter, normalize=normalize))\n",
    "\n",
    "X_test = []\n",
    "for i in indexes_test:\n",
    "    X_test.append(WL(test_graphs[i], max_iter=max_iter, normalize=normalize))"
   ]
  },
  {
   "cell_type": "code",
   "execution_count": 8,
   "metadata": {},
   "outputs": [
    {
     "name": "stderr",
     "output_type": "stream",
     "text": [
      "  4%|▍         | 242/6000 [00:19<07:42, 12.45it/s]\n"
     ]
    },
    {
     "ename": "KeyboardInterrupt",
     "evalue": "",
     "output_type": "error",
     "traceback": [
      "\u001b[0;31m---------------------------------------------------------------------------\u001b[0m",
      "\u001b[0;31mKeyboardInterrupt\u001b[0m                         Traceback (most recent call last)",
      "\u001b[0;32m<ipython-input-8-1572a958b911>\u001b[0m in \u001b[0;36m<module>\u001b[0;34m\u001b[0m\n\u001b[1;32m      2\u001b[0m \u001b[0;32mfor\u001b[0m \u001b[0mi\u001b[0m \u001b[0;32min\u001b[0m \u001b[0mtqdm\u001b[0m\u001b[0;34m(\u001b[0m\u001b[0mrange\u001b[0m\u001b[0;34m(\u001b[0m\u001b[0mN_train\u001b[0m\u001b[0;34m)\u001b[0m\u001b[0;34m)\u001b[0m\u001b[0;34m:\u001b[0m\u001b[0;34m\u001b[0m\u001b[0;34m\u001b[0m\u001b[0m\n\u001b[1;32m      3\u001b[0m     \u001b[0;32mfor\u001b[0m \u001b[0mj\u001b[0m \u001b[0;32min\u001b[0m \u001b[0mrange\u001b[0m\u001b[0;34m(\u001b[0m\u001b[0mi\u001b[0m\u001b[0;34m,\u001b[0m \u001b[0mN_train\u001b[0m\u001b[0;34m)\u001b[0m\u001b[0;34m:\u001b[0m\u001b[0;34m\u001b[0m\u001b[0;34m\u001b[0m\u001b[0m\n\u001b[0;32m----> 4\u001b[0;31m         \u001b[0mg\u001b[0m \u001b[0;34m=\u001b[0m \u001b[0mWLK_gaussian\u001b[0m\u001b[0;34m(\u001b[0m\u001b[0mX_train\u001b[0m\u001b[0;34m[\u001b[0m\u001b[0mi\u001b[0m\u001b[0;34m]\u001b[0m\u001b[0;34m,\u001b[0m \u001b[0mX_train\u001b[0m\u001b[0;34m[\u001b[0m\u001b[0mj\u001b[0m\u001b[0;34m]\u001b[0m\u001b[0;34m)\u001b[0m\u001b[0;34m\u001b[0m\u001b[0;34m\u001b[0m\u001b[0m\n\u001b[0m\u001b[1;32m      5\u001b[0m         \u001b[0mG_train\u001b[0m\u001b[0;34m[\u001b[0m\u001b[0mi\u001b[0m\u001b[0;34m,\u001b[0m\u001b[0mj\u001b[0m\u001b[0;34m]\u001b[0m \u001b[0;34m=\u001b[0m \u001b[0mg\u001b[0m\u001b[0;34m\u001b[0m\u001b[0;34m\u001b[0m\u001b[0m\n\u001b[1;32m      6\u001b[0m         \u001b[0mG_train\u001b[0m\u001b[0;34m[\u001b[0m\u001b[0mj\u001b[0m\u001b[0;34m,\u001b[0m\u001b[0mi\u001b[0m\u001b[0;34m]\u001b[0m \u001b[0;34m=\u001b[0m \u001b[0mg\u001b[0m\u001b[0;34m\u001b[0m\u001b[0;34m\u001b[0m\u001b[0m\n",
      "\u001b[0;31mKeyboardInterrupt\u001b[0m: "
     ]
    }
   ],
   "source": [
    "G_train = np.zeros((N_train, N_train))\n",
    "for i in tqdm(range(N_train)):\n",
    "    for j in range(i, N_train):\n",
    "        g = WLK_gaussian(X_train[i], X_train[j])\n",
    "        G_train[i,j] = g\n",
    "        G_train[j,i] = g"
   ]
  },
  {
   "cell_type": "code",
   "execution_count": 9,
   "metadata": {},
   "outputs": [
    {
     "name": "stderr",
     "output_type": "stream",
     "text": [
      "100%|██████████| 2000/2000 [04:02<00:00,  8.25it/s]\n"
     ]
    }
   ],
   "source": [
    "G_test = np.zeros((N_test, N_train))\n",
    "for i in tqdm(range(N_test)):\n",
    "    for j in range(N_train):\n",
    "        G_test[i,j] = WLK_gaussian(X_test[i], X_train[j])"
   ]
  },
  {
   "cell_type": "code",
   "execution_count": 10,
   "metadata": {},
   "outputs": [],
   "source": [
    "sigma = 2.\n",
    "G_train_exp = np.exp(-0.5*G_train/(sigma**2))\n",
    "G_test_exp = np.exp(-0.5*G_test/(sigma**2))"
   ]
  },
  {
   "attachments": {},
   "cell_type": "markdown",
   "metadata": {},
   "source": [
    "Folds for cross validation:"
   ]
  },
  {
   "cell_type": "code",
   "execution_count": 11,
   "metadata": {},
   "outputs": [
    {
     "name": "stdout",
     "output_type": "stream",
     "text": [
      "[1782 3917  221 2135 5224]\n"
     ]
    }
   ],
   "source": [
    "n_fold = 5\n",
    "\n",
    "np.random.seed(42)\n",
    "np.random.shuffle(indexes_train)\n",
    "print(indexes_train[:5])\n",
    "\n",
    "folds = np.split(indexes_train, n_fold)"
   ]
  },
  {
   "attachments": {},
   "cell_type": "markdown",
   "metadata": {},
   "source": [
    "Cross validation:"
   ]
  },
  {
   "cell_type": "code",
   "execution_count": 12,
   "metadata": {},
   "outputs": [
    {
     "name": "stdout",
     "output_type": "stream",
     "text": [
      "##### 5-FOLD CROSS VAL: starting fold 1 #####\n",
      "Val score: 0.8459114303800952\n",
      "\n",
      "\n",
      "##### 5-FOLD CROSS VAL: starting fold 2 #####\n",
      "Val score: 0.8170578129494166\n",
      "\n",
      "\n",
      "##### 5-FOLD CROSS VAL: starting fold 3 #####\n",
      "Val score: 0.8375566376108969\n",
      "\n",
      "\n",
      "##### 5-FOLD CROSS VAL: starting fold 4 #####\n",
      "Val score: 0.8118784790211284\n",
      "\n",
      "\n",
      "##### 5-FOLD CROSS VAL: starting fold 5 #####\n",
      "Val score: 0.8011047658214242\n",
      "\n",
      "\n"
     ]
    }
   ],
   "source": [
    "C=50.\n",
    "class_weights = {1:3, -1:1}\n",
    "\n",
    "models = []\n",
    "scores = []\n",
    "test_preds = []\n",
    "\n",
    "for i in range(n_fold):\n",
    "    print(f'##### 5-FOLD CROSS VAL: starting fold {i+1} #####')\n",
    "    val_idx = folds[i]\n",
    "    train_idx = list(set(indexes_train) - set(val_idx))\n",
    "    \n",
    "    G_train_fold = G_train_exp[train_idx][:,train_idx]\n",
    "    y_train_fold = train_labels[train_idx]\n",
    "\n",
    "    G_val_fold = G_train_exp[val_idx][:,train_idx]\n",
    "    y_val_fold = train_labels[val_idx]\n",
    "\n",
    "    G_test_fold = G_test_exp[:,train_idx]\n",
    "\n",
    "    model = KernelSVC(C=C)\n",
    "    model.fit(G_train_fold, y_train_fold, method='cvxopt', class_weights=class_weights)\n",
    "\n",
    "    y_val_pred = model.predict(G_val_fold)\n",
    "    val_score = roc_auc_score(y_val_fold, y_val_pred)\n",
    "    print(f'Val score: {val_score}')\n",
    "\n",
    "    y_test_pred = model.predict(G_test_fold)\n",
    "\n",
    "    models.append(model)\n",
    "    scores.append(val_score)\n",
    "    test_preds.append(y_test_pred)\n",
    "\n",
    "    print('\\n')"
   ]
  },
  {
   "cell_type": "code",
   "execution_count": 15,
   "metadata": {},
   "outputs": [
    {
     "data": {
      "text/plain": [
       "0.8227018251565923"
      ]
     },
     "execution_count": 15,
     "metadata": {},
     "output_type": "execute_result"
    }
   ],
   "source": [
    "np.mean(scores)"
   ]
  },
  {
   "cell_type": "code",
   "execution_count": 14,
   "metadata": {},
   "outputs": [],
   "source": [
    "y_test_pred = np.mean(test_preds, axis=0)"
   ]
  },
  {
   "attachments": {},
   "cell_type": "markdown",
   "metadata": {},
   "source": [
    "### Old implementation"
   ]
  },
  {
   "cell_type": "code",
   "execution_count": 6,
   "metadata": {},
   "outputs": [],
   "source": [
    "#from sklearn.model_selection import train_test_split"
   ]
  },
  {
   "cell_type": "code",
   "execution_count": 7,
   "metadata": {},
   "outputs": [],
   "source": [
    "#train_idx, val_idx = train_test_split(range(len(train_graphs)), test_size=0.2, random_state=42)\n",
    "train_idx = range(6000)\n",
    "N_train = len(train_idx)\n",
    "# N_val = len(val_idx)\n",
    "N_test = len(test_graphs)"
   ]
  },
  {
   "cell_type": "code",
   "execution_count": 9,
   "metadata": {},
   "outputs": [],
   "source": [
    "max_iter = 2\n",
    "\n",
    "X_train = []\n",
    "for i in train_idx:\n",
    "    X_train.append(WL(train_graphs[i], max_iter=max_iter))\n",
    "    #X_train.append(weisfeiler_lehman(train_graphs[i], h=3))\n",
    "\n",
    "# X_val = []\n",
    "# for i in val_idx:\n",
    "#     X_val.append(WL(train_graphs[i], max_iter=max_iter))\n",
    "#     #X_val.append(weisfeiler_lehman(train_graphs[i], h=3))\n",
    "\n",
    "X_test = []\n",
    "for i in range(N_test):\n",
    "    X_test.append(WL(test_graphs[i], max_iter=max_iter))\n",
    "    #X_val.append(weisfeiler_lehman(train_graphs[i], h=3))\n",
    "\n",
    "y_train = train_labels[train_idx]\n",
    "# y_val = train_labels[val_idx]"
   ]
  },
  {
   "attachments": {},
   "cell_type": "markdown",
   "metadata": {},
   "source": [
    "Computing the Gram matrices:"
   ]
  },
  {
   "cell_type": "code",
   "execution_count": 10,
   "metadata": {},
   "outputs": [
    {
     "name": "stderr",
     "output_type": "stream",
     "text": [
      "100%|██████████| 6000/6000 [03:27<00:00, 28.96it/s] \n"
     ]
    }
   ],
   "source": [
    "G_train = np.zeros((N_train, N_train))\n",
    "for i in tqdm(range(N_train)):\n",
    "    for j in range(i, N_train):\n",
    "        g = WLK_gaussian(X_train[i], X_train[j])\n",
    "        G_train[i,j] = g\n",
    "        G_train[j,i] = g"
   ]
  },
  {
   "cell_type": "code",
   "execution_count": 10,
   "metadata": {},
   "outputs": [
    {
     "name": "stderr",
     "output_type": "stream",
     "text": [
      "100%|██████████| 1200/1200 [01:52<00:00, 10.63it/s]\n"
     ]
    }
   ],
   "source": [
    "# G_val = np.zeros((N_val, N_train))\n",
    "# for i in tqdm(range(N_val)):\n",
    "#     for j in range(N_train):\n",
    "#         G_val[i,j] = WLK_gaussian(X_val[i], X_train[j])"
   ]
  },
  {
   "cell_type": "code",
   "execution_count": 11,
   "metadata": {},
   "outputs": [
    {
     "name": "stderr",
     "output_type": "stream",
     "text": [
      "100%|██████████| 2000/2000 [02:41<00:00, 12.37it/s]\n"
     ]
    }
   ],
   "source": [
    "G_test = np.zeros((N_test, N_train))\n",
    "for i in tqdm(range(N_test)):\n",
    "    for j in range(N_train):\n",
    "        G_test[i,j] = WLK_gaussian(X_test[i], X_train[j])"
   ]
  },
  {
   "attachments": {},
   "cell_type": "markdown",
   "metadata": {},
   "source": [
    "### Fitting SVC:"
   ]
  },
  {
   "cell_type": "code",
   "execution_count": 12,
   "metadata": {},
   "outputs": [],
   "source": [
    "# RBF Kernel:\n",
    "sigma = 2.\n",
    "G_train_exp = np.exp(-0.5*G_train/(sigma**2))\n",
    "#G_val_exp = np.exp(-0.5*G_val/(sigma**2))\n",
    "G_test_exp = np.exp(-0.5*G_test/(sigma**2))"
   ]
  },
  {
   "cell_type": "code",
   "execution_count": 13,
   "metadata": {},
   "outputs": [
    {
     "name": "stdout",
     "output_type": "stream",
     "text": [
      "     pcost       dcost       gap    pres   dres\n",
      " 0:  3.5217e+04 -1.0811e+06  2e+06  3e-01  2e-14\n",
      " 1:  2.9989e+04 -1.7792e+05  2e+05  2e-02  1e-14\n",
      " 2:  8.8048e+03 -5.0577e+04  6e+04  5e-03  1e-14\n",
      " 3:  3.1205e+03 -2.7378e+04  3e+04  2e-03  7e-15\n",
      " 4: -7.3351e+02 -6.9843e+03  6e+03  2e-04  7e-15\n",
      " 5: -1.3262e+03 -4.2104e+03  3e+03  5e-05  4e-15\n",
      " 6: -1.5737e+03 -2.3794e+03  8e+02  1e-05  4e-15\n",
      " 7: -1.6219e+03 -1.9077e+03  3e+02  4e-06  3e-15\n",
      " 8: -1.6362e+03 -1.7464e+03  1e+02  7e-14  4e-15\n",
      " 9: -1.6419e+03 -1.6642e+03  2e+01  2e-13  3e-15\n",
      "10: -1.6433e+03 -1.6480e+03  5e+00  1e-13  3e-15\n",
      "11: -1.6437e+03 -1.6443e+03  6e-01  9e-14  3e-15\n",
      "12: -1.6438e+03 -1.6439e+03  1e-01  7e-14  3e-15\n",
      "13: -1.6438e+03 -1.6438e+03  1e-02  5e-14  3e-15\n",
      "14: -1.6438e+03 -1.6438e+03  3e-04  3e-14  3e-15\n",
      "Optimal solution found.\n"
     ]
    }
   ],
   "source": [
    "C=10.\n",
    "model = KernelSVC(C=C)\n",
    "model.fit(G_train_exp, y_train, method='cvxopt', class_weights={-1:1, 1:3})"
   ]
  },
  {
   "cell_type": "code",
   "execution_count": 14,
   "metadata": {},
   "outputs": [],
   "source": [
    "y_train_pred = model.predict(G_train_exp)\n",
    "# y_val_pred = model.predict(G_val_exp)\n",
    "y_test_pred = model.predict(G_test_exp)"
   ]
  },
  {
   "cell_type": "code",
   "execution_count": 15,
   "metadata": {},
   "outputs": [
    {
     "data": {
      "image/png": "[encoded data removed]",
      "text/plain": [
       "<Figure size 432x288 with 2 Axes>"
      ]
     },
     "metadata": {
      "needs_background": "light"
     },
     "output_type": "display_data"
    }
   ],
   "source": [
    "cm = confusion_matrix(y_train, y_train_pred)\n",
    "disp = ConfusionMatrixDisplay(confusion_matrix=cm,)\n",
    "disp.plot()\n",
    "plt.show()"
   ]
  },
  {
   "cell_type": "code",
   "execution_count": 16,
   "metadata": {},
   "outputs": [
    {
     "data": {
      "text/plain": [
       "0.9963269054178144"
      ]
     },
     "execution_count": 16,
     "metadata": {},
     "output_type": "execute_result"
    }
   ],
   "source": [
    "roc_auc_score(y_train, y_train_pred)"
   ]
  },
  {
   "attachments": {},
   "cell_type": "markdown",
   "metadata": {},
   "source": [
    "#### Fitting kNN:"
   ]
  },
  {
   "cell_type": "code",
   "execution_count": 10,
   "metadata": {},
   "outputs": [],
   "source": [
    "def kNN(G_val, y_train, k=3):\n",
    "    \"\"\"\n",
    "    Given a feature dictionnary whose label is to be predicted, the WL feature vector of the graphs in the training set \n",
    "    and the number of nearest neighbors k, returns the predicted label of G.\n",
    "    \"\"\"\n",
    "    neighbours = np.argpartition(G_val, k, axis=1)[:,:k]\n",
    "\n",
    "    y_pred = []\n",
    "    for i in range(len(neighbours)):\n",
    "        is_positive = sum([y_train[i] for i in neighbours[i]])\n",
    "        if is_positive > k/2 :\n",
    "            y_pred.append(1)\n",
    "        else:\n",
    "            y_pred.append(0)\n",
    "    return np.array(y_pred)"
   ]
  },
  {
   "cell_type": "code",
   "execution_count": 23,
   "metadata": {},
   "outputs": [],
   "source": [
    "y_pred = kNN(G_val, y_train, k=1)"
   ]
  },
  {
   "cell_type": "code",
   "execution_count": 27,
   "metadata": {},
   "outputs": [
    {
     "data": {
      "image/png": "[encoded data removed]",
      "text/plain": [
       "<Figure size 432x288 with 2 Axes>"
      ]
     },
     "metadata": {
      "needs_background": "light"
     },
     "output_type": "display_data"
    }
   ],
   "source": [
    "cm = confusion_matrix(y_val, y_pred)\n",
    "disp = ConfusionMatrixDisplay(confusion_matrix=cm,)\n",
    "disp.plot()\n",
    "plt.show()"
   ]
  },
  {
   "cell_type": "code",
   "execution_count": 70,
   "metadata": {},
   "outputs": [
    {
     "data": {
      "text/plain": [
       "0.298"
      ]
     },
     "execution_count": 70,
     "metadata": {},
     "output_type": "execute_result"
    }
   ],
   "source": [
    "y_pred.sum()/len(y_pred)"
   ]
  },
  {
   "attachments": {},
   "cell_type": "markdown",
   "metadata": {},
   "source": [
    "## Submission:"
   ]
  },
  {
   "cell_type": "code",
   "execution_count": 36,
   "metadata": {},
   "outputs": [],
   "source": [
    "Yte = {'Predicted' : np.array(y_test_pred, dtype=np.float32)}\n",
    "dataframe = pd.DataFrame(Yte)\n",
    "dataframe.index += 1\n",
    "dataframe.to_csv('test_pred.csv', index_label='Id')"
   ]
  },
  {
   "cell_type": "code",
   "execution_count": null,
   "metadata": {},
   "outputs": [],
   "source": []
  }
 ],
 "metadata": {
  "kernelspec": {
   "display_name": "base",
   "language": "python",
   "name": "python3"
  },
  "language_info": {
   "codemirror_mode": {
    "name": "ipython",
    "version": 3
   },
   "file_extension": ".py",
   "mimetype": "text/x-python",
   "name": "python",
   "nbconvert_exporter": "python",
   "pygments_lexer": "ipython3",
   "version": "3.8.3"
  },
  "orig_nbformat": 4
 },
 "nbformat": 4,
 "nbformat_minor": 2
}

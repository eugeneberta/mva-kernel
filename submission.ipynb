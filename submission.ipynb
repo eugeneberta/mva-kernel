{
 "cells": [
  {
   "attachments": {},
   "cell_type": "markdown",
   "metadata": {},
   "source": [
    "# Kernel on Graphs Project\n",
    "### MVA Master\n",
    "### Yannis Cattan, Eugène Berta"
   ]
  },
  {
   "cell_type": "code",
   "execution_count": 1,
   "metadata": {},
   "outputs": [],
   "source": [
    "import cvxopt\n",
    "import numpy as np\n",
    "import pandas as pd\n",
    "import pickle as pkl\n",
    "import networkx as nx\n",
    "import seaborn as sns\n",
    "import matplotlib.pyplot as plt\n",
    "\n",
    "from tqdm import tqdm\n",
    "from sklearn.metrics import roc_auc_score\n",
    "from utils import (\n",
    "    KernelSVC,\n",
    "    WL,\n",
    "    WLK_linear,\n",
    "    WLK_l2_norm,\n",
    "    clean_dataset,\n",
    "    nth_order_walk,\n",
    "    get_all_atom_types,\n",
    "    stratified_cross_val,\n",
    ")"
   ]
  },
  {
   "cell_type": "code",
   "execution_count": 2,
   "metadata": {},
   "outputs": [],
   "source": [
    "cvxopt.solvers.options['show_progress'] = False"
   ]
  },
  {
   "attachments": {},
   "cell_type": "markdown",
   "metadata": {},
   "source": [
    "Reading the data:"
   ]
  },
  {
   "cell_type": "code",
   "execution_count": 3,
   "metadata": {},
   "outputs": [],
   "source": [
    "with open('data/training_data.pkl', 'rb') as file:\n",
    "    train_graphs = pkl.load(file)\n",
    "\n",
    "with open('data/test_data.pkl', 'rb') as file:\n",
    "    test_graphs = pkl.load(file)\n",
    "\n",
    "with open('data/training_labels.pkl', 'rb') as file:\n",
    "    train_labels = pkl.load(file)"
   ]
  },
  {
   "attachments": {},
   "cell_type": "markdown",
   "metadata": {},
   "source": [
    "Cleaning the data:"
   ]
  },
  {
   "cell_type": "code",
   "execution_count": 4,
   "metadata": {},
   "outputs": [],
   "source": [
    "train_graphs, train_labels = clean_dataset(train_graphs, train_labels)\n",
    "test_graphs, _ = clean_dataset(test_graphs, np.zeros(2000), discard=False)"
   ]
  },
  {
   "attachments": {},
   "cell_type": "markdown",
   "metadata": {},
   "source": [
    "Plotting a graph in the dataset:"
   ]
  },
  {
   "cell_type": "code",
   "execution_count": 5,
   "metadata": {},
   "outputs": [
    {
     "data": {
      "image/png": "[encoded data removed]",
      "text/plain": [
       "<Figure size 432x288 with 1 Axes>"
      ]
     },
     "metadata": {},
     "output_type": "display_data"
    }
   ],
   "source": [
    "idx=1\n",
    "nx.draw_networkx(train_graphs[idx], labels=get_all_atom_types(train_graphs[idx]))"
   ]
  },
  {
   "attachments": {},
   "cell_type": "markdown",
   "metadata": {},
   "source": [
    "## Building the Gram Matrix"
   ]
  },
  {
   "attachments": {},
   "cell_type": "markdown",
   "metadata": {},
   "source": [
    "### Walk kernel Gram Matrix:"
   ]
  },
  {
   "cell_type": "code",
   "execution_count": 6,
   "metadata": {},
   "outputs": [],
   "source": [
    "# n = 3\n",
    "\n",
    "# N_train = len(train_graphs)\n",
    "# indexes_train = np.arange(N_train)\n",
    "\n",
    "# N_test = len(test_graphs)\n",
    "# indexes_test = np.arange(N_test)\n",
    "\n",
    "# G_train = np.zeros((N_train, N_train))\n",
    "# for i in tqdm(range(N_train)):\n",
    "#     for j in range(i, N_train):\n",
    "#         g = nth_order_walk(train_graphs[i], train_graphs[j])\n",
    "#         G_train[i,j] = g\n",
    "#         G_train[j,i] = g"
   ]
  },
  {
   "attachments": {},
   "cell_type": "markdown",
   "metadata": {},
   "source": [
    "### Weisfeiler Lehman (WL) Gram Matrix:"
   ]
  },
  {
   "attachments": {},
   "cell_type": "markdown",
   "metadata": {},
   "source": [
    "Explicit features computation:"
   ]
  },
  {
   "cell_type": "code",
   "execution_count": 7,
   "metadata": {},
   "outputs": [],
   "source": [
    "max_iter = 2\n",
    "\n",
    "N_train = len(train_graphs)\n",
    "indexes_train = np.arange(N_train)\n",
    "\n",
    "N_test = len(test_graphs)\n",
    "indexes_test = np.arange(N_test)\n",
    "\n",
    "X_train = []\n",
    "for i in indexes_train:\n",
    "    X_train.append(WL(train_graphs[i], max_iter=max_iter))\n",
    "\n",
    "X_test = []\n",
    "for i in indexes_test:\n",
    "    X_test.append(WL(test_graphs[i], max_iter=max_iter))"
   ]
  },
  {
   "attachments": {},
   "cell_type": "markdown",
   "metadata": {},
   "source": [
    "#### Linear Kernel:"
   ]
  },
  {
   "cell_type": "code",
   "execution_count": 8,
   "metadata": {},
   "outputs": [],
   "source": [
    "# G_train_lin = np.zeros((N_train, N_train))\n",
    "# for i in tqdm(range(N_train)):\n",
    "#     for j in range(i, N_train):\n",
    "#         g = WLK_linear(X_train[i], X_train[j])\n",
    "#         G_train_lin[i,j] = g\n",
    "#         G_train_lin[j,i] = g"
   ]
  },
  {
   "cell_type": "code",
   "execution_count": 9,
   "metadata": {},
   "outputs": [],
   "source": [
    "# # Matrix normalization:\n",
    "# Norm = np.zeros((N_train, N_train))\n",
    "# for i in tqdm(range(N_train)):\n",
    "#     for j in range(i, N_train):\n",
    "#         n = np.sqrt(G_train_lin[i,i]*G_train_lin[j,j])\n",
    "#         Norm[i,j] = n\n",
    "#         Norm[j,i] = n\n",
    "\n",
    "# G_train_lin = np.divide(G_train_lin, Norm)"
   ]
  },
  {
   "cell_type": "code",
   "execution_count": 10,
   "metadata": {},
   "outputs": [],
   "source": [
    "# G_test_lin = np.zeros((N_test, N_train))\n",
    "# for i in tqdm(range(N_test)):\n",
    "#     for j in range(N_train):\n",
    "#         G_test_lin[i,j] = WLK_linear(X_test[i], X_train[j]) # / np.sqrt(WLK_linear(X_test[i], X_test[i]) * WLK_linear(X_train[j], X_train[j]))"
   ]
  },
  {
   "attachments": {},
   "cell_type": "markdown",
   "metadata": {},
   "source": [
    "#### RBF Kernel:"
   ]
  },
  {
   "attachments": {},
   "cell_type": "markdown",
   "metadata": {},
   "source": [
    "Squared euclidean distance:"
   ]
  },
  {
   "cell_type": "code",
   "execution_count": 11,
   "metadata": {},
   "outputs": [
    {
     "name": "stderr",
     "output_type": "stream",
     "text": [
      "100%|██████████| 5774/5774 [03:27<00:00, 27.76it/s] \n"
     ]
    }
   ],
   "source": [
    "G_train_dist = np.zeros((N_train, N_train))\n",
    "for i in tqdm(range(N_train)):\n",
    "    for j in range(i, N_train):\n",
    "        g = WLK_l2_norm(X_train[i], X_train[j])\n",
    "        G_train_dist[i,j] = g\n",
    "        G_train_dist[j,i] = g"
   ]
  },
  {
   "cell_type": "code",
   "execution_count": 12,
   "metadata": {},
   "outputs": [
    {
     "name": "stderr",
     "output_type": "stream",
     "text": [
      "100%|██████████| 2000/2000 [02:44<00:00, 12.18it/s]\n"
     ]
    }
   ],
   "source": [
    "G_test_dist = np.zeros((N_test, N_train))\n",
    "for i in tqdm(range(N_test)):\n",
    "    for j in range(N_train):\n",
    "        G_test_dist[i,j] = WLK_l2_norm(X_test[i], X_train[j])"
   ]
  },
  {
   "attachments": {},
   "cell_type": "markdown",
   "metadata": {},
   "source": [
    "RBF Kernel:"
   ]
  },
  {
   "cell_type": "code",
   "execution_count": 13,
   "metadata": {},
   "outputs": [],
   "source": [
    "# sigma = 4.\n",
    "# G_train_rbf = np.exp(-0.5*G_train_dist/(sigma**2))\n",
    "# G_test_rbf = np.exp(-0.5*G_test_dist/(sigma**2))"
   ]
  },
  {
   "attachments": {},
   "cell_type": "markdown",
   "metadata": {},
   "source": [
    "## SVM with Cross Validation:"
   ]
  },
  {
   "attachments": {},
   "cell_type": "markdown",
   "metadata": {},
   "source": [
    "Cross validation:"
   ]
  },
  {
   "cell_type": "code",
   "execution_count": 14,
   "metadata": {},
   "outputs": [],
   "source": [
    "# C = 0.5\n",
    "# class_weights={-1:1, 1:10}\n",
    "\n",
    "# models, scores, test_preds = stratified_cross_val(\n",
    "#     n_fold=5,\n",
    "#     G_train=G_train_rbf,\n",
    "#     train_labels=train_labels,\n",
    "#     G_test=G_test_rbf,\n",
    "#     C=C,\n",
    "#     class_weights=class_weights,\n",
    "#     verbose=True,\n",
    "#     seed=42\n",
    "# )\n",
    "# y_test_pred = np.mean(test_preds, axis=0)\n",
    "\n",
    "# print(f'\\nMean score: {np.mean(scores)}')"
   ]
  },
  {
   "attachments": {},
   "cell_type": "markdown",
   "metadata": {},
   "source": [
    "## Grid search:"
   ]
  },
  {
   "cell_type": "code",
   "execution_count": 16,
   "metadata": {},
   "outputs": [
    {
     "name": "stdout",
     "output_type": "stream",
     "text": [
      "#### sigma = 3.0 ####\n",
      "New best model \n",
      "   sigma = 3.0, C = 0.2, class_weights = {-1: 1, 1: 1} \n",
      "   score = 0.9063710792343783\n",
      "New best model \n",
      "   sigma = 3.0, C = 0.2, class_weights = {-1: 1, 1: 10} \n",
      "   score = 0.9072627374999819\n",
      "New best model \n",
      "   sigma = 3.0, C = 0.5, class_weights = {-1: 1, 1: 5} \n",
      "   score = 0.9133873811849275\n",
      "#### sigma = 4.0 ####\n",
      "New best model \n",
      "   sigma = 4.0, C = 0.5, class_weights = {-1: 1, 1: 5} \n",
      "   score = 0.9186137460260188\n",
      "New best model \n",
      "   sigma = 4.0, C = 1.0, class_weights = {-1: 1, 1: 5} \n",
      "   score = 0.9196477404007369\n",
      "#### sigma = 5.0 ####\n",
      "New best model \n",
      "   sigma = 5.0, C = 1.0, class_weights = {-1: 1, 1: 5} \n",
      "   score = 0.9213921659915272\n",
      "#### sigma = 6.0 ####\n",
      "#### sigma = 7.0 ####\n"
     ]
    }
   ],
   "source": [
    "sigmas = [3., 4., 5., 6., 7.]\n",
    "Cs = [0.2, 0.5, 1., 2.]\n",
    "class_weights = [{-1:1, 1:1}, {-1:1, 1:5}, {-1:1, 1:10}]\n",
    "\n",
    "results = []\n",
    "\n",
    "best_score = 0\n",
    "y_test_pred = np.zeros(2000)\n",
    "\n",
    "for sigma in sigmas:\n",
    "    print(f'#### sigma = {sigma} ####')\n",
    "    G_train_rbf = np.exp(-0.5*G_train_dist/(sigma**2))\n",
    "    G_test_rbf = np.exp(-0.5*G_test_dist/(sigma**2))\n",
    "\n",
    "    for C in Cs:\n",
    "        for class_weight in class_weights:\n",
    "            models, scores, test_preds = stratified_cross_val(\n",
    "                G_train=G_train_rbf,\n",
    "                train_labels=train_labels,\n",
    "                G_test=G_test_rbf,\n",
    "                C=C,\n",
    "                class_weights=class_weight,\n",
    "                seed=42,\n",
    "                verbose=False,\n",
    "                n_fold=6\n",
    "            )\n",
    "\n",
    "            mean_score = np.mean(scores)\n",
    "\n",
    "            parameters = {\n",
    "                'h':3,\n",
    "                'class_weights':class_weight,\n",
    "                'clean_data':True,\n",
    "                'sigma':sigma,\n",
    "                'C':C,\n",
    "                'mean_score':mean_score\n",
    "            }\n",
    "\n",
    "            results.append(parameters)\n",
    "\n",
    "            if mean_score > best_score:\n",
    "                best_score = mean_score\n",
    "                y_test_pred = np.mean(test_preds, axis=0)\n",
    "                print(f'New best model \\n   sigma = {sigma}, C = {C}, class_weights = {class_weight} \\n   score = {mean_score}')\n",
    "\n",
    "dataframe = pd.DataFrame(results)\n",
    "dataframe.to_csv('grid_search_results.csv')"
   ]
  },
  {
   "cell_type": "code",
   "execution_count": 19,
   "metadata": {},
   "outputs": [],
   "source": [
    "df = pd.read_csv('/home/eugene/code/mva-kernel/grid_search_results.csv')\n",
    "df = df[df['class_weights']=='{-1: 1, 1: 5}']"
   ]
  },
  {
   "cell_type": "code",
   "execution_count": 20,
   "metadata": {},
   "outputs": [
    {
     "data": {
      "text/plain": [
       "<AxesSubplot:xlabel='C', ylabel='sigma'>"
      ]
     },
     "execution_count": 20,
     "metadata": {},
     "output_type": "execute_result"
    },
    {
     "data": {
      "image/png": "[encoded data removed]",
      "text/plain": [
       "<Figure size 648x432 with 2 Axes>"
      ]
     },
     "metadata": {
      "needs_background": "light"
     },
     "output_type": "display_data"
    }
   ],
   "source": [
    "# Load the example flights dataset and convert to long-form\n",
    "table = df.pivot(\"sigma\", \"C\", \"mean_score\")\n",
    "\n",
    "# Draw a heatmap with the numeric values in each cell\n",
    "f, ax = plt.subplots(figsize=(9, 6))\n",
    "sns.heatmap(table, annot=True, fmt='.3f', linewidths=.5, ax=ax)"
   ]
  },
  {
   "cell_type": "code",
   "execution_count": 28,
   "metadata": {},
   "outputs": [],
   "source": [
    "y_test_pred = np.mean(test_preds, axis=0)"
   ]
  },
  {
   "attachments": {},
   "cell_type": "markdown",
   "metadata": {},
   "source": [
    "#### Fitting kNN:"
   ]
  },
  {
   "cell_type": "code",
   "execution_count": null,
   "metadata": {},
   "outputs": [],
   "source": [
    "# def kNN(G_val, y_train, k=3):\n",
    "#     \"\"\"\n",
    "#     Given a feature dictionnary whose label is to be predicted, the WL feature vector of the graphs in the training set \n",
    "#     and the number of nearest neighbors k, returns the predicted label of G.\n",
    "#     \"\"\"\n",
    "#     neighbours = np.argpartition(G_val, k, axis=1)[:,:k]\n",
    "\n",
    "#     y_pred = []\n",
    "#     for i in range(len(neighbours)):\n",
    "#         is_positive = sum([y_train[i] for i in neighbours[i]])\n",
    "#         if is_positive > k/2 :\n",
    "#             y_pred.append(1)\n",
    "#         else:\n",
    "#             y_pred.append(0)\n",
    "#     return np.array(y_pred)"
   ]
  },
  {
   "cell_type": "code",
   "execution_count": null,
   "metadata": {},
   "outputs": [],
   "source": [
    "# y_pred = kNN(G_val, y_train, k=1)\n",
    "\n",
    "# cm = confusion_matrix(y_val, y_pred)\n",
    "# disp = ConfusionMatrixDisplay(confusion_matrix=cm,)\n",
    "# disp.plot()\n",
    "# plt.show()\n",
    "\n",
    "# y_pred.sum()/len(y_pred)"
   ]
  },
  {
   "attachments": {},
   "cell_type": "markdown",
   "metadata": {},
   "source": [
    "## Submission:"
   ]
  },
  {
   "cell_type": "code",
   "execution_count": 25,
   "metadata": {},
   "outputs": [],
   "source": [
    "Yte = {'Predicted' : np.array(y_test_pred, dtype=np.float32)}\n",
    "dataframe = pd.DataFrame(Yte)\n",
    "dataframe.index += 1\n",
    "dataframe.to_csv('test_pred.csv', index_label='Id')"
   ]
  },
  {
   "cell_type": "code",
   "execution_count": null,
   "metadata": {},
   "outputs": [],
   "source": []
  }
 ],
 "metadata": {
  "kernelspec": {
   "display_name": "base",
   "language": "python",
   "name": "python3"
  },
  "language_info": {
   "codemirror_mode": {
    "name": "ipython",
    "version": 3
   },
   "file_extension": ".py",
   "mimetype": "text/x-python",
   "name": "python",
   "nbconvert_exporter": "python",
   "pygments_lexer": "ipython3",
   "version": "3.8.3"
  },
  "orig_nbformat": 4,
  "vscode": {
   "interpreter": {
    "hash": "aa7fd171edea70162c6c34f7ecea403c9a39aa61b85bda32e7029ace69d8fb03"
   }
  }
 },
 "nbformat": 4,
 "nbformat_minor": 2
}

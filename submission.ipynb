{
 "cells": [
  {
   "cell_type": "code",
   "execution_count": 1,
   "metadata": {},
   "outputs": [],
   "source": [
    "import pickle as pkl\n",
    "import pandas as pd\n",
    "import numpy as np\n",
    "import networkx as nx\n",
    "from scipy import optimize\n",
    "from sklearn.metrics import roc_auc_score\n",
    "from utils_eugene import get_all_atom_types, weisfeiler_lehman, WLK"
   ]
  },
  {
   "attachments": {},
   "cell_type": "markdown",
   "metadata": {},
   "source": [
    "Reading the data:"
   ]
  },
  {
   "cell_type": "code",
   "execution_count": 2,
   "metadata": {},
   "outputs": [],
   "source": [
    "with open('data/training_data.pkl', 'rb') as file:\n",
    "    train_graphs = pkl.load(file)\n",
    "\n",
    "with open('data/test_data.pkl', 'rb') as file:\n",
    "    test_graphs = pkl.load(file)\n",
    "\n",
    "with open('data/training_labels.pkl', 'rb') as file:\n",
    "    train_labels = pkl.load(file)"
   ]
  },
  {
   "attachments": {},
   "cell_type": "markdown",
   "metadata": {},
   "source": [
    "Plotting the data:"
   ]
  },
  {
   "cell_type": "code",
   "execution_count": 3,
   "metadata": {},
   "outputs": [
    {
     "data": {
      "image/png": "[encoded data removed]",
      "text/plain": [
       "<Figure size 432x288 with 1 Axes>"
      ]
     },
     "metadata": {},
     "output_type": "display_data"
    }
   ],
   "source": [
    "idx=0\n",
    "nx.draw_networkx(train_graphs[idx], labels=get_all_atom_types(train_graphs[idx]))"
   ]
  },
  {
   "attachments": {},
   "cell_type": "markdown",
   "metadata": {},
   "source": [
    "Kernel SVC that takes as input the Gram matrices:"
   ]
  },
  {
   "cell_type": "code",
   "execution_count": 4,
   "metadata": {},
   "outputs": [],
   "source": [
    "class KernelSVC:\n",
    "    def __init__(self, C, epsilon = 1e-3):\n",
    "        self.C = C\n",
    "        self.alpha = None\n",
    "        self.epsilon = epsilon\n",
    "    \n",
    "    def fit(self, G, y):\n",
    "        N = len(y)\n",
    "        K = G\n",
    "        y = y*2-1 # rescaling values to -1, 1\n",
    "        self.y = y\n",
    "\n",
    "        assert (np.unique(y) == np.array([-1, 1])).all(), print('y must take values in [-1, 1]')\n",
    "\n",
    "        # Lagrange dual problem\n",
    "        def loss(alpha):\n",
    "            ay = np.multiply(alpha, y)\n",
    "            return 0.5*np.dot(ay, K@ay) - np.sum(alpha)\n",
    "\n",
    "        # Partial derivate of Ld on alpha\n",
    "        def grad_loss(alpha):\n",
    "            return np.dot(np.diag(y)@K@np.diag(y), alpha) - np.ones(N)\n",
    "\n",
    "        # function defining the equality constraint\n",
    "        fun_eq = lambda alpha: np.dot(alpha, y)\n",
    "        # jacobian wrt alpha of the  equality constraint\n",
    "        jac_eq = lambda alpha: y\n",
    "        # function defining the inequality constraint\n",
    "        fun_ineq = lambda alpha: (\n",
    "            np.append(np.zeros(N), self.C*np.ones(N)) - np.vstack((-np.eye(N), np.eye(N)))@alpha\n",
    "        )\n",
    "        # jacobian wrt alpha of the  inequality constraint\n",
    "        jac_ineq = lambda alpha: - np.vstack((-np.eye(N), np.eye(N)))\n",
    "        \n",
    "        constraints = ({'type': 'eq', 'fun': fun_eq, 'jac': jac_eq},\n",
    "                       {'type': 'ineq', 'fun': fun_ineq, 'jac': jac_ineq})\n",
    "\n",
    "        optRes = optimize.minimize(\n",
    "            fun=lambda alpha: loss(alpha),\n",
    "            x0=np.ones(N),\n",
    "            method='SLSQP',\n",
    "            jac=lambda alpha: grad_loss(alpha),\n",
    "            constraints=constraints,\n",
    "            options={'disp': True}\n",
    "        )\n",
    "        self.alpha = optRes.x\n",
    "\n",
    "        # Useful to simplify notations:\n",
    "        ay = np.multiply(self.alpha, y)\n",
    "\n",
    "        # Indices of support vectors:\n",
    "        support_idx = np.where((self.alpha < self.C - self.epsilon) & (self.alpha > self.epsilon))\n",
    "        print(f'Found {len(support_idx)} support vectors.')\n",
    "\n",
    "        # Offset of the classifier\n",
    "        self.b = np.median(y[support_idx] - K[support_idx]@ay)\n",
    "        print(f'b = {self.b}')\n",
    "\n",
    "        # RKHS norm of the function f\n",
    "        self.norm_f = np.sqrt(np.dot(ay, K@ay))\n",
    "        print(f'||f|| = {self.norm_f}')\n",
    "\n",
    "    ### Implementation of the separating function $f$\n",
    "    def separating_function(self, G):\n",
    "        # Input : matrix x of shape N data points times d dimension\n",
    "        # Output: vector of size N\n",
    "        ay = np.multiply(self.alpha, self.y)\n",
    "        return G@ay\n",
    "    \n",
    "    def predict(self, G):\n",
    "        \"\"\" Predict y values in {0, 1} \"\"\"\n",
    "        d = self.separating_function(G)\n",
    "        return (d+self.b) > 0"
   ]
  },
  {
   "cell_type": "code",
   "execution_count": 13,
   "metadata": {},
   "outputs": [],
   "source": [
    "N_train, N_val = 1000, 2000\n",
    "\n",
    "X_train = []\n",
    "for i in range(N_train):\n",
    "    X_train.append(weisfeiler_lehman(train_graphs[i], h=6))\n",
    "\n",
    "X_val = []\n",
    "for i in range(N_train, N_train+N_val):\n",
    "    X_val.append(weisfeiler_lehman(train_graphs[i], h=6))\n",
    "\n",
    "y_train = train_labels[:N_train]\n",
    "y_val = train_labels[N_train:N_train+N_val]"
   ]
  },
  {
   "attachments": {},
   "cell_type": "markdown",
   "metadata": {},
   "source": [
    "Computing the Gram matrices:"
   ]
  },
  {
   "cell_type": "code",
   "execution_count": 7,
   "metadata": {},
   "outputs": [],
   "source": [
    "G_train = np.zeros((N_train, N_train))\n",
    "for i in range(N_train):\n",
    "    for j in range(i, N_train):\n",
    "        g = WLK(X_train[i], X_train[j])\n",
    "        G_train[i,j] = g\n",
    "        G_train[j,i] = g"
   ]
  },
  {
   "cell_type": "code",
   "execution_count": 14,
   "metadata": {},
   "outputs": [],
   "source": [
    "G_val = np.zeros((N_val, N_train))\n",
    "for i in range(N_val):\n",
    "    for j in range(N_train):\n",
    "        G_val[i,j] = WLK(X_val[i], X_train[j])"
   ]
  },
  {
   "cell_type": "code",
   "execution_count": 9,
   "metadata": {},
   "outputs": [
    {
     "name": "stdout",
     "output_type": "stream",
     "text": [
      "Iteration limit reached    (Exit mode 9)\n",
      "            Current function value: -646.2823940473847\n",
      "            Iterations: 100\n",
      "            Function evaluations: 198\n",
      "            Gradient evaluations: 100\n",
      "Found 1 support vectors.\n",
      "b = -1.3639708410486264\n",
      "||f|| = 9.621140708643104\n"
     ]
    }
   ],
   "source": [
    "C=100.\n",
    "model = KernelSVC(C=C)\n",
    "model.fit(G_train, y_train)"
   ]
  },
  {
   "cell_type": "code",
   "execution_count": 15,
   "metadata": {},
   "outputs": [],
   "source": [
    "y_pred = model.predict(G_val)"
   ]
  },
  {
   "cell_type": "code",
   "execution_count": 16,
   "metadata": {},
   "outputs": [
    {
     "data": {
      "text/plain": [
       "0.093"
      ]
     },
     "execution_count": 16,
     "metadata": {},
     "output_type": "execute_result"
    }
   ],
   "source": [
    "y_pred.sum()/len(y_pred)"
   ]
  },
  {
   "cell_type": "code",
   "execution_count": 17,
   "metadata": {},
   "outputs": [
    {
     "data": {
      "text/plain": [
       "0.6279287161884249"
      ]
     },
     "execution_count": 17,
     "metadata": {},
     "output_type": "execute_result"
    }
   ],
   "source": [
    "roc_auc_score(y_val, y_pred)"
   ]
  },
  {
   "cell_type": "code",
   "execution_count": 19,
   "metadata": {},
   "outputs": [
    {
     "ename": "NameError",
     "evalue": "name 'test_preds' is not defined",
     "output_type": "error",
     "traceback": [
      "\u001b[0;31m---------------------------------------------------------------------------\u001b[0m",
      "\u001b[0;31mNameError\u001b[0m                                 Traceback (most recent call last)",
      "\u001b[0;32m<ipython-input-19-ce0c6119dd2c>\u001b[0m in \u001b[0;36m<module>\u001b[0;34m\u001b[0m\n\u001b[0;32m----> 1\u001b[0;31m \u001b[0mYte\u001b[0m \u001b[0;34m=\u001b[0m \u001b[0;34m{\u001b[0m\u001b[0;34m'Prediction'\u001b[0m \u001b[0;34m:\u001b[0m \u001b[0mtest_preds\u001b[0m\u001b[0;34m}\u001b[0m\u001b[0;34m\u001b[0m\u001b[0;34m\u001b[0m\u001b[0m\n\u001b[0m\u001b[1;32m      2\u001b[0m \u001b[0mdataframe\u001b[0m \u001b[0;34m=\u001b[0m \u001b[0mpd\u001b[0m\u001b[0;34m.\u001b[0m\u001b[0mDataFrame\u001b[0m\u001b[0;34m(\u001b[0m\u001b[0mYte\u001b[0m\u001b[0;34m)\u001b[0m\u001b[0;34m\u001b[0m\u001b[0;34m\u001b[0m\u001b[0m\n\u001b[1;32m      3\u001b[0m \u001b[0mdataframe\u001b[0m\u001b[0;34m.\u001b[0m\u001b[0mindex\u001b[0m \u001b[0;34m+=\u001b[0m \u001b[0;36m1\u001b[0m\u001b[0;34m\u001b[0m\u001b[0;34m\u001b[0m\u001b[0m\n\u001b[1;32m      4\u001b[0m \u001b[0mdataframe\u001b[0m\u001b[0;34m.\u001b[0m\u001b[0mto_csv\u001b[0m\u001b[0;34m(\u001b[0m\u001b[0;34m'test_pred.csv'\u001b[0m\u001b[0;34m,\u001b[0m \u001b[0mindex_label\u001b[0m\u001b[0;34m=\u001b[0m\u001b[0;34m'Id'\u001b[0m\u001b[0;34m)\u001b[0m\u001b[0;34m\u001b[0m\u001b[0;34m\u001b[0m\u001b[0m\n",
      "\u001b[0;31mNameError\u001b[0m: name 'test_preds' is not defined"
     ]
    }
   ],
   "source": [
    "Yte = {'Prediction' : test_preds}\n",
    "dataframe = pd.DataFrame(Yte)\n",
    "dataframe.index += 1\n",
    "dataframe.to_csv('test_pred.csv', index_label='Id')"
   ]
  },
  {
   "cell_type": "code",
   "execution_count": null,
   "metadata": {},
   "outputs": [],
   "source": []
  }
 ],
 "metadata": {
  "kernelspec": {
   "display_name": "base",
   "language": "python",
   "name": "python3"
  },
  "language_info": {
   "codemirror_mode": {
    "name": "ipython",
    "version": 3
   },
   "file_extension": ".py",
   "mimetype": "text/x-python",
   "name": "python",
   "nbconvert_exporter": "python",
   "pygments_lexer": "ipython3",
   "version": "3.8.3"
  },
  "orig_nbformat": 4
 },
 "nbformat": 4,
 "nbformat_minor": 2
}

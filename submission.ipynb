{
 "cells": [
  {
   "attachments": {},
   "cell_type": "markdown",
   "metadata": {},
   "source": [
    "# Kernel on Graphs Project\n",
    "### MVA Master\n",
    "### Yannis Cattan, Eugène Berta"
   ]
  },
  {
   "cell_type": "code",
   "execution_count": 1,
   "metadata": {},
   "outputs": [],
   "source": [
    "import cvxopt\n",
    "import numpy as np\n",
    "import pandas as pd\n",
    "import pickle as pkl\n",
    "import networkx as nx\n",
    "import seaborn as sns\n",
    "import matplotlib.pyplot as plt\n",
    "\n",
    "from tqdm import tqdm\n",
    "from utils import (\n",
    "    KernelSVC,\n",
    "    WL_features,\n",
    "    WLK_linear,\n",
    "    WLK_l2_norm,\n",
    "    clean_dataset,\n",
    "    nth_order_walk,\n",
    "    get_all_atom_types,\n",
    "    stratified_cross_val,\n",
    ")"
   ]
  },
  {
   "cell_type": "code",
   "execution_count": 2,
   "metadata": {},
   "outputs": [],
   "source": [
    "cvxopt.solvers.options['show_progress'] = False"
   ]
  },
  {
   "attachments": {},
   "cell_type": "markdown",
   "metadata": {},
   "source": [
    "Reading the data:"
   ]
  },
  {
   "cell_type": "code",
   "execution_count": 3,
   "metadata": {},
   "outputs": [],
   "source": [
    "with open('data/training_data.pkl', 'rb') as file:\n",
    "    train_graphs = pkl.load(file)\n",
    "\n",
    "with open('data/test_data.pkl', 'rb') as file:\n",
    "    test_graphs = pkl.load(file)\n",
    "\n",
    "with open('data/training_labels.pkl', 'rb') as file:\n",
    "    train_labels = pkl.load(file)"
   ]
  },
  {
   "attachments": {},
   "cell_type": "markdown",
   "metadata": {},
   "source": [
    "Cleaning the data:"
   ]
  },
  {
   "cell_type": "code",
   "execution_count": 4,
   "metadata": {},
   "outputs": [],
   "source": [
    "train_graphs, train_labels = clean_dataset(train_graphs, train_labels)\n",
    "test_graphs, _ = clean_dataset(test_graphs, np.zeros(2000), discard=False)"
   ]
  },
  {
   "attachments": {},
   "cell_type": "markdown",
   "metadata": {},
   "source": [
    "Plotting a graph in the dataset:"
   ]
  },
  {
   "cell_type": "code",
   "execution_count": 5,
   "metadata": {},
   "outputs": [
    {
     "data": {
      "image/png": "[encoded data removed]",
      "text/plain": [
       "<Figure size 432x288 with 1 Axes>"
      ]
     },
     "metadata": {},
     "output_type": "display_data"
    }
   ],
   "source": [
    "idx=1\n",
    "nx.draw_networkx(train_graphs[idx], labels=get_all_atom_types(train_graphs[idx]))"
   ]
  },
  {
   "attachments": {},
   "cell_type": "markdown",
   "metadata": {},
   "source": [
    "## Building the Gram Matrix"
   ]
  },
  {
   "attachments": {},
   "cell_type": "markdown",
   "metadata": {},
   "source": [
    "### Walk kernel Gram Matrix:"
   ]
  },
  {
   "cell_type": "code",
   "execution_count": 6,
   "metadata": {},
   "outputs": [],
   "source": [
    "# n = 3\n",
    "\n",
    "# N_train = len(train_graphs)\n",
    "# indexes_train = np.arange(N_train)\n",
    "\n",
    "# N_test = len(test_graphs)\n",
    "# indexes_test = np.arange(N_test)\n",
    "\n",
    "# G_train = np.zeros((N_train, N_train))\n",
    "# for i in tqdm(range(N_train)):\n",
    "#     for j in range(i, N_train):\n",
    "#         g = nth_order_walk(train_graphs[i], train_graphs[j])\n",
    "#         G_train[i,j] = g\n",
    "#         G_train[j,i] = g"
   ]
  },
  {
   "attachments": {},
   "cell_type": "markdown",
   "metadata": {},
   "source": [
    "### Weisfeiler Lehman (WL) Gram Matrix:"
   ]
  },
  {
   "attachments": {},
   "cell_type": "markdown",
   "metadata": {},
   "source": [
    "Explicit features computation:"
   ]
  },
  {
   "cell_type": "code",
   "execution_count": 6,
   "metadata": {},
   "outputs": [],
   "source": [
    "h = 3\n",
    "\n",
    "N_train = len(train_graphs)\n",
    "indexes_train = np.arange(N_train)\n",
    "\n",
    "N_test = len(test_graphs)\n",
    "indexes_test = np.arange(N_test)\n",
    "\n",
    "X_train = []\n",
    "for i in indexes_train:\n",
    "    X_train.append(WL_features(train_graphs[i], max_iter=h-1))\n",
    "\n",
    "X_test = []\n",
    "for i in indexes_test:\n",
    "    X_test.append(WL_features(test_graphs[i], max_iter=h-1))"
   ]
  },
  {
   "attachments": {},
   "cell_type": "markdown",
   "metadata": {},
   "source": [
    "#### Linear Kernel:"
   ]
  },
  {
   "cell_type": "code",
   "execution_count": 7,
   "metadata": {},
   "outputs": [],
   "source": [
    "# G_train_lin = np.zeros((N_train, N_train))\n",
    "# for i in tqdm(range(N_train)):\n",
    "#     for j in range(i, N_train):\n",
    "#         g = WLK_linear(X_train[i], X_train[j])\n",
    "#         G_train_lin[i,j] = g\n",
    "#         G_train_lin[j,i] = g"
   ]
  },
  {
   "cell_type": "code",
   "execution_count": 8,
   "metadata": {},
   "outputs": [],
   "source": [
    "# # Matrix normalization:\n",
    "# Norm = np.zeros((N_train, N_train))\n",
    "# for i in tqdm(range(N_train)):\n",
    "#     for j in range(i, N_train):\n",
    "#         n = np.sqrt(G_train_lin[i,i]*G_train_lin[j,j])\n",
    "#         Norm[i,j] = n\n",
    "#         Norm[j,i] = n\n",
    "\n",
    "# G_train_lin = np.divide(G_train_lin, Norm)"
   ]
  },
  {
   "cell_type": "code",
   "execution_count": 9,
   "metadata": {},
   "outputs": [],
   "source": [
    "# G_test_lin = np.zeros((N_test, N_train))\n",
    "# for i in tqdm(range(N_test)):\n",
    "#     for j in range(N_train):\n",
    "#         G_test_lin[i,j] = WLK_linear(X_test[i], X_train[j]) # / np.sqrt(WLK_linear(X_test[i], X_test[i]) * WLK_linear(X_train[j], X_train[j]))"
   ]
  },
  {
   "attachments": {},
   "cell_type": "markdown",
   "metadata": {},
   "source": [
    "#### RBF Kernel:"
   ]
  },
  {
   "attachments": {},
   "cell_type": "markdown",
   "metadata": {},
   "source": [
    "Squared euclidean distance:"
   ]
  },
  {
   "cell_type": "code",
   "execution_count": 10,
   "metadata": {},
   "outputs": [
    {
     "name": "stderr",
     "output_type": "stream",
     "text": [
      "100%|██████████| 6000/6000 [03:30<00:00, 28.55it/s] \n"
     ]
    }
   ],
   "source": [
    "G_train_dist = np.zeros((N_train, N_train))\n",
    "for i in tqdm(range(N_train)):\n",
    "    for j in range(i, N_train):\n",
    "        G_train_dist[i,j] = WLK_l2_norm(X_train[i], X_train[j])\n",
    "        G_train_dist[j,i] = G_train_dist[i,j]"
   ]
  },
  {
   "cell_type": "code",
   "execution_count": 11,
   "metadata": {},
   "outputs": [
    {
     "name": "stderr",
     "output_type": "stream",
     "text": [
      "100%|██████████| 2000/2000 [02:45<00:00, 12.06it/s]\n"
     ]
    }
   ],
   "source": [
    "G_test_dist = np.zeros((N_test, N_train))\n",
    "for i in tqdm(range(N_test)):\n",
    "    for j in range(N_train):\n",
    "        G_test_dist[i,j] = WLK_l2_norm(X_test[i], X_train[j])"
   ]
  },
  {
   "attachments": {},
   "cell_type": "markdown",
   "metadata": {},
   "source": [
    "RBF Kernel:"
   ]
  },
  {
   "cell_type": "code",
   "execution_count": 12,
   "metadata": {},
   "outputs": [],
   "source": [
    "sigma = 4.\n",
    "G_train_rbf = np.exp(-0.5*G_train_dist/(sigma**2))\n",
    "G_test_rbf = np.exp(-0.5*G_test_dist/(sigma**2))"
   ]
  },
  {
   "attachments": {},
   "cell_type": "markdown",
   "metadata": {},
   "source": [
    "### Fitting KNN to check for signal in the Gram Matrix"
   ]
  },
  {
   "cell_type": "code",
   "execution_count": null,
   "metadata": {},
   "outputs": [],
   "source": [
    "# y_pred = kNN(G_val, y_train, k=1)\n",
    "\n",
    "# cm = confusion_matrix(y_val, y_pred)\n",
    "# disp = ConfusionMatrixDisplay(confusion_matrix=cm,)\n",
    "# disp.plot()\n",
    "# plt.show()\n",
    "\n",
    "# y_pred.sum()/len(y_pred)"
   ]
  },
  {
   "attachments": {},
   "cell_type": "markdown",
   "metadata": {},
   "source": [
    "## SVM with Cross Validation:"
   ]
  },
  {
   "attachments": {},
   "cell_type": "markdown",
   "metadata": {},
   "source": [
    "Cross validation:"
   ]
  },
  {
   "cell_type": "code",
   "execution_count": 13,
   "metadata": {},
   "outputs": [
    {
     "name": "stdout",
     "output_type": "stream",
     "text": [
      "##### 6-FOLD CROSS VAL: starting fold 1 #####\n",
      "Percentage of positive values: 9.241848%%\n",
      "Val score: 0.9112311117426934\n",
      "##### 6-FOLD CROSS VAL: starting fold 2 #####\n",
      "Percentage of positive values: 9.241848%%\n",
      "Val score: 0.9162225853820283\n",
      "##### 6-FOLD CROSS VAL: starting fold 3 #####\n",
      "Percentage of positive values: 9.241848%%\n",
      "Val score: 0.9030244896025768\n",
      "##### 6-FOLD CROSS VAL: starting fold 4 #####\n",
      "Percentage of positive values: 9.258148%%\n",
      "Val score: 0.9356095105699631\n",
      "##### 6-FOLD CROSS VAL: starting fold 5 #####\n",
      "Percentage of positive values: 9.258148%%\n",
      "Val score: 0.9217379320262691\n",
      "##### 6-FOLD CROSS VAL: starting fold 6 #####\n",
      "Percentage of positive values: 9.258148%%\n",
      "Val score: 0.9167825128229711\n",
      "\n",
      "Mean score: 0.9174346903577503\n"
     ]
    }
   ],
   "source": [
    "C = 0.5\n",
    "class_weights={-1:1, 1:5}\n",
    "\n",
    "models, scores, test_preds = stratified_cross_val(\n",
    "    n_fold=6,\n",
    "    G_train=G_train_rbf,\n",
    "    train_labels=train_labels,\n",
    "    G_test=G_test_rbf,\n",
    "    C=C,\n",
    "    class_weights=class_weights,\n",
    "    verbose=True,\n",
    "    seed=42\n",
    ")\n",
    "y_test_pred = np.mean(test_preds, axis=0)\n",
    "\n",
    "print(f'\\nMean score: {np.mean(scores)}')"
   ]
  },
  {
   "attachments": {},
   "cell_type": "markdown",
   "metadata": {},
   "source": [
    "## Parameters grid search:"
   ]
  },
  {
   "cell_type": "code",
   "execution_count": null,
   "metadata": {},
   "outputs": [],
   "source": [
    "# sigmas = [3., 4., 5., 6., 7.]\n",
    "# Cs = [0.2, 0.5, 1., 2.]\n",
    "# class_weights = [{-1:1, 1:1}, {-1:1, 1:5}, {-1:1, 1:10}]\n",
    "\n",
    "# results = []\n",
    "\n",
    "# best_score = 0\n",
    "# y_test_pred = np.zeros(2000)\n",
    "\n",
    "# for sigma in sigmas:\n",
    "#     print(f'#### sigma = {sigma} ####')\n",
    "#     G_train_rbf = np.exp(-0.5*G_train_dist/(sigma**2))\n",
    "#     G_test_rbf = np.exp(-0.5*G_test_dist/(sigma**2))\n",
    "\n",
    "#     for C in Cs:\n",
    "#         for class_weight in class_weights:\n",
    "#             models, scores, test_preds = stratified_cross_val(\n",
    "#                 G_train=G_train_rbf,\n",
    "#                 train_labels=train_labels,\n",
    "#                 G_test=G_test_rbf,\n",
    "#                 C=C,\n",
    "#                 class_weights=class_weight,\n",
    "#                 seed=42,\n",
    "#                 verbose=False,\n",
    "#                 n_fold=6\n",
    "#             )\n",
    "\n",
    "#             mean_score = np.mean(scores)\n",
    "\n",
    "#             parameters = {\n",
    "#                 'h':3,\n",
    "#                 'class_weights':class_weight,\n",
    "#                 'clean_data':True,\n",
    "#                 'sigma':sigma,\n",
    "#                 'C':C,\n",
    "#                 'mean_score':mean_score\n",
    "#             }\n",
    "\n",
    "#             results.append(parameters)\n",
    "\n",
    "#             if mean_score > best_score:\n",
    "#                 best_score = mean_score\n",
    "#                 y_test_pred = np.mean(test_preds, axis=0)\n",
    "#                 print(f'New best model \\n   sigma = {sigma}, C = {C}, class_weights = {class_weight} \\n   score = {mean_score}')\n",
    "\n",
    "# y_test_pred = np.mean(test_preds, axis=0)\n",
    "\n",
    "# dataframe = pd.DataFrame(results)\n",
    "# dataframe.to_csv('grid_search_results.csv')"
   ]
  },
  {
   "attachments": {},
   "cell_type": "markdown",
   "metadata": {},
   "source": [
    "Plotting grid search results:"
   ]
  },
  {
   "cell_type": "code",
   "execution_count": 23,
   "metadata": {},
   "outputs": [
    {
     "data": {
      "image/png": "[encoded data removed]",
      "text/plain": [
       "<Figure size 504x648 with 1 Axes>"
      ]
     },
     "metadata": {
      "needs_background": "light"
     },
     "output_type": "display_data"
    }
   ],
   "source": [
    "df = pd.read_csv('/home/eugene/code/mva-kernel/grid_search_results.csv')\n",
    "df = df[df['class_weights'].isin(['{-1: 1, 1: 5}', '{-1: 1, 1: 10}'])]\n",
    "df['parameters'] = df.apply(lambda x: f's={x.sigma}, w={x.class_weights[-3:-1]}', axis=1)\n",
    "\n",
    "table = df.pivot(\"parameters\", \"C\", \"mean_score\")\n",
    "\n",
    "f, ax = plt.subplots(figsize=(7, 9))\n",
    "sns.heatmap(\n",
    "    table,\n",
    "    annot=True,\n",
    "    fmt='.3f',\n",
    "    linewidths=.5,\n",
    "    ax=ax,\n",
    "    cmap='coolwarm',\n",
    "    cbar=False,\n",
    "    #cbar_kws={\"shrink\": 0.8}\n",
    ")\n",
    "\n",
    "ax.set_title('6-fold cross validation mean ROC AUC score for different parameters.', weight='bold')\n",
    "ax.set_xlabel('C')\n",
    "ax.set_ylabel('RBF Kernel variance, weight of positive class in SVC')\n",
    "\n",
    "plt.show()"
   ]
  },
  {
   "attachments": {},
   "cell_type": "markdown",
   "metadata": {},
   "source": [
    "## Submission:"
   ]
  },
  {
   "cell_type": "code",
   "execution_count": 24,
   "metadata": {},
   "outputs": [],
   "source": [
    "Yte = {'Predicted' : np.array(y_test_pred, dtype=np.float32)}\n",
    "dataframe = pd.DataFrame(Yte)\n",
    "dataframe.index += 1\n",
    "dataframe.to_csv('test_pred.csv', index_label='Id')"
   ]
  },
  {
   "cell_type": "code",
   "execution_count": null,
   "metadata": {},
   "outputs": [],
   "source": []
  }
 ],
 "metadata": {
  "kernelspec": {
   "display_name": "base",
   "language": "python",
   "name": "python3"
  },
  "language_info": {
   "codemirror_mode": {
    "name": "ipython",
    "version": 3
   },
   "file_extension": ".py",
   "mimetype": "text/x-python",
   "name": "python",
   "nbconvert_exporter": "python",
   "pygments_lexer": "ipython3",
   "version": "3.8.3"
  },
  "orig_nbformat": 4,
  "vscode": {
   "interpreter": {
    "hash": "aa7fd171edea70162c6c34f7ecea403c9a39aa61b85bda32e7029ace69d8fb03"
   }
  }
 },
 "nbformat": 4,
 "nbformat_minor": 2
}
